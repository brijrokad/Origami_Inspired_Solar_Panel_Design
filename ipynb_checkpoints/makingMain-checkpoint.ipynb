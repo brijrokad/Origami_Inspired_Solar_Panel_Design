{
 "cells": [
  {
   "cell_type": "code",
   "execution_count": 0,
   "metadata": {
    "colab": {},
    "colab_type": "code",
    "id": "kHfqUWQTf2PG"
   },
   "outputs": [],
   "source": [
    "#import API\n",
    "from solarPanelAPI_V2 import *"
   ]
  },
  {
   "cell_type": "code",
   "execution_count": 0,
   "metadata": {
    "colab": {},
    "colab_type": "code",
    "id": "j3Lyorhzf2PZ"
   },
   "outputs": [],
   "source": [
    "###global params\n",
    "\n",
    "#solar panel dimensions\n",
    "l = 65\n",
    "w = 39\n",
    "\n",
    "#cut parameters\n",
    "maxCuts = 6\n",
    "res = 6\n",
    "\n",
    "#param min/max values\n",
    "zMin = 32\n",
    "zMax = 72\n",
    "\n",
    "tMin = -90\n",
    "tMax = 90\n",
    "\n",
    "aMin = 0\n",
    "aMax = 360\n",
    "\n",
    "#thresholds\n",
    "zThresh = 20 #inches\n",
    "tThresh = 90 #degrees\n",
    "aThresh = 45 #degrees\n",
    "\n",
    "#population size\n",
    "popSize = 100\n",
    "\n",
    "#mutation probability\n",
    "pm = 0.5\n",
    "\n",
    "#conflict deduction\n",
    "conflictDeduction = 50\n",
    "\n",
    "#initializing the fitness evaluations\n",
    "currFitCount = 0\n",
    "\n",
    "'''\n",
    "parameters for pvlib\n",
    "\n",
    "'''\n",
    "#Athens, Ga Lat/long\n",
    "latitude = 33.957409\n",
    "longitude = -83.376801\n",
    "\n",
    "#Creating DateTimeIndex\n",
    "df = pd.DataFrame({'date': ['2012-07-01 11:00:00','2012-07-01 12:00:00',\n",
    "                            '2012-07-01 13:00:00','2012-07-01 14:00:00','2012-07-01 15:00:00','2012-07-01 16:00:00'\n",
    "                           '2012-07-01 17:00:00','2012-07-01 18:00:00','2012-07-01 19:00:00'],\n",
    "                  }).set_index('date')\n",
    "\n",
    "#Creating DatetimeIndex Object\n",
    "df.index = pd.DatetimeIndex(df.index)\n",
    "    \n",
    "    \n",
    "#Needed paramters for the basic chain model\n",
    "#These are constant through the whole simulation\n",
    "cec_mod = pvsystem.retrieve_sam('SandiaMod')\n",
    "cec_inv = pvsystem.retrieve_sam('CECInverter')\n",
    "sapm = cec_mod['Advent_Solar_AS160___2006_']\n",
    "cec = cec_inv['ABB__MICRO_0_3_I_OUTD_US_208_208V__CEC_2014_']"
   ]
  },
  {
   "cell_type": "code",
   "execution_count": 0,
   "metadata": {
    "colab": {},
    "colab_type": "code",
    "id": "S9RAKm5Ef2Pl"
   },
   "outputs": [],
   "source": [
    "###initialization\n",
    "\n",
    "#initial population\n",
    "pop = makePopulation(popSize, l, w, maxCuts, zMin, zMax, tMin, tMax, aMin, aMax, res)\n",
    "\n",
    "#initial fitness list\n",
    "fitnessList = getPopFitness(pop, l, w, zMin, zMax, tMin, tMax, aMin, aMax, currFitCount, \n",
    "                            sapm, cec, df, latitude, longitude, res, zThresh, tThresh, aThresh, conflictDeduction)\n"
   ]
  },
  {
   "cell_type": "code",
   "execution_count": 0,
   "metadata": {
    "colab": {},
    "colab_type": "code",
    "id": "aayxCtvRf2Px",
    "outputId": "d8357880-886d-4410-f151-59d96272b85c"
   },
   "outputs": [
    {
     "name": "stdout",
     "output_type": "stream",
     "text": [
      "[472.3634105750573, 608.0722985393368, 422.9975245351128, 488.64553681780893, 338.41749213454324, 184.74498871061553, 338.73419261829156, 232.9334291883232, 403.1958381226125, 478.81986946391703, 300.81701121630647, 266.6280581598985, 566.2560163738387, 164.00762021097734, 440.7230476004403, 542.8928149750711, 350.66123833830363, 367.7575301838864, 515.529513925689, 256.10662525277723, 522.337745889692, 214.5637167136863, 285.53442959450865, 228.24222550546983, 475.69651882985363, 149.15004639559072, 237.647779372385, 414.7296340671553, 571.2921882294529, 120.14197172060119, 283.5313496392939, 611.7306679279752, 489.5318382075851, 172.823078374003, 628.1344357857304, 504.23130424230146, 517.0696008797817, 531.2135331890685, 441.8017879550539, 499.94848199071123, 507.05268688069293, 512.2599066422986, 489.08542554796406, 518.7592172454133, 520.6333004936184, 210.4897977502714, 144.8309728145947, 640.940467739548, 504.85604870571046, 602.2571108876051, 146.21967931576313, 218.7284185411629, 295.926426629803, 476.09150240379734, 227.09015773676822, 428.08487580258736, 443.7689415129406, 323.9945121622917, 425.2503972291255, 357.8957895415133, 476.6794077560128, 166.0931774943324, 350.7401865295674, 298.8037545784676, 512.7528986161691, 123.48360237433275, 6.872230133216078, 353.6059294571932, 352.8845937728936, 439.2528386407614, 275.7958496569473, 91.77925006482627, 62.71418816042012, 355.5181815557547, 389.0389258781761, 465.3145361634756, 545.5126475069767, 390.8486329073362, 480.9301084958986, 254.16661299414307, 194.57569687723247, 267.24292564578826, 535.0198287791367, 409.7609515719409, 298.1525313771727, 203.78468875421166, 512.1217793073295, 193.96105451187304, 439.3957463421476, 487.19774575042277, 229.2822089629217, 161.44182146244782, 269.2429541250408, 393.4863192003595, 338.29310664553924, 130.2607524444344, 385.8994295393885, 49.90045955478081, 575.6100235041042, 326.976810356461]\n",
      "[472.3634105750573, 608.0722985393368, 422.9975245351128, 488.64553681780893, 338.41749213454324, 489.3957463421476, 338.73419261829156, 232.9334291883232, 403.1958381226125, 478.81986946391703, 300.81701121630647, 266.6280581598985, 566.2560163738387, 388.8106119147392, 440.7230476004403, 542.8928149750711, 350.66123833830363, 367.7575301838864, 515.529513925689, 256.10662525277723, 522.337745889692, 254.65468428286363, 285.53442959450865, 228.24222550546983, 475.69651882985363, 478.81986946391703, 237.647779372385, 414.7296340671553, 571.2921882294529, 658.0722985393368, 283.5313496392939, 611.7306679279752, 489.5318382075851, 517.2586388446841, 628.1344357857304, 504.23130424230146, 517.0696008797817, 531.2135331890685, 441.8017879550539, 499.94848199071123, 507.05268688069293, 512.2599066422986, 489.08542554796406, 518.7592172454133, 520.6333004936184, 294.9469829961843, 316.07152091563586, 640.940467739548, 504.85604870571046, 602.2571108876051, 333.36901459853607, 218.7284185411629, 295.926426629803, 476.09150240379734, 227.09015773676822, 428.08487580258736, 443.7689415129406, 323.9945121622917, 425.2503972291255, 357.8957895415133, 476.6794077560128, 217.19542609019777, 350.7401865295674, 298.8037545784676, 512.7528986161691, 520.179543328515, 478.81986946391703, 353.6059294571932, 352.8845937728936, 439.2528386407614, 275.7958496569473, 548.38717596697, 366.4896352938679, 355.5181815557547, 389.0389258781761, 465.3145361634756, 545.5126475069767, 390.8486329073362, 480.9301084958986, 254.16661299414307, 478.81986946391703, 267.24292564578826, 535.0198287791367, 409.7609515719409, 298.1525313771727, 250.74018652956738, 512.1217793073295, 475.6100235041042, 439.3957463421476, 487.19774575042277, 229.2822089629217, 329.3112774456381, 269.2429541250408, 393.4863192003595, 338.29310664553924, 293.39168556240213, 385.8994295393885, 478.81986946391703, 575.6100235041042, 326.976810356461]\n"
     ]
    },
    {
     "ename": "NameError",
     "evalue": "name 'getBest' is not defined",
     "output_type": "error",
     "traceback": [
      "\u001b[1;31m---------------------------------------------------------------------------\u001b[0m",
      "\u001b[1;31mNameError\u001b[0m                                 Traceback (most recent call last)",
      "\u001b[1;32m<ipython-input-11-21677682312d>\u001b[0m in \u001b[0;36m<module>\u001b[1;34m()\u001b[0m\n\u001b[0;32m     34\u001b[0m \u001b[0mprint\u001b[0m\u001b[1;33m(\u001b[0m\u001b[0mfitnessList\u001b[0m\u001b[1;33m)\u001b[0m\u001b[1;33m\u001b[0m\u001b[0m\n\u001b[0;32m     35\u001b[0m \u001b[1;33m\u001b[0m\u001b[0m\n\u001b[1;32m---> 36\u001b[1;33m \u001b[0mbestStuff\u001b[0m \u001b[1;33m=\u001b[0m \u001b[0mgetBest\u001b[0m\u001b[1;33m(\u001b[0m\u001b[0mpopulation\u001b[0m\u001b[1;33m,\u001b[0m \u001b[0mfitnessFunc\u001b[0m\u001b[1;33m,\u001b[0m \u001b[0moptimize\u001b[0m\u001b[1;33m=\u001b[0m\u001b[1;34m'min'\u001b[0m\u001b[1;33m)\u001b[0m\u001b[1;33m\u001b[0m\u001b[0m\n\u001b[0m\u001b[0;32m     37\u001b[0m \u001b[1;33m\u001b[0m\u001b[0m\n\u001b[0;32m     38\u001b[0m \u001b[1;32mreturn\u001b[0m \u001b[0mbestStuff\u001b[0m\u001b[1;33m\u001b[0m\u001b[0m\n",
      "\u001b[1;31mNameError\u001b[0m: name 'getBest' is not defined"
     ]
    }
   ],
   "source": [
    "###iterative part\n",
    "\n",
    "i = 1\n",
    "for ind in pop:\n",
    "    #print(\"intitial individual \" + str(i) + \".: \" + str(ind))\n",
    "    i += 1\n",
    "\n",
    "print(fitnessList)\n",
    "    \n",
    "#amount to iterate\n",
    "iterations = 10\n",
    "\n",
    "#begin to iterate through\n",
    "\n",
    "for i in range(iterations):\n",
    "    ##parent selection\n",
    "    parent1, parent2 = tournamentSelection(pop, fitnessList, optimize='max')\n",
    "    ##crossover\n",
    "    child1, child2 = onePointCrossover(parent1, parent2)\n",
    "    #mutation of children based on probability\n",
    "    #child1\n",
    "    child1 = mutation(child1, pm, l, w, zMin, zMax, tMin, tMax, aMin, aMax, res, zThresh, tThresh, aThresh)\n",
    "    #child2\n",
    "    child2 = mutation(child2, pm, l, w, zMin, zMax, tMin, tMax, aMin, aMax, res, zThresh, tThresh, aThresh)\n",
    "    ##survival selection\n",
    "    pop, fitnessList, currFitCount  = replaceWorst(pop, child1, child2, fitnessList, l, w, zMin, zMax, tMin, \n",
    "                                    tMax, aMin, aMax, sapm, cec, df, latitude, longitude, currFitCount, res, \n",
    "                                    zThresh, tThresh, aThresh, conflictDeduction, optimize='max')\n",
    "\n",
    "i = 1\n",
    "for ind in pop:\n",
    "    #print(\"final individual \" + str(i) + \".: \" + str(ind))\n",
    "    i += 1\n",
    "\n",
    "print(fitnessList)\n"
   ]
  },
  {
   "cell_type": "code",
   "execution_count": 0,
   "metadata": {
    "colab": {},
    "colab_type": "code",
    "id": "r7XvLuWff2P6"
   },
   "outputs": [],
   "source": []
  }
 ],
 "metadata": {
  "colab": {
   "name": "makingMain.ipynb",
   "provenance": [],
   "version": "0.3.2"
  },
  "kernelspec": {
   "display_name": "Python 3",
   "language": "python",
   "name": "python3"
  },
  "language_info": {
   "codemirror_mode": {
    "name": "ipython",
    "version": 3
   },
   "file_extension": ".py",
   "mimetype": "text/x-python",
   "name": "python",
   "nbconvert_exporter": "python",
   "pygments_lexer": "ipython3",
   "version": "3.7.0"
  }
 },
 "nbformat": 4,
 "nbformat_minor": 1
}
