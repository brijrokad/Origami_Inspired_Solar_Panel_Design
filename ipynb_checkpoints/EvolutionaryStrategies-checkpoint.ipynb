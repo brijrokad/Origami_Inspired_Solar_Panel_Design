{
 "cells": [
  {
   "cell_type": "code",
   "execution_count": null,
   "metadata": {},
   "outputs": [],
   "source": [
    "#import API\n",
    "from solarPanelAPI_V5_copy import *\n",
    "import time"
   ]
  },
  {
   "cell_type": "code",
   "execution_count": null,
   "metadata": {},
   "outputs": [],
   "source": [
    "###metaparameters\n",
    "#initial solar panel dimensions\n",
    "l = 65\n",
    "w = 39\n",
    "\n",
    "#max number of possible cuts\n",
    "maxCuts = 6\n",
    "\n",
    "#resolution of cuts\n",
    "res = 6\n",
    "\n",
    "#param boundaries\n",
    "zMin = 32\n",
    "zMax = 72\n",
    "\n",
    "tMin = 0\n",
    "tMax = 90\n",
    "\n",
    "aMin = 0\n",
    "aMax = 360\n",
    "\n",
    "#Thresholds\n",
    "zThresh = 20 #inches\n",
    "tThresh = 90 #degrees\n",
    "aThresh = 45 #degrees\n",
    "\n",
    "popSize = 100\n",
    "conflictDeductions = 50\n",
    "currFitCount = 0\n",
    "\n",
    "#parameters for pvlib\n",
    "#Athens, Ga Lat/long\n",
    "latitude = 33.957409\n",
    "longitude = -83.376801\n",
    "\n",
    "#Creating DateTimeIndex\n",
    "df = pd.DataFrame({'date': ['2012-07-01 11:00:00','2012-07-01 12:00:00','2012-07-01 13:00:00','2012-07-01 14:00:00',\n",
    "                            '2012-07-01 15:00:00','2012-07-01 16:00:00''2012-07-01 17:00:00','2012-07-01 18:00:00',\n",
    "                            '2012-07-01 19:00:00']}).set_index('date')\n",
    "\n",
    "#Creating DatetimeIndex Object\n",
    "df.index = pd.DatetimeIndex(df.index)\n",
    "\n",
    "\n",
    "#Needed paramters for the basic chain model\n",
    "#These are constant through the whole simulation\n",
    "cec_mod = pvsystem.retrieve_sam('SandiaMod')\n",
    "cec_inv = pvsystem.retrieve_sam('CECInverter')\n",
    "sapm = cec_mod['Advent_Solar_AS160___2006_']\n",
    "cec = cec_inv['ABB__MICRO_0_3_I_OUTD_US_208_208V__CEC_2014_']"
   ]
  },
  {
   "cell_type": "code",
   "execution_count": null,
   "metadata": {},
   "outputs": [],
   "source": [
    "population = makePopulation(popSize, l, w, maxCuts, zMin, zMax, tMin, tMax, aMin, aMax, res)\n",
    "popFitness, currFitCount = getPopFitness(population, l, w, zMin, zMax, tMin, tMax, aMin, aMax, currFitCount, \n",
    "                                         sapm, cec, df, latitude, longitude, res, zThresh, tThresh, aThresh, \n",
    "                                         conflictDeductions)\n",
    "popSigmas = createPopSigmas(popSize)\n",
    "lambdaPop = getLambdaGeneration(population, popSigmas, popFitness, l, w, sapm, cec, df, latitude, longitude, \n",
    "                                currFitCount, maxCuts, zMin, zMax, tMin, tMax, aMin, aMax, res, conflictDeductions,\n",
    "                                zThresh, tThresh, aThresh)\n",
    "\n"
   ]
  },
  {
   "cell_type": "code",
   "execution_count": null,
   "metadata": {},
   "outputs": [],
   "source": []
  }
 ],
 "metadata": {
  "kernelspec": {
   "display_name": "Python 3",
   "language": "python",
   "name": "python3"
  },
  "language_info": {
   "codemirror_mode": {
    "name": "ipython",
    "version": 3
   },
   "file_extension": ".py",
   "mimetype": "text/x-python",
   "name": "python",
   "nbconvert_exporter": "python",
   "pygments_lexer": "ipython3",
   "version": "3.7.0"
  }
 },
 "nbformat": 4,
 "nbformat_minor": 2
}
