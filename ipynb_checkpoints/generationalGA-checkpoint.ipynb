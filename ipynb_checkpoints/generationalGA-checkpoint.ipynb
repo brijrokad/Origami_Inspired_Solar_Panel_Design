{
 "cells": [
  {
   "cell_type": "code",
   "execution_count": 1,
   "metadata": {
    "colab": {},
    "colab_type": "code",
    "collapsed": true,
    "id": "kHfqUWQTf2PG"
   },
   "outputs": [],
   "source": [
    "#import API\n",
    "from solarPanelAPI_V3 import *\n",
    "import time\n",
    "import pandas as pd"
   ]
  },
  {
   "cell_type": "code",
   "execution_count": 9,
   "metadata": {},
   "outputs": [
    {
     "name": "stdout",
     "output_type": "stream",
     "text": [
      "generation 0\n",
      "current average fitness: 537.9037531972787\n",
      "  \n",
      "generation 10\n",
      "current average fitness: 498.9009368926189\n",
      "  \n",
      "generation 20\n",
      "current average fitness: 490.9011097998597\n",
      "  \n",
      "generation 30\n",
      "current average fitness: 499.9011839029628\n",
      "  \n",
      "finished\n",
      "total number of generations: 32\n",
      "best individual: [1, 0, 0, 1, 0, 0, 0, 1, 0, 0, 0, 0, 1, 0, 0, 0, 65, 14, 74, 71, 52, 355, 35, 45, 165, 32, -71, 38, 68, 10, 121, 33, -33, 284, 63, 67, 195, 41, 62, 326, 38, 60, 76, 57, -79, 101, 47, 14, 181, 70, 19, 257, 52, -11, 211, 47, 16, 223, 47, -90, 46, 32, 89, 66]\n",
      "best fitness: 666.4017273257205\n",
      "generation 0\n",
      "current average fitness: 527.9021080862781\n",
      "  \n",
      "generation 10\n",
      "current average fitness: 547.40155406859\n",
      "  \n",
      "generation 20\n",
      "current average fitness: 564.4013247000872\n",
      "  \n",
      "generation 30\n",
      "current average fitness: 564.4012707126135\n",
      "  \n",
      "finished\n",
      "total number of generations: 32\n",
      "best individual: [0, 0, 0, 0, 0, 0, 0, 1, 1, 0, 1, 0, 0, 0, 0, 0, 54, 72, 180, 61, -17, 99, 62, -10, 40, 47, 83, 289, 49, 18, 230, 36, -67, 294, 52, 40, 358, 53, 57, 106, 53, 37, 77, 54, 70, 279, 37, 86, 74, 41, 75, 331, 71, -85, 108, 41, -52, 356, 72, -17, 327, 50, 8, 273]\n",
      "best fitness: 666.4017273257205\n",
      "  \n",
      "list of best individuals found for each attempt: [[1, 0, 0, 1, 0, 0, 0, 1, 0, 0, 0, 0, 1, 0, 0, 0, 65, 14, 74, 71, 52, 355, 35, 45, 165, 32, -71, 38, 68, 10, 121, 33, -33, 284, 63, 67, 195, 41, 62, 326, 38, 60, 76, 57, -79, 101, 47, 14, 181, 70, 19, 257, 52, -11, 211, 47, 16, 223, 47, -90, 46, 32, 89, 66], [0, 0, 0, 0, 0, 0, 0, 1, 1, 0, 1, 0, 0, 0, 0, 0, 54, 72, 180, 61, -17, 99, 62, -10, 40, 47, 83, 289, 49, 18, 230, 36, -67, 294, 52, 40, 358, 53, 57, 106, 53, 37, 77, 54, 70, 279, 37, 86, 74, 41, 75, 331, 71, -85, 108, 41, -52, 356, 72, -17, 327, 50, 8, 273]]\n",
      "list of best fitnesses found for each attempt: [666.4017273257205, 666.4017273257205]\n",
      "list of average fitness lists: [[537.9037531972787, 498.9009368926189, 490.9011097998597, 499.9011839029628], [527.9021080862781, 547.40155406859, 564.4013247000872, 564.4012707126135]]\n"
     ]
    }
   ],
   "source": [
    "#test for generationalGA\n",
    "panelParams = [65, 39, 6, 6, 32, 72, -90, 90, 0, 360, 20, 90, 45]\n",
    "popSize = 100\n",
    "pm = 0.5\n",
    "numMutations = 10\n",
    "fitnessCountLimit = 3200\n",
    "attempts = 30\n",
    "checkGeneration = 4\n",
    "conflictDeduction = 50\n",
    "\n",
    "\n",
    "bestDf, avgDf = generationalGA(panelParams, popSize, pm, numMutations, fitnessCountLimit, attempts, \n",
    "                               checkGeneration, conflictDeduction, True)"
   ]
  },
  {
   "cell_type": "code",
   "execution_count": 10,
   "metadata": {},
   "outputs": [
    {
     "data": {
      "text/html": [
       "<div>\n",
       "<style scoped>\n",
       "    .dataframe tbody tr th:only-of-type {\n",
       "        vertical-align: middle;\n",
       "    }\n",
       "\n",
       "    .dataframe tbody tr th {\n",
       "        vertical-align: top;\n",
       "    }\n",
       "\n",
       "    .dataframe thead th {\n",
       "        text-align: right;\n",
       "    }\n",
       "</style>\n",
       "<table border=\"1\" class=\"dataframe\">\n",
       "  <thead>\n",
       "    <tr style=\"text-align: right;\">\n",
       "      <th></th>\n",
       "      <th>best individuals</th>\n",
       "      <th>best Fitnesses</th>\n",
       "    </tr>\n",
       "  </thead>\n",
       "  <tbody>\n",
       "    <tr>\n",
       "      <th>0</th>\n",
       "      <td>[1, 0, 0, 1, 0, 0, 0, 1, 0, 0, 0, 0, 1, 0, 0, ...</td>\n",
       "      <td>666.401727</td>\n",
       "    </tr>\n",
       "    <tr>\n",
       "      <th>1</th>\n",
       "      <td>[0, 0, 0, 0, 0, 0, 0, 1, 1, 0, 1, 0, 0, 0, 0, ...</td>\n",
       "      <td>666.401727</td>\n",
       "    </tr>\n",
       "  </tbody>\n",
       "</table>\n",
       "</div>"
      ],
      "text/plain": [
       "                                    best individuals  best Fitnesses\n",
       "0  [1, 0, 0, 1, 0, 0, 0, 1, 0, 0, 0, 0, 1, 0, 0, ...      666.401727\n",
       "1  [0, 0, 0, 0, 0, 0, 0, 1, 1, 0, 1, 0, 0, 0, 0, ...      666.401727"
      ]
     },
     "execution_count": 10,
     "metadata": {},
     "output_type": "execute_result"
    }
   ],
   "source": [
    "bestDf"
   ]
  },
  {
   "cell_type": "code",
   "execution_count": 11,
   "metadata": {},
   "outputs": [
    {
     "data": {
      "text/html": [
       "<div>\n",
       "<style scoped>\n",
       "    .dataframe tbody tr th:only-of-type {\n",
       "        vertical-align: middle;\n",
       "    }\n",
       "\n",
       "    .dataframe tbody tr th {\n",
       "        vertical-align: top;\n",
       "    }\n",
       "\n",
       "    .dataframe thead th {\n",
       "        text-align: right;\n",
       "    }\n",
       "</style>\n",
       "<table border=\"1\" class=\"dataframe\">\n",
       "  <thead>\n",
       "    <tr style=\"text-align: right;\">\n",
       "      <th></th>\n",
       "      <th>generations</th>\n",
       "      <th>0</th>\n",
       "      <th>1</th>\n",
       "    </tr>\n",
       "  </thead>\n",
       "  <tbody>\n",
       "    <tr>\n",
       "      <th>0</th>\n",
       "      <td>0</td>\n",
       "      <td>537.903753</td>\n",
       "      <td>527.902108</td>\n",
       "    </tr>\n",
       "    <tr>\n",
       "      <th>1</th>\n",
       "      <td>10</td>\n",
       "      <td>498.900937</td>\n",
       "      <td>547.401554</td>\n",
       "    </tr>\n",
       "    <tr>\n",
       "      <th>2</th>\n",
       "      <td>20</td>\n",
       "      <td>490.901110</td>\n",
       "      <td>564.401325</td>\n",
       "    </tr>\n",
       "    <tr>\n",
       "      <th>3</th>\n",
       "      <td>30</td>\n",
       "      <td>499.901184</td>\n",
       "      <td>564.401271</td>\n",
       "    </tr>\n",
       "  </tbody>\n",
       "</table>\n",
       "</div>"
      ],
      "text/plain": [
       "   generations           0           1\n",
       "0            0  537.903753  527.902108\n",
       "1           10  498.900937  547.401554\n",
       "2           20  490.901110  564.401325\n",
       "3           30  499.901184  564.401271"
      ]
     },
     "execution_count": 11,
     "metadata": {},
     "output_type": "execute_result"
    }
   ],
   "source": [
    "avgDf"
   ]
  },
  {
   "cell_type": "code",
   "execution_count": 5,
   "metadata": {
    "collapsed": true
   },
   "outputs": [],
   "source": [
    "bestDf.to_csv(path_or_buf=\"generationalBest.csv\")"
   ]
  },
  {
   "cell_type": "code",
   "execution_count": 6,
   "metadata": {},
   "outputs": [],
   "source": [
    "avgDf.to_csv(path_or_buf=\"generationalAverage.csv\")"
   ]
  },
  {
   "cell_type": "code",
   "execution_count": null,
   "metadata": {
    "collapsed": true
   },
   "outputs": [],
   "source": []
  }
 ],
 "metadata": {
  "colab": {
   "name": "makingMain.ipynb",
   "provenance": [],
   "version": "0.3.2"
  },
  "kernelspec": {
   "display_name": "Python 3",
   "language": "python",
   "name": "python3"
  },
  "language_info": {
   "codemirror_mode": {
    "name": "ipython",
    "version": 3
   },
   "file_extension": ".py",
   "mimetype": "text/x-python",
   "name": "python",
   "nbconvert_exporter": "python",
   "pygments_lexer": "ipython3",
   "version": "3.7.0"
  }
 },
 "nbformat": 4,
 "nbformat_minor": 1
}
