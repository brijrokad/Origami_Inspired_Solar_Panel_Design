{
 "cells": [
  {
   "cell_type": "code",
   "execution_count": 1,
   "metadata": {
    "colab": {
     "base_uri": "https://localhost:8080/",
     "height": 375
    },
    "colab_type": "code",
    "executionInfo": {
     "elapsed": 383,
     "status": "error",
     "timestamp": 1543008217428,
     "user": {
      "displayName": "Brij Rokad",
      "photoUrl": "https://lh5.googleusercontent.com/-N6QdUUqxwPo/AAAAAAAAAAI/AAAAAAAACQ4/E7ejTCey7Qs/s64/photo.jpg",
      "userId": "07134477967020150172"
     },
     "user_tz": 300
    },
    "id": "UZD27F8_9kxF",
    "outputId": "9651121e-373d-41e7-d9c6-3cc1e212e568"
   },
   "outputs": [],
   "source": [
    "from pvlib import modelchain as mc\n",
    "from pvlib import pvsystem\n",
    "import pandas as pd\n",
    "import numpy as np\n",
    "\n",
    "import math\n"
   ]
  },
  {
   "cell_type": "code",
   "execution_count": 2,
   "metadata": {
    "colab": {},
    "colab_type": "code",
    "id": "aS_mNBA79kxe"
   },
   "outputs": [],
   "source": [
    "#DataFrame containg time and dates. I used 3 month intervales with different times each day. Can change!\n",
    "#We have it caluclating from 11Am-7Pm on August 1st.\n",
    "df = pd.DataFrame({'date': ['2012-07-01 11:00:00','2012-07-01 12:00:00',\n",
    "                            '2012-07-01 13:00:00','2012-07-01 14:00:00','2012-07-01 15:00:00','2012-07-01 16:00:00'\n",
    "                           '2012-07-01 17:00:00','2012-07-01 18:00:00','2012-07-01 19:00:00'],\n",
    "                  }).set_index('date')\n",
    "\n",
    "#Creating DatetimeIndex Object\n",
    "df.index = pd.DatetimeIndex(df.index)"
   ]
  },
  {
   "cell_type": "code",
   "execution_count": 2,
   "metadata": {
    "colab": {
     "base_uri": "https://localhost:8080/",
     "height": 236
    },
    "colab_type": "code",
    "executionInfo": {
     "elapsed": 325,
     "status": "error",
     "timestamp": 1543008184914,
     "user": {
      "displayName": "Brij Rokad",
      "photoUrl": "https://lh5.googleusercontent.com/-N6QdUUqxwPo/AAAAAAAAAAI/AAAAAAAACQ4/E7ejTCey7Qs/s64/photo.jpg",
      "userId": "07134477967020150172"
     },
     "user_tz": 300
    },
    "id": "mQAFvp689kxq",
    "outputId": "3f77c4b2-cebd-4033-dd47-ed02a7e5827b"
   },
   "outputs": [
    {
     "ename": "NameError",
     "evalue": "ignored",
     "output_type": "error",
     "traceback": [
      "\u001b[0;31m---------------------------------------------------------------------------\u001b[0m",
      "\u001b[0;31mNameError\u001b[0m                                 Traceback (most recent call last)",
      "\u001b[0;32m<ipython-input-2-9b961801ead5>\u001b[0m in \u001b[0;36m<module>\u001b[0;34m()\u001b[0m\n\u001b[1;32m      4\u001b[0m \u001b[0;31m#Needed paramters for the basic chain model\u001b[0m\u001b[0;34m\u001b[0m\u001b[0;34m\u001b[0m\u001b[0;34m\u001b[0m\u001b[0m\n\u001b[1;32m      5\u001b[0m \u001b[0;31m#These are constant through the whole simulation\u001b[0m\u001b[0;34m\u001b[0m\u001b[0;34m\u001b[0m\u001b[0;34m\u001b[0m\u001b[0m\n\u001b[0;32m----> 6\u001b[0;31m \u001b[0mcec_mod\u001b[0m \u001b[0;34m=\u001b[0m \u001b[0mpvsystem\u001b[0m\u001b[0;34m.\u001b[0m\u001b[0mretrieve_sam\u001b[0m\u001b[0;34m(\u001b[0m\u001b[0;34m'SandiaMod'\u001b[0m\u001b[0;34m)\u001b[0m\u001b[0;34m\u001b[0m\u001b[0;34m\u001b[0m\u001b[0m\n\u001b[0m\u001b[1;32m      7\u001b[0m \u001b[0mcec_inv\u001b[0m \u001b[0;34m=\u001b[0m \u001b[0mpvsystem\u001b[0m\u001b[0;34m.\u001b[0m\u001b[0mretrieve_sam\u001b[0m\u001b[0;34m(\u001b[0m\u001b[0;34m'CECInverter'\u001b[0m\u001b[0;34m)\u001b[0m\u001b[0;34m\u001b[0m\u001b[0;34m\u001b[0m\u001b[0m\n\u001b[1;32m      8\u001b[0m \u001b[0msapm\u001b[0m \u001b[0;34m=\u001b[0m \u001b[0mcec_mod\u001b[0m\u001b[0;34m[\u001b[0m\u001b[0;34m'Advent_Solar_AS160___2006_'\u001b[0m\u001b[0;34m]\u001b[0m\u001b[0;34m\u001b[0m\u001b[0;34m\u001b[0m\u001b[0m\n",
      "\u001b[0;31mNameError\u001b[0m: name 'pvsystem' is not defined"
     ]
    }
   ],
   "source": [
    "#Athens, Ga Lat/long\n",
    "latitude = 33.957409\n",
    "longitude = -83.376801\n",
    "\n",
    "#Needed paramters for the basic chain model\n",
    "#These are constant through the whole simulation\n",
    "cec_mod = pvsystem.retrieve_sam('SandiaMod')\n",
    "cec_inv = pvsystem.retrieve_sam('CECInverter')\n",
    "sapm = cec_mod['Advent_Solar_AS160___2006_']\n",
    "cec = cec_inv['ABB__MICRO_0_3_I_OUTD_US_208_208V__CEC_2014_']\n",
    "\n",
    "\n",
    "#Our basic chain model.\n",
    "#Surface_tilt is our theta\n",
    "#Surface_arimuth is our alpha\n",
    "model = mc.basic_chain(df.index, latitude, longitude , module_parameters = sapm, inverter_parameters = cec,\n",
    "               surface_tilt=-45, surface_azimuth=90)\n",
    "#Droping the columns we dont need\n",
    "power = model[0].drop(columns = ['i_sc','i_mp','v_oc','i_x','i_xx'])\n",
    "\n",
    "\n",
    "a = power['2012-07'].append(pd.DataFrame([power['2012-07'].sum(0,1)]))\n",
    "print(a)\n",
    "\n",
    "#v_mp is maximum voltage\n",
    "#p_mp is maximum power\n",
    "# 0 row is sum"
   ]
  },
  {
   "cell_type": "code",
   "execution_count": 0,
   "metadata": {
    "colab": {
     "base_uri": "https://localhost:8080/",
     "height": 35
    },
    "colab_type": "code",
    "executionInfo": {
     "elapsed": 324,
     "status": "ok",
     "timestamp": 1542928438580,
     "user": {
      "displayName": "Brij Rokad",
      "photoUrl": "https://lh5.googleusercontent.com/-N6QdUUqxwPo/AAAAAAAAAAI/AAAAAAAACQ4/E7ejTCey7Qs/s64/photo.jpg",
      "userId": "07134477967020150172"
     },
     "user_tz": 300
    },
    "id": "IfPTHIpb9kx_",
    "outputId": "b5ba5287-6cde-4e86-f20e-ca76cc19b8bc"
   },
   "outputs": [
    {
     "name": "stdout",
     "output_type": "stream",
     "text": [
      "371.41932938856013\n"
     ]
    }
   ],
   "source": [
    "#Trial 1\n",
    "\n",
    "Individual = [0, 0, 0, 0, 1, 0, 0, 1, 0, 0, 0, 0, 0, 0, 1, 0, 0, 1, 0, 0, 0, 0,\n",
    "              0, 0, 0, 0, 0, 0, 0, 0, 0, 0, 0, 0, 0, 0, 0, 0, 0, 0, 0, 0, 0, 0,\n",
    "              0, 0, 0, 0, 0, 0, 0, 0, 0, 0, 0, 0, 0, 0, 0, 0, 0, 0, 0, 0, 0, 0,\n",
    "              0, 0, 0, 0, 1, 0, 0, 0, 0, 1, 0, 0, 0, 0, 0, 0, 0, 0, 0, 0, 0, 0,\n",
    "              0, 0, 0, 0, 0, 0, 0, 0, 0, 0, 0, 0, 0, 0, 69, 45, 257, 68, 57,\n",
    "              349, 37, 88, 329, 54, 52, 122, 45, 17, 273, 69, 13, 151, 67, 35,\n",
    "              26, 35, 74, 252, 54, 8, 313, 55, 77, 338, 39, 75, 206, 68, 61,\n",
    "              213, 51, 82, 324, 48, 90, 282, 45, 5, 270, 44, 49, 325]\n",
    "\n",
    "Angles = [45, 257, 57, 349, 88, 329, 52, 122, 17, 273, 13, 151, 35, 26, 74, 252,\n",
    "          8, 313, 77, 338, 75, 206, 61, 213, 82, 324, 90, 282, 5, 270, 49, 325]\n",
    "\n",
    "FaceList = [(17, 9, 153),\n",
    " (17, 8, 136),\n",
    " (17, 18, 306),\n",
    " (17, 4, 68),\n",
    " (23, 9, 207),\n",
    " (23, 8, 184),\n",
    " (23, 18, 414),\n",
    " (23, 4, 92),\n",
    " (14, 9, 126),\n",
    " (14, 8, 112),\n",
    " (14, 18, 252),\n",
    " (14, 4, 56),\n",
    " (11, 9, 99),\n",
    " (11, 8, 88),\n",
    " (11, 18, 198),\n",
    " (11, 4, 44)]\n",
    "\n",
    "Face = [153, 136, 306, 68, 20, 184, 414, 92, 126, 112, 252, 56, 99, 88, 198, 44]\n",
    "\n",
    "l = 65\n",
    "w = 39\n",
    "\n",
    "tArea = l*w\n",
    "\n",
    "tPower = 401 # a[8:2]\n",
    "fitness = 0\n",
    "\n",
    "for i in Face:\n",
    "  scaleCoe = i/tArea\n",
    "  fitness = fitness + (tPower*scaleCoe)\n",
    "\n",
    "print(fitness)"
   ]
  },
  {
   "cell_type": "code",
   "execution_count": 0,
   "metadata": {
    "colab": {},
    "colab_type": "code",
    "id": "V1B2ZMn7qMR3"
   },
   "outputs": [],
   "source": []
  }
 ],
 "metadata": {
  "colab": {
   "name": "Fitness.ipynb",
   "provenance": [],
   "version": "0.3.2"
  },
  "kernelspec": {
   "display_name": "Python 3",
   "language": "python",
   "name": "python3"
  },
  "language_info": {
   "codemirror_mode": {
    "name": "ipython",
    "version": 3
   },
   "file_extension": ".py",
   "mimetype": "text/x-python",
   "name": "python",
   "nbconvert_exporter": "python",
   "pygments_lexer": "ipython3",
   "version": "3.7.0"
  }
 },
 "nbformat": 4,
 "nbformat_minor": 1
}
