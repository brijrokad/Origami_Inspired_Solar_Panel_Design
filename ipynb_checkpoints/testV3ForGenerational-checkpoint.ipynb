{
 "cells": [
  {
   "cell_type": "code",
   "execution_count": 0,
   "metadata": {
    "colab": {},
    "colab_type": "code",
    "id": "UU-6GoLjGvpk"
   },
   "outputs": [],
   "source": [
    "import numpy as np\n",
    "import pandas as pd\n",
    "import random\n",
    "import math"
   ]
  },
  {
   "cell_type": "code",
   "execution_count": 0,
   "metadata": {
    "colab": {},
    "colab_type": "code",
    "id": "1fANvWmWGvqU"
   },
   "outputs": [],
   "source": [
    "###metaparameters\n",
    "#initial solar panel dimensions\n",
    "l = 65\n",
    "w = 39\n",
    "\n",
    "#max number of possible cuts\n",
    "maxCuts = 6\n",
    "\n",
    "#resolution of cuts\n",
    "res = 6\n",
    "\n",
    "#param boundaries\n",
    "zMin = 32\n",
    "zMax = 72\n",
    "\n",
    "tMin = 0\n",
    "tMax = 90\n",
    "\n",
    "aMin = 0\n",
    "aMax = 360"
   ]
  },
  {
   "cell_type": "code",
   "execution_count": 0,
   "metadata": {
    "colab": {},
    "colab_type": "code",
    "id": "EGlZSYosGvqe"
   },
   "outputs": [],
   "source": [
    "def makeCutBitString(l, w, maxCuts, res=6):\n",
    "    \"\"\"\n",
    "    HELPER FOR MAKING AN INDIVIDUAL\n",
    "    inputs- l- int - length of the initial solar panel\n",
    "            w- int - width of the initial solar panel\n",
    "            maxCuts- int - maximum amount of cuts on the initial solar panel\n",
    "            res- int - resolution of the cut. i.e. the cut will happen every 'res' inches\n",
    "    output- a list of bits where a bit represents an inch along the solar panel. the first\n",
    "            'l' bits represent vertical positions, and the next 'w' bits represent horizontal positions,\n",
    "            such that each position happens every 'res' inches.\n",
    "    \"\"\"\n",
    "    #figure out the number of the bit strings\n",
    "    numBits =  int((l-1)/res) + int((w-1)/res)\n",
    "    \n",
    "    #fill the list with 0's\n",
    "    bitList = [0 for i in range(numBits)]\n",
    "\n",
    "    #get the number of cuts\n",
    "    numCuts = random.randint(1, maxCuts)\n",
    "\n",
    "    #Lets put in the 1's that represent the cuts\n",
    "    for i in range(numCuts):\n",
    "        val = random.randint(0,numBits-1)\n",
    "\n",
    "        #make sure that it doesn't replace a value in bitstring which is already a 1\n",
    "        \n",
    "        while bitList[val] == 1:\n",
    "            val = random.randint(0,numBits-1)\n",
    "\n",
    "        #replace the appropriate 0 with a 1\n",
    "        bitList[val] = 1\n",
    "        \n",
    "    #return final bitstring\n",
    "    return bitList"
   ]
  },
  {
   "cell_type": "code",
   "execution_count": 0,
   "metadata": {
    "colab": {},
    "colab_type": "code",
    "id": "KtiRvnk3Gvqr",
    "outputId": "7b61fa4a-72b8-444b-99e7-9847b4ebeb4e"
   },
   "outputs": [
    {
     "data": {
      "text/plain": [
       "[0, 1, 0, 1, 0, 0, 0, 1, 0, 0, 0, 0, 0, 0, 0, 0]"
      ]
     },
     "execution_count": 81,
     "metadata": {
      "tags": []
     },
     "output_type": "execute_result"
    }
   ],
   "source": [
    "### test for 'makeCutBitString'\n",
    "### successful \n",
    "#initial solar panel dimensions\n",
    "l = 65\n",
    "w = 39\n",
    "\n",
    "#max number of possible cuts\n",
    "maxCuts = 6\n",
    "\n",
    "#resolution of cuts\n",
    "res = 6\n",
    "makeCutBitString(l, w, maxCuts, res)"
   ]
  },
  {
   "cell_type": "code",
   "execution_count": 0,
   "metadata": {
    "colab": {},
    "colab_type": "code",
    "id": "NFgfg0QoGvq7",
    "outputId": "9ea44051-cb0d-49d2-da59-54c70795d52c"
   },
   "outputs": [
    {
     "name": "stdout",
     "output_type": "stream",
     "text": [
      "bitString: [0, 0, 1, 0, 1, 0, 0, 0, 0, 0, 0, 0, 0, 0, 0, 0]\n",
      "lengthString: [0, 0, 1, 0, 1, 0, 0, 0, 0, 0, 0, 0, 0, 0, 0, 0]\n",
      "widthString: []\n",
      "widthString: []\n",
      "[]\n"
     ]
    }
   ],
   "source": [
    "#lets make a fake bitstring\n",
    "l=65\n",
    "w = 39 \n",
    "numBits = int((l-1)/res) + int((w-1)/res) \n",
    "aBitString = [0 for i in range(numBits)]\n",
    "aBitString[2] = 1\n",
    "aBitString[4] = 1\n",
    "\n",
    "lenBitString = aBitString[0:(l-1)]\n",
    "widBitString = aBitString[l-1:]\n",
    "\n",
    "print(\"bitString: \" + str(aBitString))\n",
    "#initialize list of faces\n",
    "faceList = []\n",
    "\n",
    "#search in the length direction\n",
    "indexLen = 1\n",
    "print(\"lengthString: \" + str(aBitString[0:(l-1)]))\n",
    "\n",
    "#for every bit in the bitstring containing the bits represnting the cuts along the panel's length\n",
    "for lBit in lenBitString:\n",
    "    if lBit==1:\n",
    "        #get the length\n",
    "        length = indexLen\n",
    "        #search in the width-direction\n",
    "        indexWid = 1\n",
    "        widCutDist = 1\n",
    "        print(\"widthString: \" + str(aBitString[l-1:]))\n",
    "        #for every bit in the bitstring containing the bits represnting the cuts along the panel's width\n",
    "        for wBit in widBitString:\n",
    "            if wBit == 1:\n",
    "                width = widCutDist\n",
    "                faceList.append((length, width))\n",
    "                widCutDist = 0\n",
    "            #if you reached the end of the solar panel width-wise\n",
    "            if indexWid == len(widBitString):\n",
    "                width = widCutDist + 1\n",
    "                faceList.append((length, width))\n",
    "            indexWid += 1\n",
    "            widCutDist += 1\n",
    "    \n",
    "    #if you reached the end of the solar panel length-wise\n",
    "    if indexLen == len(lenBitString):\n",
    "        length = lenBitString[::-1].index(1) + 1\n",
    "        widCutDist = 0\n",
    "        #for every bit in the bitstring containing the bits represnting the cuts along the panel's width\n",
    "        for wBit in widBitString:\n",
    "            if wBit == 1:\n",
    "                width = widCutDist\n",
    "                faceList.append((length, width))\n",
    "                widCutDist = 0\n",
    "            #if you reached the end of the solar panel\n",
    "            if indexWid == len(widBitString):\n",
    "                width = widCutDist + 1\n",
    "                faceList.append((length, width))\n",
    "            indexWid += 1\n",
    "            widCutDist += 1\n",
    "    indexLen += 1\n",
    "    \n",
    "    ###I think the following section can be removed\n",
    "    #if there were no cuts along the length direction\n",
    "    \"\"\"\n",
    "    if faceList == []:\n",
    "         for iW in aBitString[l+1:]:\n",
    "            if iW == 1:\n",
    "                width = indexWin\n",
    "                faceList.append((length, width))\n",
    "            #if you reached the end of the solar panel\n",
    "            if iW == len(aBitString[l+1:]):\n",
    "                width = len(aBitString[l+1:])\n",
    "                faceList.append((l, width))\n",
    "            indexWid += 0\n",
    "    \"\"\"\n",
    "print(faceList)"
   ]
  },
  {
   "cell_type": "code",
   "execution_count": 0,
   "metadata": {
    "colab": {},
    "colab_type": "code",
    "id": "kRVR53ZGGvrS",
    "outputId": "7dc3ced7-ec8b-4d7b-f67a-5994c264eeef"
   },
   "outputs": [
    {
     "name": "stdout",
     "output_type": "stream",
     "text": [
      "lenBitString: [0, 0, 1, 0, 1, 0, 0, 0, 0, 0, 0, 0, 0, 0, 0, 0]\n",
      "widBitString: []\n",
      "bitString: [0, 0, 1, 0, 1, 0, 0, 0, 0, 0, 0, 0, 0, 0, 0, 0]\n",
      "vCuts: [0, 3, 5, 65]\n",
      "hCuts: [0, 39]\n",
      "[3, 2, 60]\n",
      "[39]\n",
      "[(3, 39, 117), (2, 39, 78), (60, 39, 2340)]\n"
     ]
    }
   ],
   "source": [
    "#lets make a fake bitstring\n",
    "l = 65\n",
    "w = 39 \n",
    "numBits = int((l-1)/res) + int((w-1)/res) \n",
    "aBitString = [0 for i in range(numBits)]\n",
    "aBitString[2] = 1\n",
    "aBitString[4] = 1\n",
    "\n",
    "lenBitString = aBitString[0:l-1]\n",
    "widBitString = aBitString[l-1:]\n",
    "\n",
    "print(\"lenBitString: \" + str(lenBitString))\n",
    "print(\"widBitString: \" + str(widBitString))\n",
    "\n",
    "print(\"bitString: \" + str(aBitString))\n",
    "#initialize list of faces\n",
    "faceList = []\n",
    "\n",
    "##get list of the positions where a cut will happen\n",
    "#vertical cuts\n",
    "vCuts = [i+1 for i in range(len(lenBitString)) if lenBitString[i] == 1]\n",
    "#horizontal cuts\n",
    "hCuts = [i+1 for i in range(len(widBitString)) if widBitString[i] == 1]\n",
    "\n",
    "## initialize some variables\n",
    "vLow = 0\n",
    "vHigh = l\n",
    "hLow = 0\n",
    "hHigh = w\n",
    "\n",
    "#make lists storing at what inches chuts are being made\n",
    "vCuts = [0] + vCuts + [l]\n",
    "hCuts = [0] + hCuts + [w]\n",
    "\n",
    "#initalize some vars\n",
    "lengths = []\n",
    "widths = []\n",
    "\n",
    "#fill 'lengths' with the length of each face\n",
    "print(\"vCuts: \" + str(vCuts))\n",
    "for i in range(len(vCuts)-1):\n",
    "    vLow = vCuts[0]\n",
    "    vHigh = vCuts[1]\n",
    "    length = vHigh - vLow\n",
    "    lengths.append(length)\n",
    "    \n",
    "    #update vCuts\n",
    "    vCuts = vCuts[1:]\n",
    "\n",
    "#fill 'widths' with the width of each face    \n",
    "print(\"hCuts: \" + str(hCuts))\n",
    "for i in range(len(hCuts)-1):\n",
    "    hLow = hCuts[0]\n",
    "    hHigh = hCuts[1]\n",
    "    width = hHigh - hLow\n",
    "    widths.append(width)\n",
    "    \n",
    "    #update vCuts\n",
    "    hCuts = hCuts[1:]\n",
    "\n",
    "print(lengths)\n",
    "print(widths)\n",
    "\n",
    "#fill faceList with areas\n",
    "for i in range(len(lengths)):\n",
    "    length = lengths[i]\n",
    "    for j in range(len(widths)):\n",
    "        width = widths[j]\n",
    "        area = length*width\n",
    "        faceList.append((length, width, area))\n",
    "\n",
    "        \n",
    "\"\"\"This block did not do everything I wanted\n",
    "#fill faceList with areas\n",
    "for i in range(len(lengths)):\n",
    "    length = lengths[i]\n",
    "    width = widths[i]\n",
    "    area = length*width\n",
    "    faceList.append((length, width, area))\n",
    "\"\"\"\n",
    "\n",
    "print(faceList)"
   ]
  },
  {
   "cell_type": "code",
   "execution_count": 0,
   "metadata": {
    "colab": {},
    "colab_type": "code",
    "id": "8eFQSimsGvrd"
   },
   "outputs": [],
   "source": [
    "def getFaceListBitString(l, w, aBitString, res=6):\n",
    "    \"\"\"\n",
    "    HELPER FOR FINDING FACES\n",
    "    inputs- l- int - length of the initial solar panel\n",
    "            w- int - width of the initial solar panel\n",
    "            aBitString- a list of bits - with a length equal to (l+w)/res\n",
    "            res- int - resolution of the cut. i.e. the cut will happen every 'res' inches\n",
    "    output- a list of tuples where each tuple has 3 ints representing the info for each face. \n",
    "            The ints are the length, width, and area of the face. The whole list contains all of the faces\n",
    "    \"\"\"\n",
    "    # error check\n",
    "    if len(aBitString) != int((l-1)/res) + int((w-1)/res) :\n",
    "        return \"ERROR: the 'l' and 'w' parameters do not correspond to the given bit string\"\n",
    "    \n",
    "    # get the total number of bits\n",
    "    numBits = len(aBitString)\n",
    "\n",
    "    # make bit strings that represent just the length and the width of the solar panel respectively\n",
    "    lenBitString = aBitString[0:l-1]\n",
    "    widBitString = aBitString[l-1:]\n",
    "    \n",
    "    # initialize list of faces\n",
    "    faceList = []\n",
    "\n",
    "    ## get list of the positions where a cut will happen\n",
    "    # vertical cuts\n",
    "    vCuts = [i+1 for i in range(len(lenBitString)) if lenBitString[i] == 1]\n",
    "    # horizontal cuts\n",
    "    hCuts = [i+1 for i in range(len(widBitString)) if widBitString[i] == 1]\n",
    "\n",
    "    ## initialize some variables\n",
    "    vLow = 0\n",
    "    vHigh = l\n",
    "    hLow = 0\n",
    "    hHigh = w\n",
    "\n",
    "    # make lists storing at what inches chuts are being made\n",
    "    vCuts = [0] + vCuts + [l]\n",
    "    hCuts = [0] + hCuts + [w]\n",
    "\n",
    "    # initalize some vars\n",
    "    lengths = []\n",
    "    widths = []\n",
    "\n",
    "    # fill 'lengths' with the length of each face\n",
    "    for i in range(len(vCuts)-1):\n",
    "        vLow = vCuts[0]\n",
    "        vHigh = vCuts[1]\n",
    "        length = vHigh - vLow\n",
    "        lengths.append(length)\n",
    "\n",
    "        # update vCuts\n",
    "        vCuts = vCuts[1:]\n",
    "\n",
    "    # fill 'widths' with the width of each face\n",
    "    for i in range(len(hCuts)-1):\n",
    "        hLow = hCuts[0]\n",
    "        hHigh = hCuts[1]\n",
    "        width = hHigh - hLow\n",
    "        widths.append(width)\n",
    "\n",
    "        # update vCuts\n",
    "        hCuts = hCuts[1:]\n",
    "\n",
    "    ## fill faceList with areas\n",
    "    #for every length\n",
    "    for i in range(len(lengths)):\n",
    "        length = lengths[i]\n",
    "        # for every width\n",
    "        for j in range(len(widths)):\n",
    "            width = widths[j]\n",
    "            area = length*width\n",
    "            faceList.append((length, width, area))\n",
    "\n",
    "    return faceList"
   ]
  },
  {
   "cell_type": "code",
   "execution_count": 0,
   "metadata": {
    "colab": {},
    "colab_type": "code",
    "id": "GHDf8ZVLGvrk",
    "outputId": "801483e5-18c1-4648-87e5-759e7435f51c"
   },
   "outputs": [
    {
     "name": "stdout",
     "output_type": "stream",
     "text": [
      "[(3, 39, 117), (2, 39, 78), (60, 39, 2340)]\n"
     ]
    }
   ],
   "source": [
    "### test for 'getFaceListBitString'\n",
    "### successful\n",
    "\n",
    "l = 65\n",
    "w = 39\n",
    "res=6\n",
    "numBits = int((l-1)/res) + int((w-1)/res) \n",
    "aBitString = [0 for i in range(numBits)]\n",
    "#print(len(aBitString))\n",
    "aBitString[2] = 1\n",
    "aBitString[4] = 1\n",
    "\n",
    "print(getFaceListBitString(l, w, aBitString, res))"
   ]
  },
  {
   "cell_type": "code",
   "execution_count": 0,
   "metadata": {
    "colab": {},
    "colab_type": "code",
    "id": "ZZwUIMbyGvrw",
    "outputId": "414115ef-da3a-44ba-ca72-d2e9511e67ed"
   },
   "outputs": [
    {
     "name": "stdout",
     "output_type": "stream",
     "text": [
      "[0, 0, 0, 0, 0, 0, 0, 0, 1, 0, 0, 0, 0, 0, 0, 0]\n",
      "[(9, 39, 351), (56, 39, 2184)]\n"
     ]
    }
   ],
   "source": [
    "# test for getFaceList with a random bitstring\n",
    "\n",
    "l = 65\n",
    "w = 39\n",
    "maxCuts = 6\n",
    "res = 6\n",
    "\n",
    "bitString1 = makeCutBitString(l, w, maxCuts, res)\n",
    "print(bitString1)\n",
    "\n",
    "faceList = getFaceListBitString(l, w, bitString1, res)\n",
    "\n",
    "print(faceList)"
   ]
  },
  {
   "cell_type": "code",
   "execution_count": 0,
   "metadata": {
    "colab": {},
    "colab_type": "code",
    "id": "t-ISiAVbGvr3",
    "outputId": "ed7a77c1-14ff-402a-e00b-fde3e5fc6063"
   },
   "outputs": [
    {
     "name": "stdout",
     "output_type": "stream",
     "text": [
      "[67, 20, 97, 60, -34, 284, 47, -61, 103, 35, 46, 7, 32, 29, 62, 40, 16, 303, 65, 31, 37, 34, -33, 42, 53, 27, 252, 45, -52, 298, 34, 13, 327, 62, -75, 160, 38, 81, 234, 55, -49, 335, 44, -45, 233, 45, 67, 300]\n"
     ]
    }
   ],
   "source": [
    "### make paramList\n",
    "\n",
    "# param boundaries\n",
    "zMin = 32\n",
    "zMax = 72\n",
    "\n",
    "tMin = -90\n",
    "tMax = 90\n",
    "\n",
    "aMin = 0\n",
    "aMax = 360\n",
    "\n",
    "# if maxCuts is even\n",
    "if (maxCuts % 2) == 0:\n",
    "    maxFaces = ((maxCuts/2)+1)*((maxCuts/2)+1)\n",
    "else:\n",
    "    print(\"ERROR: You need to figure out how many maxFaces will result when there is an odd number of maxCuts\")\n",
    "\n",
    "# initalize list\n",
    "paramList = []\n",
    "\n",
    "for i in range(int(maxFaces)):\n",
    "    zVal = random.randint(zMin, zMax)\n",
    "    tVal = random.randint(tMin, tMax)\n",
    "    aVal = random.randint(aMin, aMax)\n",
    "    paramList.append(zVal)\n",
    "    paramList.append(tVal)\n",
    "    paramList.append(aVal)\n",
    "\n",
    "# the following block would result in a different organization for paramList\n",
    "\"\"\"\n",
    "for i in range(int(maxFaces)):\n",
    "    zVal = random.randint(zMin, zMax)\n",
    "    paramList.append(zVal)    \n",
    "\n",
    "for i in range(int(maxFaces)):\n",
    "    tVal = random.randint(tMin, tMax)\n",
    "    paramList.append(tVal)\n",
    "    \n",
    "for i in range(int(maxFaces)):\n",
    "    aVal = random.randint(aMin, aMax)\n",
    "    paramList.append(aVal)\n",
    "\"\"\"    \n",
    "print(paramList)"
   ]
  },
  {
   "cell_type": "code",
   "execution_count": 0,
   "metadata": {
    "colab": {},
    "colab_type": "code",
    "id": "ej1ZYpu5GvsC"
   },
   "outputs": [],
   "source": [
    "def makeIndividual(l, w, maxCuts, zMin, zMax, tMin, tMax, aMin, aMax, res=6):\n",
    "    \"\"\"\n",
    "    MAKES AN INDIVIDUAL\n",
    "    inputs- l- int - length of the initial solar panel\n",
    "            w- int - width of the initial solar panel\n",
    "            maxCuts- int - maximum amount of cuts on the initial solar panel\n",
    "            zMin - int - min possible value of z\n",
    "            zMax - int - min possible value of z\n",
    "            tMin - int - min possible value of t\n",
    "            tMax - int - min possible value of t\n",
    "            aMin - int - min possible value of a\n",
    "            aMax - int - min possible value of a\n",
    "            res- int - resolution of the cut. i.e. the cut will happen every 'res' inches\n",
    "    output- a list of ints - individual whose first int((l-1)/res) + int((w-1)/res) elements are bits representing where a cut is made\n",
    "            the other ((maxCuts/2)+1)*((maxCuts/2)+1) elements (assuming maxCuts is even) represent the z, theta, and alpha \n",
    "            values. It looks like: [bit1 bit2 bit2 ... z1, t1, a1, z2, t2, a2...]\n",
    "    \"\"\"\n",
    "    # error check to see if maxCuts can be defined\n",
    "    if (maxCuts % 2) == 0:\n",
    "        maxFaces = ((maxCuts/2)+1)*((maxCuts/2)+1)\n",
    "    else:\n",
    "        return \"ERROR: You need to figure out how many maxFaces will result when there is an odd number of maxCuts\"\n",
    "    \n",
    "    aBitString = makeCutBitString(l, w, maxCuts, res)\n",
    "    \n",
    "    # initalize list\n",
    "    paramList = []\n",
    "\n",
    "    for i in range(int(maxFaces)):\n",
    "        zVal = random.randint(zMin, zMax)\n",
    "        tVal = random.randint(tMin, tMax)\n",
    "        aVal = random.randint(aMin, aMax)\n",
    "        paramList.append(zVal)\n",
    "        paramList.append(tVal)\n",
    "        paramList.append(aVal)\n",
    "        \n",
    "    individual = aBitString + paramList\n",
    "    \n",
    "    return individual"
   ]
  },
  {
   "cell_type": "code",
   "execution_count": 0,
   "metadata": {
    "colab": {},
    "colab_type": "code",
    "id": "JYQk0F6dGvsJ",
    "outputId": "7d2601e7-41c4-46ec-baa6-435b9a930b29"
   },
   "outputs": [
    {
     "name": "stdout",
     "output_type": "stream",
     "text": [
      "[1, 0, 0, 0, 0, 0, 0, 1, 0, 0, 0, 0, 0, 1, 0, 0, 36, -11, 110, 70, -10, 179, 48, 48, 114, 70, -58, 93, 48, -81, 78, 32, -77, 14, 32, 35, 152, 33, 10, 199, 62, -85, 186, 70, -22, 21, 58, 81, 318, 35, 71, 306, 33, -72, 310, 62, 83, 141, 47, 60, 209, 39, 15, 102]\n"
     ]
    }
   ],
   "source": [
    "### test for 'makeIndividual'\n",
    "### test successful\n",
    "\n",
    "# bitString params\n",
    "l = 65\n",
    "w = 39\n",
    "maxCuts = 6\n",
    "res = 6\n",
    "\n",
    "# param boundaries\n",
    "zMin = 32\n",
    "zMax = 72\n",
    "\n",
    "tMin = -90\n",
    "tMax = 90\n",
    "\n",
    "aMin = 0\n",
    "aMax = 360\n",
    "\n",
    "print(makeIndividual(l, w, maxCuts, zMin, zMax, tMin, tMax, aMin, aMax, res))"
   ]
  },
  {
   "cell_type": "code",
   "execution_count": 0,
   "metadata": {
    "colab": {},
    "colab_type": "code",
    "id": "bk5aq9_fGvsZ"
   },
   "outputs": [],
   "source": [
    "def makePopulation(popSize, l, w, maxCuts, zMin, zMax, tMin, tMax, aMin, aMax, res=6):\n",
    "    \"\"\"\n",
    "    MAKES A POPULATION\n",
    "    inputs- popSize - int - the number of individuals in the population\n",
    "            l- int - length of the initial solar panel\n",
    "            w- int - width of the initial solar panel\n",
    "            maxCuts- int - maximum amount of cuts on the initial solar panel\n",
    "            zMin - int - min possible value of z\n",
    "            zMax - int - min possible value of z\n",
    "            tMin - int - min possible value of t\n",
    "            tMax - int - min possible value of t\n",
    "            aMin - int - min possible value of a\n",
    "            aMax - int - min possible value of a\n",
    "            res- int - resolution of the cut. i.e. the cut will happen every 'res' inches\n",
    "    output- a list of lists of ints - A list of individuals. Each individual's first ((l-1)+(w-1))/res elements a\n",
    "            re bits representing where a cut is made the other ((maxCuts/2)+1)*((maxCuts/2)+1) elements \n",
    "            (assuming maxCuts is even) represent the z, theta, and alpha values. \n",
    "            It looks like: [bit1 bit2 bit2 ... z1, t1, a1, z2, t2, a2...]\n",
    "    \"\"\"\n",
    "    population = []\n",
    "    for i in range(popSize):\n",
    "        individ = makeIndividual(l, w, maxCuts, zMin, zMax, tMin, tMax, aMin, aMax, res)\n",
    "        population.append(individ)\n",
    "        \n",
    "    return population"
   ]
  },
  {
   "cell_type": "code",
   "execution_count": 0,
   "metadata": {
    "colab": {},
    "colab_type": "code",
    "id": "_BzIaTegGvsn",
    "outputId": "9691fb75-283b-4945-f318-20f608ecfca3"
   },
   "outputs": [
    {
     "name": "stdout",
     "output_type": "stream",
     "text": [
      "[[0, 0, 0, 0, 1, 1, 0, 0, 1, 1, 0, 0, 0, 1, 1, 0, 49, 10, 141, 52, 72, 295, 44, 88, 296, 48, 34, 230, 39, 87, 108, 35, 7, 330, 40, 59, 31, 42, 32, 350, 51, 38, 24, 54, 18, 352, 71, 19, 359, 38, 32, 76, 72, 10, 129, 45, 52, 94, 34, 6, 285, 53, 68, 43], [0, 0, 0, 0, 0, 0, 1, 1, 1, 0, 0, 1, 0, 1, 0, 0, 60, 77, 292, 56, 8, 224, 48, 26, 98, 53, 47, 274, 53, 5, 311, 41, 54, 226, 68, 0, 186, 35, 73, 243, 34, 74, 147, 67, 51, 247, 35, 14, 213, 44, 9, 10, 37, 63, 155, 56, 54, 218, 57, 52, 296, 61, 24, 138]]\n"
     ]
    }
   ],
   "source": [
    "### test for 'makePopulation'\n",
    "### test successful\n",
    "\n",
    "# params\n",
    "popSize = 2\n",
    "\n",
    "l = 65\n",
    "w = 39\n",
    "maxCuts = 6\n",
    "res = 6\n",
    "\n",
    "zMin = 32\n",
    "zMax = 72\n",
    "\n",
    "tMin = 0\n",
    "tMax = 90\n",
    "\n",
    "aMin = 0\n",
    "aMax = 360\n",
    "\n",
    "print(makePopulation(popSize, l, w, maxCuts, zMin, zMax, tMin, tMax, aMin, aMax, res))"
   ]
  },
  {
   "cell_type": "code",
   "execution_count": 0,
   "metadata": {
    "colab": {},
    "colab_type": "code",
    "id": "snfEqA-CGvs5"
   },
   "outputs": [],
   "source": [
    "def getFaceList(individ, l, w, res=6):\n",
    "    \"\"\"\n",
    "    GETS LIST OF FACES AND MEASUREMENTS/AREAS\n",
    "    inputs- individ - list of ints - an individual\n",
    "            l- int - length of the initial solar panel\n",
    "            w- int - width of the initial solar panel\n",
    "            res- int - resolution of the cut. i.e. the cut will happen every 'res' inches\n",
    "    output- a list of tuples where each tuple has 3 ints representing the info for each face. \n",
    "            The ints are the length, width, and area of the face. The whole list contains all of the faces\n",
    "    \"\"\"\n",
    "    bitStringLen = int((l-1)/res) + int((w-1)/res)\n",
    "    aBitString = individ[:bitStringLen]\n",
    "    faceList = getFaceListBitString(l, w, aBitString, res)\n",
    "    \n",
    "    return faceList"
   ]
  },
  {
   "cell_type": "code",
   "execution_count": 0,
   "metadata": {
    "colab": {},
    "colab_type": "code",
    "id": "C6RYIdIRGvtE",
    "outputId": "1e0702b7-bc85-4cb2-992d-dee8fb818f99"
   },
   "outputs": [
    {
     "data": {
      "text/plain": [
       "[(13, 39, 507), (52, 39, 2028)]"
      ]
     },
     "execution_count": 93,
     "metadata": {
      "tags": []
     },
     "output_type": "execute_result"
    }
   ],
   "source": [
    "### test for 'getFaceList'\n",
    "# params\n",
    "l = 65\n",
    "w = 39\n",
    "maxCuts = 6\n",
    "res = 6\n",
    "\n",
    "zMin = 32\n",
    "zMax = 72\n",
    "\n",
    "tMin = -90\n",
    "tMax = 90\n",
    "\n",
    "aMin = 0\n",
    "aMax = 360\n",
    "\n",
    "individ1 = makeIndividual(l, w, maxCuts, zMin, zMax, tMin, tMax, aMin, aMax, res)\n",
    "\n",
    "getFaceList(individ1, l, w, res)"
   ]
  },
  {
   "cell_type": "code",
   "execution_count": 0,
   "metadata": {
    "colab": {},
    "colab_type": "code",
    "id": "QPW2rdQ7GvtP",
    "outputId": "a3a2e3a8-39af-45f5-9cb7-086e2599daf8"
   },
   "outputs": [
    {
     "name": "stdout",
     "output_type": "stream",
     "text": [
      "[0, 0, 0, 1, 1, 0, 0, 1, 0, 0, 0, 1, 0, 0, 0, 1, 43, -9, 111, 32, -72, 144, 67, 64, 70, 42, 15, 166, 60, -82, 164, 32, 89, 44, 49, 57, 304, 42, -77, 59, 61, -81, 222, 51, 53, 193, 51, -36, 86, 56, -61, 111, 36, -66, 80, 67, 89, 82, 46, 81, 165, 33, 71, 254]\n"
     ]
    }
   ],
   "source": [
    "#playing around for 'resolution' function\n",
    "individ1 = makeIndividual(l, w, maxCuts, zMin, zMax, tMin, tMax, aMin, aMax, res)\n",
    "print(individ1)"
   ]
  },
  {
   "cell_type": "code",
   "execution_count": 0,
   "metadata": {
    "colab": {},
    "colab_type": "code",
    "id": "e0dAhl1bGvtW",
    "outputId": "93dae648-5f59-4869-c1b5-6d50b567976e"
   },
   "outputs": [
    {
     "name": "stdout",
     "output_type": "stream",
     "text": [
      "zVal: 65\n",
      "nextZVal: 70\n",
      "tVal: -28\n",
      "nextTVal: -44\n",
      "aVal: 266\n",
      "nextAVal: 303\n",
      "zDiff: 5\n",
      "tDiff: 16\n",
      "aDiff: 37\n",
      "zVal: 65\n",
      "nextZVal: 70\n",
      "tVal: -28\n",
      "nextTVal: -44\n",
      "aVal: 266\n",
      "nextAVal: 46\n",
      "final zDiff: 5\n",
      "final tDiff: 16\n",
      "final aDiff: 220\n",
      "zVal: 65\n",
      "nextZVal: 61\n",
      "tVal: -28\n",
      "nextTVal: -89\n",
      "aVal: 266\n",
      "nextAVal: 266\n",
      "zDiff: 4\n",
      "tDiff: 61\n",
      "aDiff: 0\n",
      "zVal: 65\n",
      "nextZVal: 61\n",
      "tVal: -28\n",
      "nextTVal: -89\n",
      "aVal: 266\n",
      "nextAVal: 128\n",
      "final zDiff: 4\n",
      "final tDiff: 61\n",
      "final aDiff: 138\n",
      "individ1: [1, 0, 0, 0, 0, 0, 0, 1, 0, 0, 0, 0, 0, 0, 0, 0, 65, -28, 266, 34, -61, 197, 62, 54, 98, 47, -31, 106, 57, 17, 63, 42, 77, 233, 34, 7, 186, 63, -23, 335, 55, -50, 340, 41, -81, 191, 42, 70, 41, 32, -55, 294, 67, -3, 215, 44, -49, 354, 70, -44, 303, 61, -89, 266]\n",
      "individ2: [1, 0, 0, 0, 0, 0, 0, 1, 0, 0, 0, 0, 0, 0, 0, 0, 65, -28, 266, 34, -61, 197, 62, 54, 98, 47, -31, 106, 57, 17, 63, 42, 77, 233, 34, 7, 186, 63, -23, 335, 55, -50, 340, 41, -81, 191, 42, 70, 41, 32, -55, 294, 67, -3, 215, 44, -49, 354, 70, -44, 46, 61, -89, 128]\n",
      "False\n"
     ]
    }
   ],
   "source": [
    "###playing around for 'resolution' function\n",
    "individ1 = [1, 0, 0, 0, 0, 0, 0, 1, 0, 0, 0, 0, 0, 0, 0, 0, 65, -28, 266, 34, -61, 197, 62, 54, 98, 47, -31, 106, 57, 17, 63, 42, 77, 233, 34, 7, 186, 63, -23, 335, 55, -50, 340, 41, -81, 191, 42, 70, 41, 32, -55, 294, 67, -3, 215, 44, -49, 354, 70, -44, 303, 61, -89, 266]\n",
    "\n",
    "#thresholds\n",
    "zThresh = 20 #inches\n",
    "tThresh = 90 #degrees\n",
    "aThresh = 45 #degrees\n",
    "\n",
    "\n",
    "bitStringLen = int((l-1)/res) + int((w-1)/res)\n",
    "paramList = individ1[bitStringLen:]\n",
    "#for every index in the paramList\n",
    "for i1 in range(len(paramList[0:1])):\n",
    "    #if param is a z value\n",
    "    if (i1 % 3) == 0:\n",
    "        #get values\n",
    "        zVal = paramList[i1]\n",
    "        tVal = paramList[i1+1]\n",
    "        aVal = paramList[i1+2]\n",
    "        #for every index in the rest of the paramList\n",
    "        for i2 in range(len(paramList[i1+3:])):\n",
    "            nextIndex = i1+i2\n",
    "            #if nextParam is a z-value\n",
    "            if (nextIndex % 3) == 0:\n",
    "                nextZVal = paramList[i1+3:][nextIndex]\n",
    "                nextTVal = paramList[i1+3:][nextIndex+1]\n",
    "                nextAVal = paramList[i1+3:][nextIndex+2]\n",
    "                #compare nextParams to params\n",
    "                zDiff = abs(zVal - nextZVal)\n",
    "                tDiff = abs(tVal - nextTVal)\n",
    "                aDiff = abs(aVal - nextAVal)\n",
    "                #if differences of all three cross a threshold\n",
    "                if zDiff <= zThresh and tDiff <= tThresh and aDiff <= aThresh:\n",
    "                    while zDiff <= zThresh and tDiff <= tThresh and aDiff <= aThresh:\n",
    "                        print(\"zVal: \" + str(zVal))\n",
    "                        print(\"nextZVal: \" + str(nextZVal))\n",
    "                        print(\"tVal: \" + str(tVal))\n",
    "                        print(\"nextTVal: \" + str(nextTVal))\n",
    "                        print(\"aVal: \" + str(aVal))\n",
    "                        print(\"nextAVal: \" + str(nextAVal))\n",
    "                        print(\"zDiff: \" + str(zDiff))\n",
    "                        print(\"tDiff: \" + str(tDiff))\n",
    "                        print(\"aDiff: \" + str(aDiff))\n",
    "                        mutParam = random.randint(0, 1)\n",
    "                        #mutate 'a' angle\n",
    "                        if mutParam == 0:\n",
    "                            paramList[nextIndex+5] = random.randint(aMin, aMax)\n",
    "                        #mutate 'z'\n",
    "                        if mutParam == 1:\n",
    "                            paramList[nextIndex+3] = random.randint(zMin, zMax)\n",
    "                        ###recalulcate the difference\n",
    "                        nextZVal = paramList[i1+3:][nextIndex]\n",
    "                        nextTVal = paramList[i1+3:][nextIndex+1]\n",
    "                        nextAVal = paramList[i1+3:][nextIndex+2]\n",
    "                        zDiff = abs(zVal - nextZVal)\n",
    "                        tDiff = abs(tVal - nextTVal)\n",
    "                        aDiff = abs(aVal - nextAVal)\n",
    "\n",
    "                    nextZVal = paramList[i1+3:][nextIndex]\n",
    "                    nextTVal = paramList[i1+3:][nextIndex+1]\n",
    "                    nextAVal = paramList[i1+3:][nextIndex+2]\n",
    "                    #compare nextParams to params\n",
    "                    zDiff = abs(zVal - nextZVal)\n",
    "                    tDiff = abs(tVal - nextTVal)\n",
    "                    aDiff = abs(aVal - nextAVal)\n",
    "                    print(\"zVal: \" + str(zVal))\n",
    "                    print(\"nextZVal: \" + str(nextZVal))\n",
    "                    print(\"tVal: \" + str(tVal))\n",
    "                    print(\"nextTVal: \" + str(nextTVal))\n",
    "                    print(\"aVal: \" + str(aVal))\n",
    "                    print(\"nextAVal: \" + str(nextAVal))\n",
    "                    print(\"final zDiff: \" + str(zDiff))\n",
    "                    print(\"final tDiff: \" + str(tDiff))\n",
    "                    print(\"final aDiff: \" + str(aDiff))\n",
    "                    \n",
    "individ2 = individ1[:bitStringLen] + paramList\n",
    "print(\"individ1: \" + str(individ1))\n",
    "print(\"individ2: \" + str(individ2))\n",
    "print(individ1 == individ2)"
   ]
  },
  {
   "cell_type": "code",
   "execution_count": 0,
   "metadata": {
    "colab": {},
    "colab_type": "code",
    "id": "q1VwwxDpGvte"
   },
   "outputs": [],
   "source": [
    "\"\"\"\n",
    "This function will not be used. use conflictCount instead to feed in the number of conflicts into the fitness function\n",
    "so it will evolve to not have conflicts\n",
    "\"\"\"\n",
    "\n",
    "def resoultion(individual, l, w, zMin, zMax, tMin, tMax, aMin, aMax, res=6, zThresh=20, tThresh=90, aThresh=45):\n",
    "    \"\"\"\n",
    "    MAKES A POPULATION\n",
    "    inputs- individual - list of ints - an individual. It looks like: [bit1 bit2 bit2 ... z1, t1, a1, z2, t2, a2...]\n",
    "            l- int - length of the initial solar panel\n",
    "            w- int - width of the initial solar panel\n",
    "            zMin - int - min possible value of z\n",
    "            zMax - int - min possible value of z\n",
    "            tMin - int - min possible value of t\n",
    "            tMax - int - min possible value of t\n",
    "            aMin - int - min possible value of a\n",
    "            aMax - int - min possible value of a\n",
    "            res- int - resolution of the cut. i.e. the cut will happen every 'res' inches\n",
    "            zThresh- the threshold that describes if two solar panels are closer then zThresh inches, and the\n",
    "                     other thresholds are passed, then that face will be mutated\n",
    "            tThresh- the threshold that describes if two solar panels are closer then tThresh degrees, and the\n",
    "                     other thresholds are passed, then that face will be mutated\n",
    "            aThresh- the threshold that describes if two solar panels are closer then aThresh degrees, and the\n",
    "                     other thresholds are passed, then that face will be mutated\n",
    "    output- takes in an individual and returns a new individual\n",
    "    \n",
    "    NOTE: Currently the function does not mutate the t param or look at the tDiff\n",
    "    \"\"\"\n",
    "    #get the length of the bitString\n",
    "    bitStringLen = int((l-1)/res) + int((w-1)/res)\n",
    "    paramList = individ1[bitStringLen:]\n",
    "    #for every index in the paramList\n",
    "    for i1 in range(len(paramList[0:1])):\n",
    "        #if param is a z value\n",
    "        if (i1 % 3) == 0:\n",
    "            #get values\n",
    "            zVal = paramList[i1]\n",
    "            tVal = paramList[i1+1]\n",
    "            aVal = paramList[i1+2]\n",
    "            #for every index in the rest of the paramList\n",
    "            for i2 in range(len(paramList[i1+3:])):\n",
    "                nextIndex = i1+i2\n",
    "                #if nextParam is a z-value\n",
    "                if (nextIndex % 3) == 0:\n",
    "                    nextZVal = paramList[i1+3:][nextIndex]\n",
    "                    nextTVal = paramList[i1+3:][nextIndex+1]\n",
    "                    nextAVal = paramList[i1+3:][nextIndex+2]\n",
    "                    #compare nextParams to params\n",
    "                    zDiff = abs(zVal - nextZVal)\n",
    "                    tDiff = abs(tVal - nextTVal)\n",
    "                    aDiff = abs(aVal - nextAVal)\n",
    "                    #while all thresholds are crossed\n",
    "                    while zDiff <= zThresh and aDiff <= aThresh:\n",
    "                        #make either a 0 or a 1 through random chance\n",
    "                        mutParam = random.randint(0, 1)\n",
    "                        #mutate 'a' angle\n",
    "                        if mutParam == 0:\n",
    "                            paramList[nextIndex+5] = random.randint(aMin, aMax)\n",
    "                        #mutate 'z'\n",
    "                        if mutParam == 1:\n",
    "                            paramList[nextIndex+3] = random.randint(zMin, zMax)\n",
    "                        ###recalulcate the difference\n",
    "                        nextZVal = paramList[i1+3:][nextIndex]\n",
    "                        nextTVal = paramList[i1+3:][nextIndex+1]\n",
    "                        nextAVal = paramList[i1+3:][nextIndex+2]\n",
    "                        zDiff = abs(zVal - nextZVal)\n",
    "                        tDiff = abs(tVal - nextTVal)\n",
    "                        aDiff = abs(aVal - nextAVal)\n",
    "\n",
    "    #make new individual\n",
    "    individual = individ1[:bitStringLen] + paramList\n",
    "    \n",
    "    #return result\n",
    "    return individual"
   ]
  },
  {
   "cell_type": "code",
   "execution_count": 0,
   "metadata": {
    "colab": {},
    "colab_type": "code",
    "id": "mVj6mWFfGvtm",
    "outputId": "0b5e3d80-9fb7-4cbe-b188-0b6e8c5a25eb"
   },
   "outputs": [
    {
     "name": "stdout",
     "output_type": "stream",
     "text": [
      "individ1: \n",
      "[1, 0, 0, 0, 0, 0, 0, 1, 0, 0, 0, 0, 0, 0, 0, 0, 65, -28, 266, 34, -61, 197, 62, 54, 98, 47, -31, 106, 57, 17, 63, 42, 77, 233, 34, 7, 186, 63, -23, 335, 55, -50, 340, 41, -81, 191, 42, 70, 41, 32, -55, 294, 67, -3, 215, 44, -49, 354, 70, -44, 303, 61, -89, 266]\n",
      "individ2: \n",
      "[1, 0, 0, 0, 0, 0, 0, 1, 0, 0, 0, 0, 0, 0, 0, 0, 65, -28, 266, 34, -61, 197, 62, 54, 98, 47, -31, 106, 57, 17, 63, 42, 77, 233, 34, 7, 186, 63, -23, 335, 55, -50, 340, 41, -81, 191, 42, 70, 41, 32, -55, 294, 67, -3, 215, 44, -49, 354, 34, -44, 303, 61, -89, 337]\n"
     ]
    }
   ],
   "source": [
    "###test for resolution\n",
    "###test was successful\n",
    "\n",
    "individ1 = [1, 0, 0, 0, 0, 0, 0, 1, 0, 0, 0, 0, 0, 0, 0, 0, 65, -28, 266, 34, -61, 197, 62, 54, 98, 47, -31, 106, 57, 17, 63, 42, 77, 233, 34, 7, 186, 63, -23, 335, 55, -50, 340, 41, -81, 191, 42, 70, 41, 32, -55, 294, 67, -3, 215, 44, -49, 354, 70, -44, 303, 61, -89, 266]\n",
    "\n",
    "# params\n",
    "l = 65\n",
    "w = 39\n",
    "res = 6\n",
    "\n",
    "zMin = 32\n",
    "zMax = 72\n",
    "\n",
    "tMin = -90\n",
    "tMax = 90\n",
    "\n",
    "aMin = 0\n",
    "aMax = 360\n",
    "\n",
    "#thresholds\n",
    "zThresh = 20 #inches\n",
    "tThresh = 90 #degrees\n",
    "aThresh = 45 #degrees\n",
    "print(\"individ1: \")\n",
    "print(individ1)\n",
    "print(\"individ2: \")\n",
    "print(resoultion(individ1, l, w, zMin, zMax, tMin, tMax, aMin, aMax, res, zThresh, tThresh, aThresh))"
   ]
  },
  {
   "cell_type": "code",
   "execution_count": 0,
   "metadata": {
    "colab": {},
    "colab_type": "code",
    "id": "DN2eelMjGvtw",
    "outputId": "f161ba27-cbce-4654-94dd-9ad4085850de"
   },
   "outputs": [
    {
     "data": {
      "text/plain": [
       "True"
      ]
     },
     "execution_count": 98,
     "metadata": {
      "tags": []
     },
     "output_type": "execute_result"
    }
   ],
   "source": [
    "(42 % 3) == 0"
   ]
  },
  {
   "cell_type": "code",
   "execution_count": 0,
   "metadata": {
    "colab": {},
    "colab_type": "code",
    "id": "VaxyE2QF6c4R"
   },
   "outputs": [],
   "source": [
    "def conflictCount(individual, l, w, zMin, zMax, tMin, tMax, aMin, aMax, res=6, zThresh=20, tThresh=90, aThresh=45):\n",
    "    \"\"\"\n",
    "    MAKES A POPULATION\n",
    "    inputs- individual - list of ints - an individual. It looks like: [bit1 bit2 bit2 ... z1, t1, a1, z2, t2, a2...]\n",
    "            l- int - length of the initial solar panel\n",
    "            w- int - width of the initial solar panel\n",
    "            zMin - int - min possible value of z\n",
    "            zMax - int - min possible value of z\n",
    "            tMin - int - min possible value of t\n",
    "            tMax - int - min possible value of t\n",
    "            aMin - int - min possible value of a\n",
    "            aMax - int - min possible value of a\n",
    "            res- int - resolution of the cut. i.e. the cut will happen every 'res' inches\n",
    "            zThresh- the threshold that describes if two solar panels are closer then zThresh inches, and the\n",
    "                     other thresholds are passed, then that face will be mutated\n",
    "            tThresh- the threshold that describes if two solar panels are closer then tThresh degrees, and the\n",
    "                     other thresholds are passed, then that face will be mutated\n",
    "            aThresh- the threshold that describes if two solar panels are closer then aThresh degrees, and the\n",
    "                     other thresholds are passed, then that face will be mutated\n",
    "    output- takes in an individual and returns a new individual\n",
    "    \n",
    "    NOTE: Currently the function does not mutate the t param or look at the tDiff\n",
    "    \"\"\"\n",
    "    #initialize the conflict count\n",
    "    conflictCount = 0\n",
    "    #get the length of the bitString\n",
    "    bitStringLen = int((l-1)/res) + int((w-1)/res)\n",
    "    paramList = individ1[bitStringLen:]\n",
    "    #for every index in the paramList\n",
    "    for i1 in range(len(paramList[0:1])):\n",
    "        #if param is a z value\n",
    "        if (i1 % 3) == 0:\n",
    "            #get values\n",
    "            zVal = paramList[i1]\n",
    "            tVal = paramList[i1+1]\n",
    "            aVal = paramList[i1+2]\n",
    "            #for every index in the rest of the paramList\n",
    "            for i2 in range(len(paramList[i1+3:])):\n",
    "                nextIndex = i1+i2\n",
    "                #if nextParam is a z-value\n",
    "                if (nextIndex % 3) == 0:\n",
    "                    nextZVal = paramList[i1+3:][nextIndex]\n",
    "                    nextTVal = paramList[i1+3:][nextIndex+1]\n",
    "                    nextAVal = paramList[i1+3:][nextIndex+2]\n",
    "                    #compare nextParams to params\n",
    "                    zDiff = abs(zVal - nextZVal)\n",
    "                    tDiff = abs(tVal - nextTVal)\n",
    "                    aDiff = abs(aVal - nextAVal)\n",
    "                    #while all thresholds are crossed\n",
    "                    if zDiff <= zThresh and aDiff <= aThresh:\n",
    "                        conflictCount+= 1\n",
    "\n",
    "    #return result\n",
    "    return conflictCount"
   ]
  },
  {
   "cell_type": "code",
   "execution_count": 0,
   "metadata": {
    "colab": {},
    "colab_type": "code",
    "id": "_b-OLs9A6c4W",
    "outputId": "80c56989-ebb3-49f3-9cb6-871c15aa8bd4"
   },
   "outputs": [
    {
     "name": "stdout",
     "output_type": "stream",
     "text": [
      "2\n"
     ]
    }
   ],
   "source": [
    "##test for conflictCount\n",
    "#test successful\n",
    "\n",
    "##individual with 2 conflicts\n",
    "individ1 = [1, 0, 0, 0, 0, 0, 0, 1, 0, 0, 0, 0, 0, 0, 0, 0, \n",
    "            65, -28, 266, 34, -61, 197, 62, 54, 98, 47, -31, 106, 57, 17, 63, 42, 77, 233, 34, 7, 186, 63, -23, 335, \n",
    "            55, -50, 340, 41, -81, 191, 42, 70, 41, 32, -55, 294, 67, -3, 215, 44, -49, 354, 70, -44, 303, 61, -89, 266]\n",
    "##params\n",
    "# params\n",
    "l = 65\n",
    "w = 39\n",
    "res = 6\n",
    "\n",
    "zMin = 32\n",
    "zMax = 72\n",
    "\n",
    "tMin = -90\n",
    "tMax = 90\n",
    "\n",
    "aMin = 0\n",
    "aMax = 360\n",
    "\n",
    "#thresholds\n",
    "zThresh = 20 #inches\n",
    "tThresh = 90 #degrees\n",
    "aThresh = 45 #degrees\n",
    "\n",
    "\n",
    "print(conflictCount(individ1, l, w, zMin, zMax, tMin, tMax, aMin, aMax, res=6, zThresh=20, tThresh=90, aThresh=45))"
   ]
  },
  {
   "cell_type": "code",
   "execution_count": 0,
   "metadata": {
    "colab": {},
    "colab_type": "code",
    "id": "BuCOL0hUGvt8"
   },
   "outputs": [],
   "source": [
    "from pvlib import modelchain as mc\n",
    "from pvlib import pvsystem"
   ]
  },
  {
   "cell_type": "code",
   "execution_count": 0,
   "metadata": {
    "colab": {},
    "colab_type": "code",
    "id": "vCDjLdSaGvuA"
   },
   "outputs": [],
   "source": [
    "def getFitness(individ, numConflicts, l, w, res=6, conflictDeduction=50):\n",
    "    '''\n",
    "    TO BE USED TO GRAB THE FITNESS OF AN INDIVIDUAL\n",
    "    USED AS A HELPER FUNCTION TO CREATE THE FITNESS OF THE POPULATION\n",
    "    GETS THE FITNESS OF THE INDIVIDUAL\n",
    "    inputs- individ - list of ints - an individual\n",
    "            numConflicts - int - the number of conflicts an individual has. This value comes from conflictCount\n",
    "            l- int - length of the initial solar panel\n",
    "            w- int - width of the initial solar panel\n",
    "            res- int - resolution of the cut. i.e. the cut will happen every 'res' inches\n",
    "            conflictDeduction - int - the amount an individual's fitness should be decreased for every conflict it has\n",
    "    Output- (float) the scaled fitness value for the individual\n",
    "    '''\n",
    "    \n",
    "    \n",
    "    '''\n",
    "    parameters for pvlib\n",
    "    \n",
    "    '''\n",
    "    #Athens, Ga Lat/long\n",
    "    latitude = 33.957409\n",
    "    longitude = -83.376801\n",
    "    \n",
    "    #Creating DateTimeIndex\n",
    "    df = pd.DataFrame({'date': ['2012-07-01 11:00:00','2012-07-01 12:00:00',\n",
    "                            '2012-07-01 13:00:00','2012-07-01 14:00:00','2012-07-01 15:00:00','2012-07-01 16:00:00'\n",
    "                           '2012-07-01 17:00:00','2012-07-01 18:00:00','2012-07-01 19:00:00'],\n",
    "                  }).set_index('date')\n",
    "\n",
    "    #Creating DatetimeIndex Object\n",
    "    df.index = pd.DatetimeIndex(df.index)\n",
    "    \n",
    "    \n",
    "    #Needed paramters for the basic chain model\n",
    "    #These are constant through the whole simulation\n",
    "    cec_mod = pvsystem.retrieve_sam('SandiaMod')\n",
    "    cec_inv = pvsystem.retrieve_sam('CECInverter')\n",
    "    sapm = cec_mod['Advent_Solar_AS160___2006_']\n",
    "    cec = cec_inv['ABB__MICRO_0_3_I_OUTD_US_208_208V__CEC_2014_']\n",
    "\n",
    "    #Dropping the cuts\n",
    "    bitStringLen = int((l-1)/res) + int((w-1)/res)\n",
    "    indAngles = individ[bitStringLen:]\n",
    "    \n",
    "    #Int to keep track of which face\n",
    "    face_position = 0\n",
    "    indFitness = 0\n",
    "    FaceList = getFaceList(individ, l, w, res)\n",
    "    \n",
    "    #Calculating the fitness and scaling\n",
    "    for face in FaceList:\n",
    "        \n",
    "        \n",
    "        #It looks like: [bit1 bit2 bit2 ... z1, t1, a1, z2, t2, a2...]\n",
    "        \n",
    "        #Our basic chain model.\n",
    "        #Surface_tilt is our theta ==> indAngles[face_position+1]\n",
    "        #Surface_arimuth is our alpha ==> indAngles[face_position+2]\n",
    "        model = mc.basic_chain(df.index, latitude, longitude , module_parameters = sapm, inverter_parameters = cec,\n",
    "               surface_tilt=indAngles[face_position+1], surface_azimuth=indAngles[face_position+2])\n",
    "        #Droping the columns we dont need\n",
    "        power = model[0].drop(columns = ['i_sc','i_mp','v_oc','i_x','i_xx'])\n",
    "\n",
    "        #grabbing the face's maximum power before scaling\n",
    "        facePower = power['2012-07'].sum(0)[1]\n",
    "        \n",
    "        #scale the face's fitness based on area and add it to the overall sum\n",
    "        indFitness += facePower*(face[2]/(l*w))\n",
    "        #v_mp is maximum voltage\n",
    "        #p_mp is maximum power\n",
    "        \n",
    "        face_position += 3\n",
    "        \n",
    "    #find conflict deduction amount\n",
    "    deduction = numConflicts*conflictDeduction\n",
    "    \n",
    "    #update fitness\n",
    "    indFitness = indFitness - deduction\n",
    "    \n",
    "    return indFitness\n",
    "    \n",
    "\n",
    "def getPopFitness(population, l, w, zMin, zMax, tMin, tMax, aMin, aMax, res=6, zThresh=20, tThresh=90, aThresh=45, conflictDeductions=50):\n",
    "    \n",
    "    #initialize the fitness list\n",
    "    popFitness = []\n",
    "    \n",
    "    for ind in population:\n",
    "        #get the number of conflicts\n",
    "        numConflicts = conflictCount(ind, l, w, zMin, zMax, tMin, tMax, aMin, aMax, res, zThresh, tThresh, aThresh)\n",
    "        #append fitness of individual to the list\n",
    "        popFitness.append(getFitness(ind, numConflicts, l, w, res, conflictDeductions))\n",
    "        \n",
    "    return popFitness\n",
    "        "
   ]
  },
  {
   "cell_type": "code",
   "execution_count": 0,
   "metadata": {
    "colab": {},
    "colab_type": "code",
    "id": "MzPlqschGvuG",
    "outputId": "fad1345d-71dd-4bc0-a9c1-03372a991c56"
   },
   "outputs": [
    {
     "name": "stdout",
     "output_type": "stream",
     "text": [
      "340.1464593560995\n"
     ]
    }
   ],
   "source": [
    "### test for 'getFitness' and 'getPopFitness'\n",
    "# params\n",
    "l = 65\n",
    "w = 39\n",
    "maxCuts = 6\n",
    "res = 6\n",
    "\n",
    "zMin = 32\n",
    "zMax = 72\n",
    "\n",
    "tMin = -90\n",
    "tMax = 90\n",
    "\n",
    "aMin = 0\n",
    "aMax = 360\n",
    "\n",
    "#thresholds\n",
    "zThresh = 20 #inches\n",
    "tThresh = 90 #degrees\n",
    "aThresh = 45 #degrees\n",
    "\n",
    "popSize = 3\n",
    "\n",
    "individual = makeIndividual(l, w, maxCuts, zMin, zMax, tMin, tMax, aMin, aMax, res)\n",
    "\n",
    "numConflicts = conflictCount(individual, l, w, zMin, zMax, tMin, tMax, aMin, aMax, res=6, zThresh=20, tThresh=90, aThresh=45)\n",
    "\n",
    "print(getFitness(individual, numConflicts, l, w, res=6, conflictDeduction=50))"
   ]
  },
  {
   "cell_type": "code",
   "execution_count": 0,
   "metadata": {
    "colab": {},
    "colab_type": "code",
    "id": "aRnus6qYGvuX",
    "outputId": "60da4711-dc38-4013-91fd-5f1cfb195753"
   },
   "outputs": [
    {
     "data": {
      "text/plain": [
       "[419.51616657404304, 235.99221859854708, 588.2372194003317]"
      ]
     },
     "execution_count": 104,
     "metadata": {
      "tags": []
     },
     "output_type": "execute_result"
    }
   ],
   "source": [
    "pop = makePopulation(popSize, l, w, maxCuts, zMin, zMax, tMin, tMax, aMin, aMax, res=6)\n",
    "getPopFitness(pop, l, w, zMin, zMax, tMin, tMax, aMin, aMax, res=6, zThresh=20, tThresh=90, aThresh=45, conflictDeductions=50)"
   ]
  },
  {
   "cell_type": "code",
   "execution_count": 0,
   "metadata": {
    "colab": {},
    "colab_type": "code",
    "id": "JHjA3caIGvub",
    "outputId": "faa8b171-8841-451a-c4ea-813c47b00c8d"
   },
   "outputs": [
    {
     "name": "stdout",
     "output_type": "stream",
     "text": [
      "[[0, 0, 0, 0, 0, 0, 1, 0, 0, 0, 0, 0, 0, 0, 0, 1, 37, -47, 285, 56, -13, 341, 56, 84, 81, 72, -10, 211, 43, 47, 318, 68, -76, 301, 43, -90, 63, 50, -46, 328, 62, 13, 360, 56, -90, 194, 44, -24, 127, 69, 79, 176, 62, -74, 340, 72, 63, 102, 64, 73, 115, 67, -43, 220], [0, 0, 1, 0, 0, 0, 0, 0, 0, 0, 0, 0, 0, 0, 0, 0, 64, 72, 357, 51, -72, 200, 67, -15, 334, 69, -89, 306, 35, -79, 170, 43, -58, 107, 70, 72, 200, 37, -64, 202, 38, -28, 322, 47, -61, 77, 49, -15, 120, 49, 0, 155, 67, -37, 212, 50, -21, 210, 35, 53, 34, 38, -74, 295], [0, 0, 0, 0, 0, 0, 1, 0, 0, 0, 0, 0, 0, 0, 0, 0, 54, -40, 72, 42, 21, 63, 69, 68, 115, 60, 12, 213, 67, -90, 247, 45, -89, 181, 36, -65, 281, 45, 39, 262, 58, 36, 137, 64, -29, 82, 39, 63, 307, 64, 31, 47, 69, -5, 41, 43, -34, 290, 45, -70, 186, 43, 0, 288]]\n"
     ]
    }
   ],
   "source": [
    "print(pop)"
   ]
  },
  {
   "cell_type": "code",
   "execution_count": 0,
   "metadata": {
    "colab": {},
    "colab_type": "code",
    "id": "fN-ZPdWK6c5S",
    "outputId": "c3a8c7d0-513c-49d5-cd64-d8f45e7eae75"
   },
   "outputs": [
    {
     "name": "stdout",
     "output_type": "stream",
     "text": [
      "[0, 0, 0, 1, 0, 0, 1, 0, 0, 0, 0, 0, 0, 0, 1, 0, 52, -11, 268, 64, -39, 347, 70, 80, 340, 34, -70, 225, 63, -74, 46, 58, 60, 287, 48, 83, 204, 69, 9, 280, 44, 72, 67, 41, 8, 131, 37, -19, 328, 64, -41, 108, 41, 62, 186, 71, 2, 70, 61, 77, 324, 62, -49, 108]\n"
     ]
    }
   ],
   "source": [
    "print(individual)"
   ]
  },
  {
   "cell_type": "code",
   "execution_count": 0,
   "metadata": {
    "colab": {},
    "colab_type": "code",
    "id": "xeg8Y2Et6c5Y",
    "outputId": "5630d979-7a5e-4fda-ab8e-9244dbc5efa2"
   },
   "outputs": [
    {
     "name": "stdout",
     "output_type": "stream",
     "text": [
      "[1, 1, 0, 1, 1, 1, 0, 1, 0, 0, 0, 0, 0, 0, 0, 0, 33, 53, 261, 50, -4, 207, 62, -18, 102, 49, 85, 182, 39, 45, 75, 53, -60, 138, 55, -35, 271, 56, 73, 331, 71, 61, 162, 36, 67, 8, 61, -12, 263, 49, 36, 254, 49, 86, 13, 70, 79, 245, 43, -74, 230, 56, -48, 350]\n"
     ]
    }
   ],
   "source": [
    "##messing around to figure out 'bitStringResolution' function\n",
    "#individ1 has 6 cuts\n",
    "individ1 = [1, 1, 1, 1, 1, 1, 0, 0, 0, 0, 0, 0, 0, 0, 0, 0, \n",
    "            33, 53, 261, 50, -4, 207, 62, -18, 102, 49, 85, 182, 39, 45, 75, 53, -60, 138, 55, -35, 271, 56, 73, 331, 71, \n",
    "            61, 162, 36, 67, 8, 61, -12, 263, 49, 36, 254, 49, 86, 13, 70, 79, 245, 43, -74, 230, 56, -48, 350]\n",
    "#individ2 has 8 cuts\n",
    "individ2 = [1, 1, 1, 1, 1, 1, 1, 1, 0, 0, 0, 0, 0, 0, 0, 0, \n",
    "            33, 53, 261, 50, -4, 207, 62, -18, 102, 49, 85, 182, 39, 45, 75, 53, -60, 138, 55, -35, 271, 56, 73, 331, 71, \n",
    "            61, 162, 36, 67, 8, 61, -12, 263, 49, 36, 254, 49, 86, 13, 70, 79, 245, 43, -74, 230, 56, -48, 350]\n",
    "##params\n",
    "l = 65\n",
    "w = 39\n",
    "maxCuts = 6\n",
    "res = 6\n",
    "\n",
    "\n",
    "#get the length of the bitString\n",
    "bitStringLen = int((l-1)/res) + int((w-1)/res)\n",
    "\n",
    "bitString = individ2[:bitStringLen]\n",
    "\n",
    "# vars to store number of 1's, number of extra cuts, and list of the indexes of the ones\n",
    "numCuts = 0\n",
    "extraCuts = 0\n",
    "indexList = []\n",
    "\n",
    "index = 0\n",
    "for bit in bitString:\n",
    "    if bit == 1:\n",
    "        numCuts += 1\n",
    "        indexList.append(index)\n",
    "        if numCuts > maxCuts:\n",
    "            extraCuts += 1\n",
    "    index += 1\n",
    "\n",
    "#for every extra cut, make one 1 into a zero\n",
    "for i in range(extraCuts):\n",
    "    \n",
    "    #get get index of the 1 to flip to a 0\n",
    "    randomIndex = random.randint(0, len(indexList)-1)\n",
    "    indexToFlip = indexList[randomIndex]\n",
    "    \n",
    "    #flip a 1 to a zero\n",
    "    individ2[indexToFlip] = 0\n",
    "    \n",
    "    #update indexList so you don't reflip any bits\n",
    "    del indexList[randomIndex]\n",
    "\n",
    "print(individ2)"
   ]
  },
  {
   "cell_type": "code",
   "execution_count": 0,
   "metadata": {
    "colab": {},
    "colab_type": "code",
    "id": "id8wFvF-6c5d"
   },
   "outputs": [],
   "source": [
    "def bitStringResolution(individual, bitStringLen, maxCuts):\n",
    "    \"\"\"\n",
    "    inputs - individual - list of ints - an individual. It looks like: [bit1 bit2 bit2 ... z1, t1, a1, z2, t2, a2...]\n",
    "           - bitStringLen - int - length of bitstring at beginning of individual. equal to int((l-1)/res) + int((w-1)/res)\n",
    "           - maxCuts - int - max number of cuts allowed\n",
    "    \"\"\"\n",
    "    #get the bit string\n",
    "    bitString = individual[:bitStringLen]\n",
    "\n",
    "    # vars to store number of 1's, number of extra cuts, and list of the indexes of the ones\n",
    "    numCuts = 0\n",
    "    extraCuts = 0\n",
    "    indexList = []\n",
    "\n",
    "    index = 0\n",
    "    for bit in bitString:\n",
    "        if bit == 1:\n",
    "            numCuts += 1\n",
    "            indexList.append(index)\n",
    "            if numCuts > maxCuts:\n",
    "                extraCuts += 1\n",
    "        index += 1\n",
    "\n",
    "    #for every extra cut, make one 1 into a zero\n",
    "    for i in range(extraCuts):\n",
    "\n",
    "        #get get index of the 1 to flip to a 0\n",
    "        randomIndex = random.randint(0, len(indexList)-1)\n",
    "        indexToFlip = indexList[randomIndex]\n",
    "\n",
    "        #flip a 1 to a zero\n",
    "        individual[indexToFlip] = 0\n",
    "\n",
    "        #update indexList so you don't reflip any bits\n",
    "        del indexList[randomIndex]\n",
    "\n",
    "    return individual"
   ]
  },
  {
   "cell_type": "code",
   "execution_count": 0,
   "metadata": {
    "colab": {},
    "colab_type": "code",
    "id": "tAesAoqB6c5h",
    "outputId": "f149f02f-c65e-41b1-c700-85e805cd2690"
   },
   "outputs": [
    {
     "name": "stdout",
     "output_type": "stream",
     "text": [
      "[1, 1, 1, 1, 1, 1, 0, 0, 0, 0, 0, 0, 0, 0, 0, 0, 33, 53, 261, 50, -4, 207, 62, -18, 102, 49, 85, 182, 39, 45, 75, 53, -60, 138, 55, -35, 271, 56, 73, 331, 71, 61, 162, 36, 67, 8, 61, -12, 263, 49, 36, 254, 49, 86, 13, 70, 79, 245, 43, -74, 230, 56, -48, 350]\n"
     ]
    }
   ],
   "source": [
    "##test for bitStringResolution\n",
    "##params\n",
    "l = 65\n",
    "w = 39\n",
    "maxCuts = 6\n",
    "res = 6\n",
    "bitStringLen = int((l-1)/res) + int((w-1)/res)\n",
    "\n",
    "#example individuals\n",
    "#individ1 has 6 cuts\n",
    "individ1 = [1, 1, 1, 1, 1, 1, 0, 0, 0, 0, 0, 0, 0, 0, 0, 0, \n",
    "            33, 53, 261, 50, -4, 207, 62, -18, 102, 49, 85, 182, 39, 45, 75, 53, -60, 138, 55, -35, 271, 56, 73, 331, 71, \n",
    "            61, 162, 36, 67, 8, 61, -12, 263, 49, 36, 254, 49, 86, 13, 70, 79, 245, 43, -74, 230, 56, -48, 350]\n",
    "#individ2 has 8 cuts\n",
    "individ2 = [1, 1, 1, 1, 1, 1, 1, 1, 0, 0, 0, 0, 0, 0, 0, 0, \n",
    "            33, 53, 261, 50, -4, 207, 62, -18, 102, 49, 85, 182, 39, 45, 75, 53, -60, 138, 55, -35, 271, 56, 73, 331, 71, \n",
    "            61, 162, 36, 67, 8, 61, -12, 263, 49, 36, 254, 49, 86, 13, 70, 79, 245, 43, -74, 230, 56, -48, 350]\n",
    "\n",
    "\n",
    "print(bitStringResolution(individ2, bitStringLen, maxCuts))"
   ]
  },
  {
   "cell_type": "code",
   "execution_count": 0,
   "metadata": {
    "colab": {},
    "colab_type": "code",
    "id": "Mg1J-27JGvue"
   },
   "outputs": [],
   "source": [
    "def uniformCrossover(p1, p2):\n",
    "    \"\"\"\n",
    "    CROSSOVER\n",
    "    inputs- p1 - list of intss - an individual \n",
    "            p2 - list of intss - an individual \n",
    "    outputs - child1 - list of floats- a new individual that is made from uniform crossover from parents\n",
    "            - child2 - list of floats- a new individual that is made from uniform crossover from parents\n",
    "    \"\"\"\n",
    "    #error check\n",
    "    if len(p1) != len(p2):\n",
    "        return \"ERROR: parents are not the same length\"\n",
    "    \n",
    "    #initialize children\n",
    "    child1 = []\n",
    "    child2 = []\n",
    "    \n",
    "    #do uniform crossover\n",
    "    for i in range(len(p1)):\n",
    "        coinFlip = round(random.uniform(0,1), 3)\n",
    "        if coinFlip < 0.5:\n",
    "            child1.append(p1[i])\n",
    "            child2.append(p2[i])\n",
    "        else:\n",
    "            child1.append(p2[i])\n",
    "            child2.append(p1[i])\n",
    "    return child1, child2"
   ]
  },
  {
   "cell_type": "code",
   "execution_count": 0,
   "metadata": {
    "colab": {},
    "colab_type": "code",
    "id": "zjLgrJHa6c6D"
   },
   "outputs": [],
   "source": [
    "##test for uniform crossover\n",
    "\n"
   ]
  },
  {
   "cell_type": "code",
   "execution_count": 0,
   "metadata": {
    "colab": {},
    "colab_type": "code",
    "id": "vNfVvqws6c6K"
   },
   "outputs": [],
   "source": [
    "def onePointCrossover(p1, p2):\n",
    "    \"\"\"\n",
    "    CROSSOVER\n",
    "    inputs- p1 - list of ints - an individual \n",
    "            p2 - list of ints - an individual \n",
    "    outputs - child1 - list of ints- a new individual that is made from uniform crossover from parents\n",
    "            - child2 - list of ints- a new individual that is made from uniform crossover from parents\n",
    "    \"\"\"\n",
    "    #error check\n",
    "    if len(p1) != len(p2):\n",
    "        return \"ERROR: parents are not the same length\"\n",
    "    \n",
    "    #initialize children\n",
    "    child1 = []\n",
    "    child2 = []\n",
    "    \n",
    "    #get the split point\n",
    "    splitPoint = random.randint(1, len(p1)-1)\n",
    "    \n",
    "    startIndex = 0\n",
    "    endIndex = splitPoint\n",
    "    \n",
    "    #append the beginning part of the parents to the children\n",
    "    child1.extend(p1[startIndex: endIndex])\n",
    "    child2.extend(p2[startIndex: endIndex])\n",
    "    \n",
    "    #update start and end points\n",
    "    startIndex = splitPoint\n",
    "    endIndex = len(p1)\n",
    "    \n",
    "    #append the ending part of the parents to the children\n",
    "    child1.extend(p2[startIndex: endIndex])\n",
    "    child2.extend(p1[startIndex: endIndex])\n",
    "\n",
    "    return child1, child2"
   ]
  },
  {
   "cell_type": "code",
   "execution_count": 0,
   "metadata": {
    "colab": {},
    "colab_type": "code",
    "id": "taZA94i26c6N",
    "outputId": "b5ad7586-139e-4136-a769-5b47138dc56d"
   },
   "outputs": [
    {
     "name": "stdout",
     "output_type": "stream",
     "text": [
      "([1, 12, 13, 14, 15], [11, 2, 3, 4, 5])\n"
     ]
    }
   ],
   "source": [
    "## test for onePointCrossover\n",
    "#test successful\n",
    "\n",
    "individ1 = [1,2,3,4,5]\n",
    "individ2 = [11,12,13,14,15]\n",
    "\n",
    "print(onePointCrossover(individ1, individ2))"
   ]
  },
  {
   "cell_type": "code",
   "execution_count": 0,
   "metadata": {
    "colab": {},
    "colab_type": "code",
    "id": "t6WTN7an6c6X"
   },
   "outputs": [],
   "source": [
    "\"\"\"\n",
    "not yet finished\n",
    "\"\"\"\n",
    "\n",
    "def nPointCrossover(N, p1, p2):\n",
    "    \"\"\"\n",
    "    CROSSOVER\n",
    "    inputs- p1 - list of ints - an individual \n",
    "            p2 - list of ints - an individual \n",
    "    outputs - child1 - list of ints- a new individual that is made from uniform crossover from parents\n",
    "            - child2 - list of ints- a new individual that is made from uniform crossover from parents\n",
    "    \"\"\"\n",
    "    #error check\n",
    "    if len(p1) != len(p2):\n",
    "        return \"ERROR: parents are not the same length\"\n",
    "    \n",
    "    #initialize children\n",
    "    child1 = []\n",
    "    child2 = []\n",
    "    \n",
    "    #for N points in the parent\n",
    "    splitPoints = []\n",
    "    for i in range(N):\n",
    "        splitPoint = random.randint(0, len(p1)-1)\n",
    "        splitPoints.append(splitPoint)\n",
    "    \n",
    "    #sort the list\n",
    "    splitPoints.sort()\n",
    "    \n",
    "    startIndex = 0\n",
    "    endIndex = splitPoints[0]\n",
    "    #for every splitpoint\n",
    "    for i in range(len(splitPoints)):\n",
    "        \n",
    "        #append alternate sections to children\n",
    "        if (i % 2) == 0:\n",
    "            child1.extend(p1[startIndex: endIndex])\n",
    "            child2.extend(p2[startIndex: endIndex])\n",
    "            \n",
    "        elif (i % 2) == 1:\n",
    "            child1.extend(p2[startIndex: endIndex])\n",
    "            child2.extend(p1[startIndex: endIndex])\n",
    "        \n",
    "        if startIndex == splitPoints[-2]:\n",
    "            startIndex == splitPoints[-1]\n",
    "            endIndex == len(p1)\n",
    "        \n",
    "        else:\n",
    "            #update startIndex and endIndex\n",
    "            startIndex = splitPoints[i+1]\n",
    "            endIndex = splitPoints[i+2]\n",
    "\n",
    "    return child1, child2"
   ]
  },
  {
   "cell_type": "code",
   "execution_count": 0,
   "metadata": {
    "colab": {},
    "colab_type": "code",
    "id": "8Pn0XhBs6c6c"
   },
   "outputs": [],
   "source": [
    "## test for nPointCrossover\n",
    "\n",
    "individ1 = [1,2,3,4,5]\n",
    "individ2 = [11,12,13,14,15]\n",
    "\n",
    "N = 2\n",
    "\n",
    "#print(nPointCrossover(N, individ1, individ2))"
   ]
  },
  {
   "cell_type": "code",
   "execution_count": 0,
   "metadata": {
    "colab": {},
    "colab_type": "code",
    "id": "hyYd6wfQGvuh"
   },
   "outputs": [],
   "source": [
    "def tournamentSelection(population, fitnessPop, optimize='max'):\n",
    "    \"\"\"\n",
    "    PARENT SELECTION\n",
    "    inputs - population - a list of lists of integers. Each list of integers is an individual.\n",
    "             fitnessPop - list of floats - list of fitness such that the index of a fitness matches the index of the \n",
    "                                           individual from 'population' \n",
    "             optimize - string - either 'min' or 'max'. If 'max', then a higher fitness will be preferred. If 'min'\n",
    "                                 then a lower fitness will be preferred\n",
    "    outputs - parent1, parent2 - these will be two parents chosen from the population\n",
    "    \n",
    "    NOTE: this assumes only two combatants in the tournament\n",
    "    \"\"\"\n",
    "    #initialize list of parents (should be of length 2)\n",
    "    parents = []\n",
    "    \n",
    "    #get number of individuals in population\n",
    "    numOfIndividuals = len(population)\n",
    "    \n",
    "    #to get two parents\n",
    "    for i in range(2):\n",
    "        #get index of both combatants\n",
    "        index1 = random.randint(0, numOfIndividuals-1)\n",
    "        index2 = random.randint(0, numOfIndividuals-1)\n",
    "\n",
    "        #stops the same individual from battling itself\n",
    "        while index1==index2:\n",
    "            index2 = random.randint(0, numOfIndividuals-1)\n",
    "\n",
    "        #get fighters\n",
    "        fighter1 = population[index1]\n",
    "        fighter2 = population[index2]\n",
    "        ##get fitnesses\n",
    "        fitness1 = fitnessPop[index1]\n",
    "        fitness2 = fitnessPop[index2]\n",
    "        ##find winner\n",
    "        if optimize=='max':\n",
    "            if fitness1 >= fitness2:\n",
    "                parents.append(fighter1)\n",
    "            else:\n",
    "                parents.append(fighter2)\n",
    "                \n",
    "        elif optimize == 'min':\n",
    "            if fitness1 <= fitness2:\n",
    "                parents.append(fighter1)\n",
    "            else:\n",
    "                parents.append(fighter2)\n",
    "        \n",
    "        else:\n",
    "            return \"ERROR: the param 'optimize' is not given a valid value. It must be empty, 'max', or 'min'\"\n",
    "    \n",
    "    #return result\n",
    "    return parents[0], parents[1]"
   ]
  },
  {
   "cell_type": "code",
   "execution_count": 0,
   "metadata": {
    "colab": {},
    "colab_type": "code",
    "id": "5hP7sc7SGvuq"
   },
   "outputs": [],
   "source": [
    "def replaceWorst(population, newIndividual1, newIndividual2, fitnessPop, zMin, zMax, tMin, tMax, aMin, aMax, res=6, \n",
    "                 zThresh=20, tThresh=90, aThresh=45, conflictDeduction=50, optimize='max'):\n",
    "    \"\"\"\n",
    "    SURVIVAL SELECTION- STEADY STATE\n",
    "    inputs - population - a list of lists of integers. Each list of integers is an individual and\n",
    "                          is assumed to be a permutation.\n",
    "             newIndividual1 -  a list of integers -This will replace the worst out of the population\n",
    "             newIndividual2 -  a list of integers - This will replace the 2nd worst out of the population\n",
    "             fitnessPop - list of floats - list of fitness such that the index of a fitness matches the index of the \n",
    "                                           individual from 'population'\n",
    "             zMin - int - min possible value of z\n",
    "             zMax - int - min possible value of z\n",
    "             tMin - int - min possible value of t\n",
    "             tMax - int - min possible value of t\n",
    "             aMin - int - min possible value of a\n",
    "             aMax - int - min possible value of a\n",
    "             res- int - resolution of the cut. i.e. the cut will happen every 'res' inches\n",
    "             zThresh- the threshold that describes if two solar panels are closer then zThresh inches, and the\n",
    "                      other thresholds are passed, then that face will be mutated\n",
    "             tThresh- the threshold that describes if two solar panels are closer then tThresh degrees, and the\n",
    "                      other thresholds are passed, then that face will be mutated\n",
    "             aThresh- the threshold that describes if two solar panels are closer then aThresh degrees, and the\n",
    "                     other thresholds are passed, then that face will be mutated\n",
    "             conflictDeduction - int - the amount an individual's fitness should be decreased for every conflict it has\n",
    "             optimize - string - either 'min' or 'max'. If 'max', then a higher fitness will be preferred. If 'min'\n",
    "                                 then a lower fitness will be preferred\n",
    "    output - a new population where 'newIndividual1' and 'newIndividual2' has replaced the worst 2 individuals.\n",
    "           - a new fitnessPop where the appropriate fitnesses have been replaced with the fitnesses of \n",
    "                   'newIndividual1' and 'newIndividual2'.\n",
    "    \n",
    "    NOTE: this function takes in two children and they will replace the two worst people in the given population\n",
    "    NOTE: this function assumes that the possible fitnesses are between -9999999999999 and 9999999999999.\n",
    "    \"\"\"\n",
    "    #initialize list of fitness values\n",
    "    fitnessList = fitnessPop\n",
    "    \n",
    "    #get the fitness values of the newIndividuals\n",
    "    numConflicts1 = conflictCount(newIndividual1, l, w, zMin, zMax, tMin, tMax, aMin, aMax, res, zThresh, tThresh, aThresh)\n",
    "    newFitness1 = getFitness(newIndividual1, numConflicts1, l, w, res, conflictDeduction)\n",
    "    \n",
    "    numConflicts2 = conflictCount(newIndividual1, 2, w, zMin, zMax, tMin, tMax, aMin, aMax, res, zThresh, tThresh, aThresh)\n",
    "    newFitness2 = getFitness(newIndividual2, numConflicts2, l, w, res, conflictDeduction)\n",
    "    \n",
    "    if optimize == 'min':\n",
    "        #find biggest(worst) fitness\n",
    "        maximum1 = max(fitnessList)\n",
    "        #find location of individual with worst fitness\n",
    "        maxIndex1 = fitnessList.index(maximum1)\n",
    "        #make the worst fitness, not the worst anymore, so i can find the 2nd worst\n",
    "        fitnessList[maxIndex1] = -9999999999999\n",
    "\n",
    "        #find 2nd worst fitness\n",
    "        maximum2 = max(fitnessList)\n",
    "        #find location of individual with 2nd worst fitness\n",
    "        maxIndex2 = fitnessList.index(maximum2)\n",
    "\n",
    "        #replace worst indiviudals in population and replace their fitnesses\n",
    "        population[maxIndex1] = newIndividual1\n",
    "        population[maxIndex2] = newIndividual2\n",
    "        \n",
    "        fitnessList[maxIndex1] = newFitness1\n",
    "        fitnessList[maxIndex2] = newFitness2\n",
    "        \n",
    "    elif optimize == 'max':\n",
    "        #find smallest(worst) fitness\n",
    "        minimum1 = min(fitnessList)\n",
    "        #find location of individual with worst fitness\n",
    "        minIndex1 = fitnessList.index(minimum1)\n",
    "        #make the worst fitness, not the worst anymore, so i can find the 2nd worst\n",
    "        fitnessList[minIndex1] = 9999999999999\n",
    "\n",
    "        #find 2nd worst fitness\n",
    "        minimum2 = min(fitnessList)\n",
    "        #find location of individual with 2nd worst fitness\n",
    "        minIndex2 = fitnessList.index(minimum2)\n",
    "\n",
    "        #replace worst indiviudals in population and replace their fitnesses\n",
    "        population[minIndex1] = newIndividual1\n",
    "        population[minIndex2] = newIndividual2\n",
    "        \n",
    "        fitnessList[minIndex1] = newFitness1\n",
    "        fitnessList[minIndex2] = newFitness2\n",
    "        \n",
    "    else:\n",
    "        return \"ERROR: the param 'optimize' is not given a valid value. It must be empty, 'max', or 'min'\"\n",
    "\n",
    "    #return results\n",
    "    return population, fitnessList"
   ]
  },
  {
   "cell_type": "code",
   "execution_count": 0,
   "metadata": {
    "colab": {},
    "colab_type": "code",
    "id": "DVqHHftr6c6p",
    "outputId": "7b760958-b86c-4a7a-8c43-3e43482648f7"
   },
   "outputs": [
    {
     "name": "stdout",
     "output_type": "stream",
     "text": [
      "population: [[0, 1, 0, 0, 1, 1, 0, 0, 0, 0, 0, 0, 1, 1, 0, 1, 33, 36, 188, 70, 69, 195, 71, -2, 148, 51, 84, 290, 65, -90, 31, 68, 1, 256, 46, 65, 261, 39, -85, 335, 50, 17, 262, 55, 88, 182, 40, -67, 245, 35, -8, 230, 69, 29, 58, 52, -54, 63, 36, 85, 55, 69, 88, 318], [1, 0, 0, 0, 0, 0, 0, 0, 0, 0, 1, 0, 0, 0, 1, 0, 51, 35, 245, 54, -47, 280, 53, 30, 51, 32, -80, 329, 67, -78, 278, 62, -10, 280, 72, 10, 343, 60, 70, 155, 40, -62, 281, 36, -49, 31, 46, 11, 355, 60, -4, 64, 35, -50, 305, 52, 89, 74, 55, -49, 111, 62, 21, 181], [1, 0, 0, 1, 1, 0, 0, 1, 0, 1, 0, 0, 0, 0, 0, 1, 57, -70, 275, 55, -50, 21, 43, 82, 194, 37, 63, 199, 56, -44, 176, 37, 81, 130, 58, -24, 196, 51, -28, 195, 42, 73, 22, 56, -80, 38, 42, 27, 191, 43, -18, 331, 68, -33, 155, 49, -86, 157, 52, -66, 59, 60, 21, 326]]\n",
      "fitnessList: [519.516166574043, 335.9922185985471, 688.2372194003317]\n"
     ]
    }
   ],
   "source": [
    "### setup for test for tournamentSelection and replaceWorst\n",
    "# params\n",
    "l = 65\n",
    "w = 39\n",
    "maxCuts = 6\n",
    "res = 6\n",
    "\n",
    "zMin = 32\n",
    "zMax = 72\n",
    "\n",
    "tMin = -90\n",
    "tMax = 90\n",
    "\n",
    "aMin = 0\n",
    "aMax = 360\n",
    "\n",
    "#thresholds\n",
    "zThresh = 20 #inches\n",
    "tThresh = 90 #degrees\n",
    "aThresh = 45 #degrees\n",
    "\n",
    "conflictDeductions = 50\n",
    "popSize = 3\n",
    "\n",
    "\n",
    "pop1 = makePopulation(popSize, l, w, maxCuts, zMin, zMax, tMin, tMax, aMin, aMax, res)\n",
    "fitnessList = getPopFitness(pop, l, w, zMin, zMax, tMin, tMax, aMin, aMax, res, zThresh, tThresh, aThresh, conflictDeductions)\n",
    "\n",
    "print(\"population: \" + str(pop1))\n",
    "print(\"fitnessList: \" + str(fitnessList))"
   ]
  },
  {
   "cell_type": "code",
   "execution_count": 0,
   "metadata": {
    "colab": {},
    "colab_type": "code",
    "id": "g4q4Qnik6c6u"
   },
   "outputs": [],
   "source": [
    "#test for tournamentSelection\n",
    "#test successful\n",
    "\n",
    "p1, p2 = tournamentSelection(pop1, fitnessList, optimize='max')\n",
    "#print(\"parent1: \" + str(p1))\n",
    "#print(\"parent2: \" + str(p2))\n"
   ]
  },
  {
   "cell_type": "code",
   "execution_count": 0,
   "metadata": {
    "colab": {},
    "colab_type": "code",
    "id": "-n6xvvQF6c6x",
    "outputId": "8814be25-08a9-41c3-d89b-ea69ac31f618"
   },
   "outputs": [
    {
     "name": "stdout",
     "output_type": "stream",
     "text": [
      "([[1, 0, 0, 1, 1, 0, 0, 1, 0, 1, 0, 0, 0, 0, 0, 1, 57, -70, 275, 55, -50, 21, 43, 82, 194, 37, 63, 199, 56, -44, 176, 37, 81, 130, 58, -24, 196, 51, -28, 195, 42, 73, 22, 56, -80, 38, 42, 27, 191, 43, -18, 331, 68, -33, 155, 49, -86, 157, 52, -66, 59, 60, 21, 326], [0, 1, 0, 0, 1, 1, 0, 0, 0, 0, 0, 0, 1, 1, 0, 1, 33, 36, 188, 70, 69, 195, 71, -2, 148, 51, 84, 290, 65, -90, 31, 68, 1, 256, 46, 65, 261, 39, -85, 335, 50, 17, 262, 55, 88, 182, 40, -67, 245, 35, -8, 230, 69, 29, 58, 52, -54, 63, 36, 85, 55, 69, 88, 318], [1, 0, 0, 1, 1, 0, 0, 1, 0, 1, 0, 0, 0, 0, 0, 1, 57, -70, 275, 55, -50, 21, 43, 82, 194, 37, 63, 199, 56, -44, 176, 37, 81, 130, 58, -24, 196, 51, -28, 195, 42, 73, 22, 56, -80, 38, 42, 27, 191, 43, -18, 331, 68, -33, 155, 49, -86, 157, 52, -66, 59, 60, 21, 326]], [598.4672853496099, 333.9265750814215, 688.2372194003317])\n"
     ]
    }
   ],
   "source": [
    "##test for replaceWorst\n",
    "#test is successful\n",
    "print(replaceWorst(pop1, p1, p2, fitnessList, zMin, zMax, tMin, tMax, aMin, aMax, res, \n",
    "                 zThresh, tThresh, aThresh, optimize='max'))"
   ]
  },
  {
   "cell_type": "code",
   "execution_count": 0,
   "metadata": {
    "colab": {},
    "colab_type": "code",
    "id": "_wMwMpnNGvuw",
    "outputId": "da17e05e-751b-4e72-84b0-b48b8fff51d6"
   },
   "outputs": [
    {
     "name": "stdout",
     "output_type": "stream",
     "text": [
      "starting individual: [1, 1, 1, 1, 1, 1, 0, 0, 0, 0, 0, 0, 0, 0, 0, 0, 33, 53, 261, 50, -4, 207, 62, -18, 102, 49, 85, 182, 39, 45, 75, 53, -60, 138, 55, -35, 271, 56, 73, 331, 71, 61, 162, 36, 67, 8, 61, -12, 263, 49, 36, 254, 49, 86, 13, 70, 79, 245, 43, -74, 230, 56, -48, 350]\n",
      "value to be mutated: 0\n",
      "new value: 1\n",
      "mutation point: 7\n",
      "ending individual: [1, 1, 1, 0, 1, 1, 0, 1, 0, 0, 0, 0, 0, 0, 0, 0, 33, 53, 261, 50, -4, 207, 62, -18, 102, 49, 85, 182, 39, 45, 75, 53, -60, 138, 55, -35, 271, 56, 73, 331, 71, 61, 162, 36, 67, 8, 61, -12, 263, 49, 36, 254, 49, 86, 13, 70, 79, 245, 43, -74, 230, 56, -48, 350]\n"
     ]
    }
   ],
   "source": [
    "###messing around for mutation operator\n",
    "# params\n",
    "l = 65\n",
    "w = 39\n",
    "maxCuts = 6\n",
    "res = 6\n",
    "\n",
    "zMin = 32\n",
    "zMax = 72\n",
    "\n",
    "tMin = -90\n",
    "tMax = 90\n",
    "\n",
    "aMin = 0\n",
    "aMax = 360\n",
    "\n",
    "#individ1 has 6 cuts\n",
    "individ1 = [1, 1, 1, 1, 1, 1, 0, 0, 0, 0, 0, 0, 0, 0, 0, 0, \n",
    "            33, 53, 261, 50, -4, 207, 62, -18, 102, 49, 85, 182, 39, 45, 75, 53, -60, 138, 55, -35, 271, 56, 73, 331, 71, \n",
    "            61, 162, 36, 67, 8, 61, -12, 263, 49, 36, 254, 49, 86, 13, 70, 79, 245, 43, -74, 230, 56, -48, 350]\n",
    "#individ2 has 8 cuts\n",
    "individ2 = [1, 1, 1, 1, 1, 1, 1, 1, 0, 0, 0, 0, 0, 0, 0, 0, \n",
    "            33, 53, 261, 50, -4, 207, 62, -18, 102, 49, 85, 182, 39, 45, 75, 53, -60, 138, 55, -35, 271, 56, 73, 331, 71, \n",
    "            61, 162, 36, 67, 8, 61, -12, 263, 49, 36, 254, 49, 86, 13, 70, 79, 245, 43, -74, 230, 56, -48, 350]\n",
    "\n",
    "individual = individ1\n",
    "print(\"starting individual: \" + str(individual))\n",
    "\n",
    "#get point where mutation will happen\n",
    "mutationPoint = random.randint(0, len(individual)-1)\n",
    "\n",
    "print(\"value to be mutated: \" + str(individual[mutationPoint]))\n",
    "\n",
    "#get the lenth of the bit string\n",
    "bitStringLen = int((l-1)/res) + int((w-1)/res)\n",
    "\n",
    "#if mutation point is within the bitString, do a bit flip\n",
    "if mutationPoint < bitStringLen:\n",
    "    if individual[mutationPoint] == 1:\n",
    "        individual[mutationPoint] = 0\n",
    "    elif individual[mutationPoint] == 0:\n",
    "        individual[mutationPoint] = 1\n",
    "#else if the mutation point is within the param string\n",
    "else:\n",
    "    paramIndex = mutationPoint - (bitStringLen)\n",
    "    #if a z value is to be mutated\n",
    "    if (paramIndex % 3) == 0:\n",
    "        individual[mutationPoint] = random.randint(zMin, zMax)\n",
    "    #if a t value is to be mutated\n",
    "    elif (paramIndex % 3) == 1:\n",
    "        individual[mutationPoint] = random.randint(tMin, tMax)\n",
    "    #if an a value is to be mutated\n",
    "    elif (paramIndex % 3) == 2:\n",
    "        individual[mutationPoint] = random.randint(aMin, aMax)\n",
    "\n",
    "\n",
    "print(\"new value: \" + str(individual[mutationPoint]))\n",
    "print(\"mutation point: \" + str(mutationPoint))\n",
    "print(\"ending individual: \" + str(bitStringResolution(individual, bitStringLen, maxCuts)))"
   ]
  },
  {
   "cell_type": "code",
   "execution_count": 0,
   "metadata": {
    "colab": {},
    "colab_type": "code",
    "id": "p5UWf8556c6_"
   },
   "outputs": [],
   "source": [
    "def mutation(individual, pm, l, w, zMin, zMax, tMin, tMax, aMin, aMax, res=6, zThresh=20, tThresh=90, aThresh=45):\n",
    "    \"\"\"\n",
    "    MAKES A POPULATION\n",
    "    inputs- individual - list of ints - an individual. It looks like: [bit1 bit2 bit2 ... z1, t1, a1, z2, t2, a2...]\n",
    "            pm - float between 0.0 and 1.0 - the probability a mutation will occur for an individual\n",
    "            l- int - length of the initial solar panel\n",
    "            w- int - width of the initial solar panel\n",
    "            maxCuts - int - the maximum number of allowed cuts\n",
    "            zMin - int - min possible value of z\n",
    "            zMax - int - min possible value of z\n",
    "            tMin - int - min possible value of t\n",
    "            tMax - int - min possible value of t\n",
    "            aMin - int - min possible value of a\n",
    "            aMax - int - min possible value of a\n",
    "            res- int - resolution of the cut. i.e. the cut will happen every 'res' inches\n",
    "            zThresh- the threshold that describes if two solar panels are closer then zThresh inches, and the\n",
    "                     other thresholds are passed, then that face will be mutated\n",
    "            tThresh- the threshold that describes if two solar panels are closer then tThresh degrees, and the\n",
    "                     other thresholds are passed, then that face will be mutated\n",
    "            aThresh- the threshold that describes if two solar panels are closer then aThresh degrees, and the\n",
    "                     other thresholds are passed, then that face will be mutated\n",
    "    output- takes in an individual and returns a new individual that has been mutated\n",
    "    \"\"\"\n",
    "    #see if mutation is done\n",
    "    check = random.uniform(0, 1)\n",
    "    if check <= pm:\n",
    "        #get point where mutation will happen\n",
    "        mutationPoint = random.randint(0, len(individual)-1)\n",
    "\n",
    "        #get the lenth of the bit string\n",
    "        bitStringLen = int((l-1)/res) + int((w-1)/res)\n",
    "\n",
    "        #if mutation point is within the bitString, do a bit flip\n",
    "        if mutationPoint < bitStringLen:\n",
    "            if individual[mutationPoint] == 1:\n",
    "                individual[mutationPoint] = 0\n",
    "            elif individual[mutationPoint] == 0:\n",
    "                individual[mutationPoint] = 1\n",
    "        #else if the mutation point is within the param string\n",
    "        else:\n",
    "            #get index within the param string so i can check if it is z,t, or a val\n",
    "            paramIndex = mutationPoint - bitStringLen\n",
    "            #if a z value is to be mutated\n",
    "            if (paramIndex % 3) == 0:\n",
    "                individual[mutationPoint] = random.randint(zMin, zMax)\n",
    "            #if a t value is to be mutated\n",
    "            elif (paramIndex % 3) == 1:\n",
    "                individual[mutationPoint] = random.randint(tMin, tMax)\n",
    "            #if an a value is to be mutated\n",
    "            elif (paramIndex % 3) == 2:\n",
    "                individual[mutationPoint] = random.randint(aMin, aMax)\n",
    "    \n",
    "    #return result\n",
    "    return individual"
   ]
  },
  {
   "cell_type": "code",
   "execution_count": 0,
   "metadata": {
    "colab": {},
    "colab_type": "code",
    "id": "z32WvhBV6c7D",
    "outputId": "3ad9214f-05fd-464b-8e1e-c3f53aec00c1"
   },
   "outputs": [
    {
     "name": "stdout",
     "output_type": "stream",
     "text": [
      "starting individual: [1, 1, 1, 1, 1, 1, 0, 0, 0, 0, 0, 0, 0, 0, 0, 0, 33, 53, 261, 50, -4, 207, 62, -18, 102, 49, 85, 182, 39, 45, 75, 53, -60, 138, 55, -35, 271, 56, 73, 331, 71, 61, 162, 36, 67, 8, 61, -12, 263, 49, 36, 254, 49, 86, 13, 70, 79, 245, 43, -74, 230, 56, -48, 350]\n",
      "ending   individual: [1, 1, 1, 1, 1, 1, 0, 0, 0, 0, 0, 0, 0, 0, 0, 0, 33, 53, 261, 50, -4, 207, 62, -18, 102, 49, 85, 182, 39, 45, 75, 53, -60, 138, 55, -35, 271, 56, 73, 331, 71, 61, 162, 36, 67, 8, 61, -12, 263, 49, 36, 254, 49, 86, 13, 70, 79, 245, 43, -74, 230, 56, -48, 350]\n"
     ]
    }
   ],
   "source": [
    "##test for mutation\n",
    "###messing around for mutation operator\n",
    "# params\n",
    "l = 65\n",
    "w = 39\n",
    "maxCuts = 6\n",
    "res = 6\n",
    "\n",
    "zMin = 32\n",
    "zMax = 72\n",
    "\n",
    "tMin = -90\n",
    "tMax = 90\n",
    "\n",
    "aMin = 0\n",
    "aMax = 360\n",
    "\n",
    "pm= 0.5\n",
    "#individ1 has 6 cuts\n",
    "individ1 = [1, 1, 1, 1, 1, 1, 0, 0, 0, 0, 0, 0, 0, 0, 0, 0, \n",
    "            33, 53, 261, 50, -4, 207, 62, -18, 102, 49, 85, 182, 39, 45, 75, 53, -60, 138, 55, -35, 271, 56, 73, 331, 71, \n",
    "            61, 162, 36, 67, 8, 61, -12, 263, 49, 36, 254, 49, 86, 13, 70, 79, 245, 43, -74, 230, 56, -48, 350]\n",
    "#individ2 has 8 cuts\n",
    "individ2 = [1, 1, 1, 1, 1, 1, 1, 1, 0, 0, 0, 0, 0, 0, 0, 0, \n",
    "            33, 53, 261, 50, -4, 207, 62, -18, 102, 49, 85, 182, 39, 45, 75, 53, -60, 138, 55, -35, 271, 56, 73, 331, 71, \n",
    "            61, 162, 36, 67, 8, 61, -12, 263, 49, 36, 254, 49, 86, 13, 70, 79, 245, 43, -74, 230, 56, -48, 350]\n",
    "\n",
    "individual = individ1\n",
    "print(\"starting individual: \" + str(individual))\n",
    "print(\"ending   individual: \" + str(mutation(individual, pm, l, w, zMin, zMax, tMin, tMax, aMin, aMax, res, zThresh, tThresh, aThresh)))"
   ]
  },
  {
   "cell_type": "code",
   "execution_count": 0,
   "metadata": {
    "colab": {},
    "colab_type": "code",
    "id": "o2aMne3-6c7G"
   },
   "outputs": [],
   "source": [
    "def getAvgPopFitness(fitnessPop):\n",
    "    \"\"\"\n",
    "    input - fitnessPop - list of floats - list of all of the fitnesses\n",
    "    output - float - the average fitness of the input\n",
    "    \"\"\"\n",
    "    #initialize the sum\n",
    "    finalSum = 0\n",
    "    popSize = len(fitnessPop)\n",
    "    #add each fitness to the sum\n",
    "    for fitness in fitnessPop:\n",
    "        finalSum += fitness\n",
    "    avg = finalSum/popSize\n",
    "    \n",
    "    #return result\n",
    "    return avg"
   ]
  },
  {
   "cell_type": "code",
   "execution_count": 0,
   "metadata": {
    "colab": {},
    "colab_type": "code",
    "id": "NG9wJKxq6c7S",
    "outputId": "6b9be162-8280-4167-c2c1-80c4e1b2f968"
   },
   "outputs": [
    {
     "name": "stdout",
     "output_type": "stream",
     "text": [
      "[[1, 0, 0, 0, 1, 0, 0, 0, 1, 1, 0, 0, 1, 0, 0, 0, 34, -52, 356, 56, -32, 297, 60, 8, 118, 68, 33, 62, 55, 46, 129, 40, 54, 325, 46, -87, 9, 67, 8, 292, 71, -77, 206, 67, 86, 297, 52, 27, 286, 69, -35, 20, 69, -34, 56, 37, 66, 31, 45, -57, 202, 37, 52, 339], [1, 0, 0, 1, 1, 0, 1, 0, 1, 0, 0, 0, 0, 0, 0, 0, 42, 47, 31, 51, -69, 293, 61, 89, 81, 44, 13, 188, 43, 29, 287, 45, -14, 95, 64, 60, 287, 67, 11, 108, 67, -11, 349, 56, -51, 275, 51, 6, 255, 69, -66, 275, 55, -44, 268, 57, -73, 34, 61, -42, 28, 68, 25, 78], [0, 0, 0, 1, 1, 0, 1, 0, 0, 0, 0, 0, 0, 0, 1, 0, 63, -58, 72, 62, 63, 4, 68, -81, 136, 40, -86, 314, 53, -26, 112, 42, -84, 157, 57, -52, 138, 47, -87, 298, 51, 34, 145, 62, -53, 17, 52, -89, 77, 42, 31, 47, 69, -33, 99, 34, 87, 173, 63, -83, 88, 55, -24, 302]]\n",
      "[419.51616657404304, 235.99221859854708, 588.2372194003317]\n"
     ]
    }
   ],
   "source": [
    "### setup for test for getAvgPopFitness\n",
    "# params\n",
    "l = 65\n",
    "w = 39\n",
    "maxCuts = 6\n",
    "res = 6\n",
    "\n",
    "zMin = 32\n",
    "zMax = 72\n",
    "\n",
    "tMin = -90\n",
    "tMax = 90\n",
    "\n",
    "aMin = 0\n",
    "aMax = 360\n",
    "\n",
    "#thresholds\n",
    "zThresh = 20 #inches\n",
    "tThresh = 90 #degrees\n",
    "aThresh = 45 #degrees\n",
    "\n",
    "conflictDeductions = 50\n",
    "popSize = 3\n",
    "\n",
    "\n",
    "pop1 = makePopulation(popSize, l, w, maxCuts, zMin, zMax, tMin, tMax, aMin, aMax, res)\n",
    "fitnessList = getPopFitness(pop, l, w, zMin, zMax, tMin, tMax, aMin, aMax, res, zThresh, tThresh, aThresh, conflictDeductions)\n",
    "print(pop1)\n",
    "print(fitnessList)"
   ]
  },
  {
   "cell_type": "code",
   "execution_count": 0,
   "metadata": {
    "colab": {},
    "colab_type": "code",
    "id": "90CYdebt6c7d",
    "outputId": "987e46b2-e105-464f-8cb6-0292b9cd50b9"
   },
   "outputs": [
    {
     "name": "stdout",
     "output_type": "stream",
     "text": [
      "414.5818681909739\n"
     ]
    }
   ],
   "source": [
    "print(getAvgPopFitness(fitnessList))"
   ]
  },
  {
   "cell_type": "code",
   "execution_count": 0,
   "metadata": {
    "colab": {},
    "colab_type": "code",
    "id": "8B3YB6JM6c7h"
   },
   "outputs": [],
   "source": [
    "def getBestInd(pop, fitnessPop):\n",
    "    \"\"\"\n",
    "    inputs - pop - list of individuals - a list of all of the individuals\n",
    "           - fitnessPop - list of floats - list of each indiviudal's fitness. The index in fitnessPop corresponds with the \n",
    "                index of pop.\n",
    "    \"\"\"\n",
    "    #get max value\n",
    "    maxFitness = max(fitnessPop)\n",
    "    index = fitnessPop.index(maxFitness)\n",
    "    \n",
    "    #return solution\n",
    "    return pop[index]"
   ]
  },
  {
   "cell_type": "code",
   "execution_count": 0,
   "metadata": {
    "colab": {},
    "colab_type": "code",
    "id": "lLKbQ6Za6c7l",
    "outputId": "0338092b-412f-429f-b93c-9d37ec2f8250"
   },
   "outputs": [
    {
     "name": "stdout",
     "output_type": "stream",
     "text": [
      "[0, 0, 0, 1, 1, 0, 1, 0, 0, 0, 0, 0, 0, 0, 1, 0, 63, -58, 72, 62, 63, 4, 68, -81, 136, 40, -86, 314, 53, -26, 112, 42, -84, 157, 57, -52, 138, 47, -87, 298, 51, 34, 145, 62, -53, 17, 52, -89, 77, 42, 31, 47, 69, -33, 99, 34, 87, 173, 63, -83, 88, 55, -24, 302]\n"
     ]
    }
   ],
   "source": [
    "#test for getBestInd\n",
    "#test successful\n",
    "\n",
    "print(getBestInd(pop1, fitnessList))"
   ]
  },
  {
   "cell_type": "code",
   "execution_count": 0,
   "metadata": {
    "colab": {},
    "colab_type": "code",
    "id": "RYJ3Sq2I6c7v"
   },
   "outputs": [],
   "source": []
  }
 ],
 "metadata": {
  "colab": {
   "name": "testV3ForGenerational.ipynb",
   "provenance": [],
   "version": "0.3.2"
  },
  "kernelspec": {
   "display_name": "Python 3",
   "language": "python",
   "name": "python3"
  },
  "language_info": {
   "codemirror_mode": {
    "name": "ipython",
    "version": 3
   },
   "file_extension": ".py",
   "mimetype": "text/x-python",
   "name": "python",
   "nbconvert_exporter": "python",
   "pygments_lexer": "ipython3",
   "version": "3.7.0"
  }
 },
 "nbformat": 4,
 "nbformat_minor": 1
}
