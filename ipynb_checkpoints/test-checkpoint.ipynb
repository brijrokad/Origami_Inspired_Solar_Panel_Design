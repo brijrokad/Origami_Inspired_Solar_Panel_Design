{
 "cells": [
  {
   "cell_type": "code",
   "execution_count": 1,
   "metadata": {
    "colab": {},
    "colab_type": "code",
    "id": "1PXEZQ86655V"
   },
   "outputs": [],
   "source": [
    "import matplotlib.pyplot as plt\n",
    "import matplotlib.patches as patches\n",
    "import numpy as np\n",
    "import random\n",
    "import math"
   ]
  },
  {
   "cell_type": "code",
   "execution_count": 2,
   "metadata": {
    "colab": {
     "base_uri": "https://localhost:8080/",
     "height": 347
    },
    "colab_type": "code",
    "executionInfo": {
     "elapsed": 980,
     "status": "ok",
     "timestamp": 1543014143978,
     "user": {
      "displayName": "Brij Rokad",
      "photoUrl": "https://lh5.googleusercontent.com/-N6QdUUqxwPo/AAAAAAAAAAI/AAAAAAAACQ4/E7ejTCey7Qs/s64/photo.jpg",
      "userId": "07134477967020150172"
     },
     "user_tz": 300
    },
    "id": "svDLmKL7655k",
    "outputId": "232a6c0c-f51f-478f-9868-25583e05ce9c"
   },
   "outputs": [
    {
     "data": {
      "image/png": "[encoded data removed]",
      "text/plain": [
       "<Figure size 432x288 with 1 Axes>"
      ]
     },
     "metadata": {
      "needs_background": "light"
     },
     "output_type": "display_data"
    }
   ],
   "source": [
    "plt.axes()\n",
    "\n",
    "circle = plt.Circle((0, 0), radius=0.75, fc='y')\n",
    "plt.gca().add_patch(circle)\n",
    "\n",
    "plt.axis('scaled')\n",
    "plt.show()"
   ]
  },
  {
   "cell_type": "code",
   "execution_count": 3,
   "metadata": {
    "colab": {
     "base_uri": "https://localhost:8080/",
     "height": 271
    },
    "colab_type": "code",
    "executionInfo": {
     "elapsed": 1137,
     "status": "ok",
     "timestamp": 1543014144187,
     "user": {
      "displayName": "Brij Rokad",
      "photoUrl": "https://lh5.googleusercontent.com/-N6QdUUqxwPo/AAAAAAAAAAI/AAAAAAAACQ4/E7ejTCey7Qs/s64/photo.jpg",
      "userId": "07134477967020150172"
     },
     "user_tz": 300
    },
    "id": "aWtQkgx2655x",
    "outputId": "497b26e7-b828-4974-83fa-8d28381112d0"
   },
   "outputs": [
    {
     "data": {
      "image/png": "[encoded data removed]",
      "text/plain": [
       "<Figure size 432x288 with 1 Axes>"
      ]
     },
     "metadata": {
      "needs_background": "light"
     },
     "output_type": "display_data"
    }
   ],
   "source": [
    "line = plt.Line2D((2, 8), (6, 6), lw=2.5)\n",
    "plt.gca().add_line(line)\n",
    "\n",
    "line = plt.Line2D((2, 10), (6, 10), lw=2.5)\n",
    "plt.gca().add_line(line)\n",
    "\n",
    "plt.axis('scaled')\n",
    "plt.show()"
   ]
  },
  {
   "cell_type": "code",
   "execution_count": 4,
   "metadata": {
    "colab": {
     "base_uri": "https://localhost:8080/",
     "height": 347
    },
    "colab_type": "code",
    "executionInfo": {
     "elapsed": 1294,
     "status": "ok",
     "timestamp": 1543014144374,
     "user": {
      "displayName": "Brij Rokad",
      "photoUrl": "https://lh5.googleusercontent.com/-N6QdUUqxwPo/AAAAAAAAAAI/AAAAAAAACQ4/E7ejTCey7Qs/s64/photo.jpg",
      "userId": "07134477967020150172"
     },
     "user_tz": 300
    },
    "id": "dGHVS9v-6558",
    "outputId": "9e3a08d2-7fe2-4dc4-fd92-9f737b65c7e9"
   },
   "outputs": [
    {
     "data": {
      "image/png": "[encoded data removed]",
      "text/plain": [
       "<Figure size 432x288 with 1 Axes>"
      ]
     },
     "metadata": {
      "needs_background": "light"
     },
     "output_type": "display_data"
    }
   ],
   "source": [
    "# Create figure and axes\n",
    "fig,ax = plt.subplots(1)\n",
    "\n",
    "# make grid\n",
    "ax.set_xticks(np.arange(0, 130, 10))\n",
    "ax.set_yticks(np.arange(0, 130, 10))\n",
    "plt.grid()\n",
    "\n",
    "# Create a Rectangle patch\n",
    "rectangle = plt.Rectangle((10, 10), 65, 39, edgecolor='black', facecolor = 'white', linewidth = 2)\n",
    "\n",
    "# Make a circle patch\n",
    "circle = plt.Circle((20, 60), 1, color='black')\n",
    "\n",
    "# Add the patch to the Axes\n",
    "ax.add_patch(rectangle)\n",
    "ax.add_patch(circle)\n",
    "\n",
    "# draw a line\n",
    "plt.plot([20, 50], [60, 80], color='black', linestyle='-', linewidth=2)\n",
    "plt.plot([20, 10], [60, 90], color='black', linestyle='dashed', linewidth=2)\n",
    "plt.plot([20, 60], [60, 10], color='black', linestyle='dashed', linewidth=2)\n",
    "\n",
    "plt.show()"
   ]
  },
  {
   "cell_type": "code",
   "execution_count": 5,
   "metadata": {
    "colab": {},
    "colab_type": "code",
    "id": "EHb_W4wk656F"
   },
   "outputs": [],
   "source": [
    "###metaparameters\n",
    "#initial solar panel dimensions\n",
    "l = 65\n",
    "w = 39\n",
    "\n",
    "#max number of possible cuts\n",
    "maxCuts = 6\n",
    "\n",
    "#resolution of cuts\n",
    "res = 1\n",
    "\n",
    "#param boundaries\n",
    "zMin = 32\n",
    "zMax = 72\n",
    "\n",
    "tMin = 0\n",
    "tMax = 90\n",
    "\n",
    "aMin = 0\n",
    "aMax = 360"
   ]
  },
  {
   "cell_type": "code",
   "execution_count": 18,
   "metadata": {
    "colab": {},
    "colab_type": "code",
    "id": "Agza_tTH656L"
   },
   "outputs": [],
   "source": [
    "def makeCutBitString(l, w, maxCuts, res=1):\n",
    "    \"\"\"\n",
    "    HELPER FOR MAKING AN INDIVIDUAL\n",
    "    inputs- l- int - length of the initial solar panel\n",
    "            w- int - width of the initial solar panel\n",
    "            maxCuts- int - maximum amount of cuts on the initial solar panel\n",
    "            res- int - resolution of the cut. i.e. the cut will happen every 'res' inches\n",
    "    output- a list of bits where a bit represents an inch along the solar panel. the first\n",
    "            'l' bits represent vertical positions, and the next 'w' bits represent horizontal positions,\n",
    "            such that each position happens every 'res' inches.\n",
    "    \"\"\"\n",
    "    #figure out the number of the bit strings\n",
    "    numBits = int(round(((l-1)+(w-1)/res)))\n",
    "\n",
    "    #fill the list with 0's\n",
    "    bitList = [0 for i in range(numBits)]\n",
    "\n",
    "    #get the number of cuts\n",
    "    numCuts = random.randint(1, maxCuts)\n",
    "\n",
    "    #Lets put in the 1's that represent the cuts\n",
    "    for i in range(numCuts):\n",
    "        val = random.randint(0,numBits-1)\n",
    "\n",
    "        #make sure that it doesn't replace a value in bitstring which is already a 1\n",
    "        while bitList[val] == 1:\n",
    "            val = random.randint(0,numBits-1)\n",
    "\n",
    "        #replace the appropriate 0 with a 1\n",
    "        bitList[val] = 1\n",
    "        \n",
    "    #return final bitstring\n",
    "    return bitList"
   ]
  },
  {
   "cell_type": "code",
   "execution_count": 7,
   "metadata": {
    "colab": {},
    "colab_type": "code",
    "id": "o2AKHrfK656T"
   },
   "outputs": [],
   "source": [
    "### test for 'makeCutBitString'\n",
    "### successful \n",
    "#initial solar panel dimensions\n",
    "l = 65\n",
    "w = 39\n",
    "\n",
    "#max number of possible cuts\n",
    "maxCuts = 6\n",
    "\n",
    "#resolution of cuts\n",
    "res = 1\n",
    "#makeCutBitString(l, w, maxCuts, res=1)"
   ]
  },
  {
   "cell_type": "code",
   "execution_count": 8,
   "metadata": {
    "colab": {
     "base_uri": "https://localhost:8080/",
     "height": 86
    },
    "colab_type": "code",
    "executionInfo": {
     "elapsed": 1476,
     "status": "ok",
     "timestamp": 1543014144595,
     "user": {
      "displayName": "Brij Rokad",
      "photoUrl": "https://lh5.googleusercontent.com/-N6QdUUqxwPo/AAAAAAAAAAI/AAAAAAAACQ4/E7ejTCey7Qs/s64/photo.jpg",
      "userId": "07134477967020150172"
     },
     "user_tz": 300
    },
    "id": "QXxAIEwj656c",
    "outputId": "2b9d0082-a56a-4753-f296-0bd76eb65120"
   },
   "outputs": [
    {
     "name": "stdout",
     "output_type": "stream",
     "text": [
      "bitString: [0, 0, 1, 0, 1, 0]\n",
      "lengthString: [0, 0, 1, 0]\n",
      "widthString: [1, 0]\n",
      "[(3, 1), (3, 2), (2, 0)]\n"
     ]
    }
   ],
   "source": [
    "#lets make a fake bitstring\n",
    "l=5\n",
    "w = 3 \n",
    "numBits = int(round(((l-1)+(w-1)/res)))\n",
    "aBitString = [0 for i in range(numBits)]\n",
    "aBitString[2] = 1\n",
    "aBitString[4] = 1\n",
    "\n",
    "lenBitString = aBitString[0:(l-1)]\n",
    "widBitString = aBitString[l-1:]\n",
    "\n",
    "print(\"bitString: \" + str(aBitString))\n",
    "#initialize list of faces\n",
    "faceList = []\n",
    "\n",
    "#search in the length direction\n",
    "indexLen = 1\n",
    "print(\"lengthString: \" + str(aBitString[0:(l-1)]))\n",
    "\n",
    "#for every bit in the bitstring containing the bits represnting the cuts along the panel's length\n",
    "for lBit in lenBitString:\n",
    "    if lBit==1:\n",
    "        #get the length\n",
    "        length = indexLen\n",
    "        #search in the width-direction\n",
    "        indexWid = 1\n",
    "        widCutDist = 1\n",
    "        print(\"widthString: \" + str(aBitString[l-1:]))\n",
    "        #for every bit in the bitstring containing the bits represnting the cuts along the panel's width\n",
    "        for wBit in widBitString:\n",
    "            if wBit == 1:\n",
    "                width = widCutDist\n",
    "                faceList.append((length, width))\n",
    "                widCutDist = 0\n",
    "            #if you reached the end of the solar panel width-wise\n",
    "            if indexWid == len(widBitString):\n",
    "                width = widCutDist + 1\n",
    "                faceList.append((length, width))\n",
    "            indexWid += 1\n",
    "            widCutDist += 1\n",
    "    \n",
    "    #if you reached the end of the solar panel length-wise\n",
    "    if indexLen == len(lenBitString):\n",
    "        length = lenBitString[::-1].index(1) + 1\n",
    "        widCutDist = 0\n",
    "        #for every bit in the bitstring containing the bits represnting the cuts along the panel's width\n",
    "        for wBit in widBitString:\n",
    "            if wBit == 1:\n",
    "                width = widCutDist\n",
    "                faceList.append((length, width))\n",
    "                widCutDist = 0\n",
    "            #if you reached the end of the solar panel\n",
    "            if indexWid == len(widBitString):\n",
    "                width = widCutDist + 1\n",
    "                faceList.append((length, width))\n",
    "            indexWid += 1\n",
    "            widCutDist += 1\n",
    "    indexLen += 1\n",
    "    \n",
    "    ###I think the following section can be removed\n",
    "    #if there were no cuts along the length direction\n",
    "    \"\"\"\n",
    "    if faceList == []:\n",
    "         for iW in aBitString[l+1:]:\n",
    "            if iW == 1:\n",
    "                width = indexWin\n",
    "                faceList.append((length, width))\n",
    "            #if you reached the end of the solar panel\n",
    "            if iW == len(aBitString[l+1:]):\n",
    "                width = len(aBitString[l+1:])\n",
    "                faceList.append((l, width))\n",
    "            indexWid += 0\n",
    "    \"\"\"\n",
    "print(faceList)"
   ]
  },
  {
   "cell_type": "code",
   "execution_count": 9,
   "metadata": {
    "colab": {
     "base_uri": "https://localhost:8080/",
     "height": 156
    },
    "colab_type": "code",
    "executionInfo": {
     "elapsed": 1460,
     "status": "ok",
     "timestamp": 1543014144608,
     "user": {
      "displayName": "Brij Rokad",
      "photoUrl": "https://lh5.googleusercontent.com/-N6QdUUqxwPo/AAAAAAAAAAI/AAAAAAAACQ4/E7ejTCey7Qs/s64/photo.jpg",
      "userId": "07134477967020150172"
     },
     "user_tz": 300
    },
    "id": "TlhioY0e656v",
    "outputId": "f24b3cae-1df6-46d4-f008-923f7dc605c6"
   },
   "outputs": [
    {
     "name": "stdout",
     "output_type": "stream",
     "text": [
      "lenBitString: [0, 0, 1, 0]\n",
      "widBitString: [1, 0]\n",
      "bitString: [0, 0, 1, 0, 1, 0]\n",
      "vCuts: [0, 3, 5]\n",
      "hCuts: [0, 1, 3]\n",
      "[3, 2]\n",
      "[1, 2]\n",
      "[(3, 1, 3), (3, 2, 6), (2, 1, 2), (2, 2, 4)]\n"
     ]
    }
   ],
   "source": [
    "#lets make a fake bitstring\n",
    "l = 5\n",
    "w = 3 \n",
    "numBits = int(round(((l-1)+(w-1)/res)))\n",
    "aBitString = [0 for i in range(numBits)]\n",
    "aBitString[2] = 1\n",
    "aBitString[4] = 1\n",
    "\n",
    "lenBitString = aBitString[0:l-1]\n",
    "widBitString = aBitString[l-1:]\n",
    "\n",
    "print(\"lenBitString: \" + str(lenBitString))\n",
    "print(\"widBitString: \" + str(widBitString))\n",
    "\n",
    "print(\"bitString: \" + str(aBitString))\n",
    "#initialize list of faces\n",
    "faceList = []\n",
    "\n",
    "##get list of the positions where a cut will happen\n",
    "#vertical cuts\n",
    "vCuts = [i+1 for i in range(len(lenBitString)) if lenBitString[i] == 1]\n",
    "#horizontal cuts\n",
    "hCuts = [i+1 for i in range(len(widBitString)) if widBitString[i] == 1]\n",
    "\n",
    "## initialize some variables\n",
    "vLow = 0\n",
    "vHigh = l\n",
    "hLow = 0\n",
    "hHigh = w\n",
    "\n",
    "#make lists storing at what inches chuts are being made\n",
    "vCuts = [0] + vCuts + [l]\n",
    "hCuts = [0] + hCuts + [w]\n",
    "\n",
    "#initalize some vars\n",
    "lengths = []\n",
    "widths = []\n",
    "\n",
    "#fill 'lengths' with the length of each face\n",
    "print(\"vCuts: \" + str(vCuts))\n",
    "for i in range(len(vCuts)-1):\n",
    "    vLow = vCuts[0]\n",
    "    vHigh = vCuts[1]\n",
    "    length = vHigh - vLow\n",
    "    lengths.append(length)\n",
    "    \n",
    "    #update vCuts\n",
    "    vCuts = vCuts[1:]\n",
    "\n",
    "#fill 'widths' with the width of each face    \n",
    "print(\"hCuts: \" + str(hCuts))\n",
    "for i in range(len(hCuts)-1):\n",
    "    hLow = hCuts[0]\n",
    "    hHigh = hCuts[1]\n",
    "    width = hHigh - hLow\n",
    "    widths.append(width)\n",
    "    \n",
    "    #update vCuts\n",
    "    hCuts = hCuts[1:]\n",
    "\n",
    "print(lengths)\n",
    "print(widths)\n",
    "\n",
    "#fill faceList with areas\n",
    "for i in range(len(lengths)):\n",
    "    length = lengths[i]\n",
    "    for j in range(len(widths)):\n",
    "        width = widths[j]\n",
    "        area = length*width\n",
    "        faceList.append((length, width, area))\n",
    "\n",
    "        \n",
    "\"\"\"This block did not do everything I wanted\n",
    "#fill faceList with areas\n",
    "for i in range(len(lengths)):\n",
    "    length = lengths[i]\n",
    "    width = widths[i]\n",
    "    area = length*width\n",
    "    faceList.append((length, width, area))\n",
    "\"\"\"\n",
    "\n",
    "print(faceList)"
   ]
  },
  {
   "cell_type": "code",
   "execution_count": 10,
   "metadata": {
    "colab": {},
    "colab_type": "code",
    "id": "M2iMW8Qp6566"
   },
   "outputs": [],
   "source": [
    "def getFaceListBitString(l, w, aBitString, res=1):\n",
    "    \"\"\"\n",
    "    HELPER FOR FINDING FACES\n",
    "    inputs- l- int - length of the initial solar panel\n",
    "            w- int - width of the initial solar panel\n",
    "            aBitString- a list of bits - with a length equal to (l+w)/res\n",
    "            res- int - resolution of the cut. i.e. the cut will happen every 'res' inches\n",
    "    output- a list of tuples where each tuple has 3 ints representing the info for each face. \n",
    "            The ints are the length, width, and area of the face. The whole list contains all of the faces\n",
    "    \"\"\"\n",
    "    # error check\n",
    "    if len(aBitString) != int(round(((l-1)+(w-1)/res))):\n",
    "        return \"ERROR: the 'l' and 'w' parameters do not correspond to the given bit string\"\n",
    "    \n",
    "    # get the total number of bits\n",
    "    numBits = len(aBitString)\n",
    "\n",
    "    # make bit strings that represent just the length and the width of the solar panel respectively\n",
    "    lenBitString = aBitString[0:l-1]\n",
    "    widBitString = aBitString[l-1:]\n",
    "    \n",
    "    # initialize list of faces\n",
    "    faceList = []\n",
    "\n",
    "    ## get list of the positions where a cut will happen\n",
    "    # vertical cuts\n",
    "    vCuts = [i+1 for i in range(len(lenBitString)) if lenBitString[i] == 1]\n",
    "    # horizontal cuts\n",
    "    hCuts = [i+1 for i in range(len(widBitString)) if widBitString[i] == 1]\n",
    "\n",
    "    ## initialize some variables\n",
    "    vLow = 0\n",
    "    vHigh = l\n",
    "    hLow = 0\n",
    "    hHigh = w\n",
    "\n",
    "    # make lists storing at what inches chuts are being made\n",
    "    vCuts = [0] + vCuts + [l]\n",
    "    hCuts = [0] + hCuts + [w]\n",
    "\n",
    "    # initalize some vars\n",
    "    lengths = []\n",
    "    widths = []\n",
    "\n",
    "    # fill 'lengths' with the length of each face\n",
    "    for i in range(len(vCuts)-1):\n",
    "        vLow = vCuts[0]\n",
    "        vHigh = vCuts[1]\n",
    "        length = vHigh - vLow\n",
    "        lengths.append(length)\n",
    "\n",
    "        # update vCuts\n",
    "        vCuts = vCuts[1:]\n",
    "\n",
    "    # fill 'widths' with the width of each face\n",
    "    for i in range(len(hCuts)-1):\n",
    "        hLow = hCuts[0]\n",
    "        hHigh = hCuts[1]\n",
    "        width = hHigh - hLow\n",
    "        widths.append(width)\n",
    "\n",
    "        # update vCuts\n",
    "        hCuts = hCuts[1:]\n",
    "\n",
    "    ## fill faceList with areas\n",
    "    #for every length\n",
    "    for i in range(len(lengths)):\n",
    "        length = lengths[i]\n",
    "        # for every width\n",
    "        for j in range(len(widths)):\n",
    "            width = widths[j]\n",
    "            area = length*width\n",
    "            faceList.append((length, width, area))\n",
    "\n",
    "    return faceList"
   ]
  },
  {
   "cell_type": "code",
   "execution_count": 11,
   "metadata": {
    "colab": {
     "base_uri": "https://localhost:8080/",
     "height": 34
    },
    "colab_type": "code",
    "executionInfo": {
     "elapsed": 1695,
     "status": "ok",
     "timestamp": 1543014144883,
     "user": {
      "displayName": "Brij Rokad",
      "photoUrl": "https://lh5.googleusercontent.com/-N6QdUUqxwPo/AAAAAAAAAAI/AAAAAAAACQ4/E7ejTCey7Qs/s64/photo.jpg",
      "userId": "07134477967020150172"
     },
     "user_tz": 300
    },
    "id": "VGWYC1vd657C",
    "outputId": "8a6f6662-47c7-4484-cd3c-52150757815f"
   },
   "outputs": [
    {
     "name": "stdout",
     "output_type": "stream",
     "text": [
      "[(3, 1, 3), (3, 2, 6), (2, 1, 2), (2, 2, 4)]\n"
     ]
    }
   ],
   "source": [
    "### test for 'getFaceListBitString'\n",
    "### successful\n",
    "\n",
    "l = 5\n",
    "w = 3 \n",
    "numBits = int(round(((l-1)+(w-1)/res)))\n",
    "aBitString = [0 for i in range(numBits)]\n",
    "aBitString[2] = 1\n",
    "aBitString[4] = 1\n",
    "\n",
    "print(getFaceListBitString(l, w, aBitString, res=1))"
   ]
  },
  {
   "cell_type": "code",
   "execution_count": 12,
   "metadata": {
    "colab": {
     "base_uri": "https://localhost:8080/",
     "height": 72
    },
    "colab_type": "code",
    "executionInfo": {
     "elapsed": 1675,
     "status": "ok",
     "timestamp": 1543014144885,
     "user": {
      "displayName": "Brij Rokad",
      "photoUrl": "https://lh5.googleusercontent.com/-N6QdUUqxwPo/AAAAAAAAAAI/AAAAAAAACQ4/E7ejTCey7Qs/s64/photo.jpg",
      "userId": "07134477967020150172"
     },
     "user_tz": 300
    },
    "id": "ND5Gfm3I657O",
    "outputId": "33adde68-68d6-47f2-bf94-aea7dc7fe725"
   },
   "outputs": [
    {
     "name": "stdout",
     "output_type": "stream",
     "text": [
      "[0, 1, 0, 0, 0, 0, 0, 0, 0, 0, 0, 0, 0, 0, 0, 0, 0, 0, 0, 0, 0, 0, 0, 0, 0, 0, 0, 0, 0, 0, 0, 0, 0, 0, 1, 0, 0, 0, 0, 0, 0, 0, 0, 0, 0, 0, 0, 0, 0, 0, 0, 0, 0, 0, 0, 0, 0, 1, 0, 0, 0, 0, 0, 0, 0, 0, 0, 0, 0, 0, 0, 0, 0, 0, 0, 0, 0, 0, 0, 0, 0, 0, 0, 0, 0, 0, 0, 0, 0, 0, 0, 0, 0, 0, 0, 0, 0, 0, 0, 0, 0, 0]\n",
      "[(2, 39, 78), (33, 39, 1287), (23, 39, 897), (7, 39, 273)]\n"
     ]
    }
   ],
   "source": [
    "# test for getFaceList with a random bitstring\n",
    "\n",
    "l = 65\n",
    "w = 39\n",
    "maxCuts = 6\n",
    "res = 1\n",
    "\n",
    "bitString1 = makeCutBitString(l, w, maxCuts, res=1)\n",
    "print(bitString1)\n",
    "\n",
    "faceList = getFaceListBitString(l, w, bitString1, res=1)\n",
    "\n",
    "print(faceList)"
   ]
  },
  {
   "cell_type": "code",
   "execution_count": 13,
   "metadata": {
    "colab": {
     "base_uri": "https://localhost:8080/",
     "height": 54
    },
    "colab_type": "code",
    "executionInfo": {
     "elapsed": 1658,
     "status": "ok",
     "timestamp": 1543014144887,
     "user": {
      "displayName": "Brij Rokad",
      "photoUrl": "https://lh5.googleusercontent.com/-N6QdUUqxwPo/AAAAAAAAAAI/AAAAAAAACQ4/E7ejTCey7Qs/s64/photo.jpg",
      "userId": "07134477967020150172"
     },
     "user_tz": 300
    },
    "id": "KWgvrfMZ657V",
    "outputId": "f51daf62-bd5a-48d8-ea20-c06dd2556a6a"
   },
   "outputs": [
    {
     "name": "stdout",
     "output_type": "stream",
     "text": [
      "[72, 26, 302, 56, 3, 156, 65, 10, 197, 66, 30, 301, 58, 49, 78, 70, 54, 292, 62, 68, 43, 43, 64, 144, 55, 39, 83, 51, 12, 260, 48, 52, 267, 62, 26, 253, 64, 45, 345, 35, 56, 45, 37, 71, 37, 55, 80, 193]\n"
     ]
    }
   ],
   "source": [
    "### make paramList\n",
    "\n",
    "# param boundaries\n",
    "zMin = 32\n",
    "zMax = 72\n",
    "\n",
    "tMin = 0\n",
    "tMax = 90\n",
    "\n",
    "aMin = 0\n",
    "aMax = 360\n",
    "\n",
    "# if maxCuts is even\n",
    "if (maxCuts % 2) == 0:\n",
    "    maxFaces = ((maxCuts/2)+1)*((maxCuts/2)+1)\n",
    "else:\n",
    "    print(\"ERROR: You need to figure out how many maxFaces will result when there is an odd number of maxCuts\")\n",
    "\n",
    "# initalize list\n",
    "paramList = []\n",
    "\n",
    "for i in range(int(maxFaces)):\n",
    "    zVal = random.randint(zMin, zMax)\n",
    "    tVal = random.randint(tMin, tMax)\n",
    "    aVal = random.randint(aMin, aMax)\n",
    "    paramList.append(zVal)\n",
    "    paramList.append(tVal)\n",
    "    paramList.append(aVal)\n",
    "\n",
    "# the following block would result in a different organization for paramList\n",
    "\"\"\"\n",
    "for i in range(int(maxFaces)):\n",
    "    zVal = random.randint(zMin, zMax)\n",
    "    paramList.append(zVal)    \n",
    "\n",
    "for i in range(int(maxFaces)):\n",
    "    tVal = random.randint(tMin, tMax)\n",
    "    paramList.append(tVal)\n",
    "    \n",
    "for i in range(int(maxFaces)):\n",
    "    aVal = random.randint(aMin, aMax)\n",
    "    paramList.append(aVal)\n",
    "\"\"\"    \n",
    "print(paramList)"
   ]
  },
  {
   "cell_type": "code",
   "execution_count": 14,
   "metadata": {
    "colab": {},
    "colab_type": "code",
    "id": "F6ncL2UO657e"
   },
   "outputs": [],
   "source": [
    "def makeIndividual(l, w, maxCuts, zMin, zMax, tMin, tMax, aMin, aMax, res=1):\n",
    "    \"\"\"\n",
    "    MAKES AN INDIVIDUAL\n",
    "    inputs- l- int - length of the initial solar panel\n",
    "            w- int - width of the initial solar panel\n",
    "            maxCuts- int - maximum amount of cuts on the initial solar panel\n",
    "            zMin - int - min possible value of z\n",
    "            zMax - int - min possible value of z\n",
    "            tMin - int - min possible value of t\n",
    "            tMax - int - min possible value of t\n",
    "            aMin - int - min possible value of a\n",
    "            aMax - int - min possible value of a\n",
    "            res- int - resolution of the cut. i.e. the cut will happen every 'res' inches\n",
    "    output- a list of ints - individual whose first ((l-1)+(w-1))/res elements are bits representing where a cut is made\n",
    "            the other ((maxCuts/2)+1)*((maxCuts/2)+1) elements (assuming maxCuts is even) represent the z, theta, and alpha \n",
    "            values. It looks like: [bit1 bit2 bit2 ... z1, t1, a1, z2, t2, a2...]\n",
    "    \"\"\"\n",
    "    # error check to see if maxCuts can be defined\n",
    "    if (maxCuts % 2) == 0:\n",
    "        maxFaces = ((maxCuts/2)+1)*((maxCuts/2)+1)\n",
    "    else:\n",
    "        return \"ERROR: You need to figure out how many maxFaces will result when there is an odd number of maxCuts\"\n",
    "    \n",
    "    aBitString = makeCutBitString(l, w, maxCuts, res=1)\n",
    "    \n",
    "    # initalize list\n",
    "    paramList = []\n",
    "\n",
    "    for i in range(int(maxFaces)):\n",
    "        zVal = random.randint(zMin, zMax)\n",
    "        tVal = random.randint(tMin, tMax)\n",
    "        aVal = random.randint(aMin, aMax)\n",
    "        paramList.append(zVal)\n",
    "        paramList.append(tVal)\n",
    "        paramList.append(aVal)\n",
    "        \n",
    "    individual = aBitString + paramList\n",
    "    \n",
    "    return individual"
   ]
  },
  {
   "cell_type": "code",
   "execution_count": 15,
   "metadata": {
    "colab": {
     "base_uri": "https://localhost:8080/",
     "height": 2622
    },
    "colab_type": "code",
    "executionInfo": {
     "elapsed": 1639,
     "status": "ok",
     "timestamp": 1543014144892,
     "user": {
      "displayName": "Brij Rokad",
      "photoUrl": "https://lh5.googleusercontent.com/-N6QdUUqxwPo/AAAAAAAAAAI/AAAAAAAACQ4/E7ejTCey7Qs/s64/photo.jpg",
      "userId": "07134477967020150172"
     },
     "user_tz": 300
    },
    "id": "S5a-WVQy657s",
    "outputId": "818aa090-3b38-4137-a26e-f26f2f6bfd57"
   },
   "outputs": [
    {
     "name": "stdout",
     "output_type": "stream",
     "text": [
      "[0, 0, 0, 0, 1, 0, 0, 0, 0, 0, 0, 0, 0, 0, 0, 0, 0, 0, 0, 0, 0, 0, 0, 0, 0, 0, 0, 0, 0, 0, 0, 0, 0, 0, 0, 0, 0, 0, 0, 0, 0, 0, 0, 0, 0, 0, 0, 0, 0, 0, 0, 0, 0, 0, 0, 0, 0, 0, 1, 0, 0, 0, 0, 0, 0, 0, 0, 0, 0, 0, 0, 0, 0, 0, 0, 0, 0, 0, 0, 0, 0, 0, 0, 0, 0, 0, 0, 0, 0, 0, 0, 0, 0, 0, 0, 0, 0, 0, 0, 0, 0, 0, 61, 13, 177, 62, 52, 322, 36, 28, 191, 61, 48, 285, 62, 25, 235, 41, 59, 199, 36, 14, 224, 50, 43, 107, 50, 17, 286, 56, 64, 322, 67, 88, 124, 57, 83, 344, 63, 79, 337, 36, 27, 63, 63, 1, 297, 43, 1, 111]\n"
     ]
    }
   ],
   "source": [
    "### test for 'makeIndividual'\n",
    "### test successful\n",
    "\n",
    "# bitString params\n",
    "l = 65\n",
    "w = 39\n",
    "maxCuts = 6\n",
    "res = 1\n",
    "\n",
    "# param boundaries\n",
    "zMin = 32\n",
    "zMax = 72\n",
    "\n",
    "tMin = 0\n",
    "tMax = 90\n",
    "\n",
    "aMin = 0\n",
    "aMax = 360\n",
    "\n",
    "print(makeIndividual(l, w, maxCuts, zMin, zMax, tMin, tMax, aMin, aMax, res=1))"
   ]
  },
  {
   "cell_type": "code",
   "execution_count": 16,
   "metadata": {
    "colab": {},
    "colab_type": "code",
    "id": "5MBHyDXK6570"
   },
   "outputs": [],
   "source": [
    "def makePopulation(popSize, l, w, maxCuts, zMin, zMax, tMin, tMax, aMin, aMax, res=1):\n",
    "    \"\"\"\n",
    "    MAKES A POPULATION\n",
    "    inputs- popSize - int - the number of individuals in the population\n",
    "            l- int - length of the initial solar panel\n",
    "            w- int - width of the initial solar panel\n",
    "            maxCuts- int - maximum amount of cuts on the initial solar panel\n",
    "            zMin - int - min possible value of z\n",
    "            zMax - int - min possible value of z\n",
    "            tMin - int - min possible value of t\n",
    "            tMax - int - min possible value of t\n",
    "            aMin - int - min possible value of a\n",
    "            aMax - int - min possible value of a\n",
    "            res- int - resolution of the cut. i.e. the cut will happen every 'res' inches\n",
    "    output- a list of lists of ints - A list of individuals. Each individual's first ((l-1)+(w-1))/res elements a\n",
    "            re bits representing where a cut is made the other ((maxCuts/2)+1)*((maxCuts/2)+1) elements \n",
    "            (assuming maxCuts is even) represent the z, theta, and alpha values. \n",
    "            It looks like: [bit1 bit2 bit2 ... z1, t1, a1, z2, t2, a2...]\n",
    "    \"\"\"\n",
    "    population = []\n",
    "    for i in range(popSize):\n",
    "        individ = makeIndividual(l, w, maxCuts, zMin, zMax, tMin, tMax, aMin, aMax, res=1)\n",
    "        population.append(individ)\n",
    "        \n",
    "    return population"
   ]
  },
  {
   "cell_type": "code",
   "execution_count": 19,
   "metadata": {
    "colab": {
     "base_uri": "https://localhost:8080/",
     "height": 54
    },
    "colab_type": "code",
    "executionInfo": {
     "elapsed": 379,
     "status": "ok",
     "timestamp": 1543014213702,
     "user": {
      "displayName": "Brij Rokad",
      "photoUrl": "https://lh5.googleusercontent.com/-N6QdUUqxwPo/AAAAAAAAAAI/AAAAAAAACQ4/E7ejTCey7Qs/s64/photo.jpg",
      "userId": "07134477967020150172"
     },
     "user_tz": 300
    },
    "id": "brDrEZAV658D",
    "outputId": "d799d7d0-8962-4ea6-8343-a12d94decaf2"
   },
   "outputs": [
    {
     "name": "stdout",
     "output_type": "stream",
     "text": [
      "[[0, 0, 0, 0, 0, 0, 0, 0, 0, 0, 0, 0, 1, 0, 0, 0, 0, 0, 0, 0, 0, 0, 0, 0, 0, 0, 0, 0, 0, 0, 0, 0, 0, 0, 0, 0, 0, 0, 0, 0, 0, 0, 0, 0, 0, 0, 0, 0, 0, 0, 0, 0, 0, 0, 0, 0, 0, 0, 0, 0, 0, 0, 0, 0, 0, 0, 0, 0, 0, 0, 0, 0, 0, 0, 0, 0, 0, 0, 0, 0, 0, 0, 0, 0, 0, 0, 0, 1, 0, 0, 0, 0, 0, 0, 0, 0, 1, 0, 0, 0, 0, 1, 59, 50, 106, 33, 33, 281, 62, 22, 205, 44, 53, 335, 54, 31, 146, 52, 41, 71, 34, 50, 113, 45, 73, 137, 60, 69, 228, 66, 1, 154, 72, 35, 177, 49, 56, 212, 36, 84, 320, 43, 83, 187, 62, 79, 215, 37, 35, 285], [0, 0, 0, 0, 0, 0, 1, 0, 0, 0, 0, 0, 0, 0, 0, 0, 0, 0, 0, 0, 0, 0, 0, 0, 0, 0, 0, 0, 0, 0, 0, 0, 0, 0, 0, 0, 0, 0, 0, 0, 0, 1, 0, 0, 0, 0, 0, 0, 0, 0, 0, 0, 0, 0, 0, 0, 0, 0, 0, 0, 0, 0, 0, 0, 0, 0, 0, 0, 0, 0, 0, 0, 0, 0, 0, 0, 0, 0, 0, 0, 0, 0, 0, 0, 0, 0, 0, 0, 0, 0, 0, 0, 0, 0, 0, 0, 0, 0, 0, 0, 0, 0, 56, 21, 12, 58, 29, 133, 57, 21, 117, 56, 51, 182, 44, 71, 174, 40, 67, 139, 51, 28, 89, 54, 80, 78, 68, 16, 231, 61, 72, 265, 67, 15, 343, 67, 6, 2, 61, 77, 24, 42, 11, 118, 47, 57, 102, 46, 43, 125], [0, 1, 0, 0, 0, 0, 1, 0, 0, 0, 0, 0, 0, 0, 0, 0, 1, 0, 0, 0, 0, 0, 0, 0, 0, 0, 0, 0, 0, 0, 0, 0, 0, 0, 0, 0, 0, 1, 0, 0, 0, 0, 0, 0, 0, 0, 0, 0, 0, 0, 0, 0, 0, 0, 0, 0, 0, 0, 0, 1, 0, 1, 0, 0, 0, 0, 0, 0, 0, 0, 0, 0, 0, 0, 0, 0, 0, 0, 0, 0, 0, 0, 0, 0, 0, 0, 0, 0, 0, 0, 0, 0, 0, 0, 0, 0, 0, 0, 0, 0, 0, 0, 49, 11, 357, 59, 28, 210, 32, 44, 60, 64, 11, 320, 36, 33, 76, 49, 46, 178, 66, 44, 34, 36, 40, 155, 62, 9, 218, 48, 58, 138, 33, 87, 41, 60, 20, 160, 42, 9, 117, 47, 89, 75, 49, 24, 316, 51, 87, 259], [0, 0, 0, 0, 0, 0, 0, 0, 0, 0, 0, 0, 0, 0, 0, 0, 0, 0, 0, 0, 0, 0, 0, 0, 0, 0, 0, 0, 0, 0, 0, 0, 0, 0, 0, 0, 0, 0, 0, 0, 0, 0, 0, 0, 0, 0, 0, 0, 0, 0, 0, 0, 0, 0, 0, 0, 0, 0, 1, 0, 0, 0, 0, 0, 0, 0, 0, 0, 0, 0, 0, 0, 1, 0, 0, 0, 0, 0, 0, 0, 0, 0, 0, 0, 0, 0, 0, 0, 0, 0, 0, 0, 0, 0, 0, 0, 0, 0, 0, 0, 0, 0, 67, 34, 353, 55, 26, 310, 56, 7, 342, 50, 7, 224, 62, 56, 122, 67, 85, 137, 33, 82, 358, 42, 41, 343, 55, 80, 125, 65, 63, 55, 66, 4, 307, 72, 4, 134, 60, 45, 13, 47, 66, 124, 49, 39, 45, 32, 39, 211], [0, 0, 0, 0, 0, 0, 0, 0, 0, 0, 0, 0, 0, 0, 0, 0, 0, 0, 0, 0, 0, 0, 0, 0, 0, 0, 0, 0, 0, 0, 0, 0, 0, 0, 0, 0, 0, 0, 0, 0, 0, 0, 0, 0, 0, 0, 0, 0, 0, 0, 0, 0, 0, 0, 0, 0, 0, 0, 0, 0, 0, 0, 0, 0, 1, 0, 0, 0, 0, 0, 0, 0, 0, 0, 0, 0, 0, 0, 0, 0, 0, 0, 0, 0, 0, 0, 0, 0, 0, 0, 0, 0, 0, 0, 0, 0, 0, 0, 0, 0, 0, 0, 42, 67, 139, 48, 50, 53, 36, 65, 10, 62, 23, 156, 58, 62, 292, 63, 18, 217, 54, 78, 71, 70, 82, 284, 39, 42, 323, 67, 48, 234, 62, 39, 306, 41, 23, 146, 36, 9, 13, 35, 43, 343, 50, 2, 188, 56, 90, 299], [0, 0, 0, 0, 0, 0, 0, 0, 0, 0, 0, 0, 0, 0, 0, 0, 0, 0, 0, 0, 0, 0, 0, 0, 0, 0, 0, 0, 0, 0, 0, 0, 0, 0, 0, 0, 0, 0, 0, 1, 0, 0, 0, 1, 0, 0, 0, 0, 0, 0, 0, 0, 0, 0, 0, 1, 0, 0, 0, 0, 0, 0, 0, 0, 0, 0, 0, 0, 0, 1, 0, 0, 0, 0, 0, 0, 0, 0, 0, 0, 0, 0, 0, 0, 0, 0, 0, 0, 0, 0, 0, 0, 0, 0, 0, 0, 0, 0, 0, 0, 0, 0, 42, 80, 206, 39, 32, 141, 33, 25, 170, 53, 27, 287, 54, 24, 49, 34, 29, 18, 37, 66, 188, 70, 31, 302, 41, 88, 93, 71, 33, 131, 33, 1, 287, 38, 36, 124, 49, 45, 78, 69, 76, 313, 44, 32, 168, 58, 33, 11], [0, 0, 0, 0, 0, 0, 0, 0, 0, 0, 0, 0, 0, 0, 0, 0, 0, 0, 0, 0, 0, 0, 0, 0, 0, 0, 0, 0, 0, 0, 0, 0, 0, 0, 1, 0, 0, 0, 0, 0, 0, 0, 0, 0, 0, 0, 0, 0, 0, 0, 0, 0, 0, 0, 0, 0, 0, 0, 0, 0, 0, 0, 0, 0, 0, 0, 0, 0, 0, 0, 0, 0, 0, 0, 0, 0, 0, 0, 1, 0, 0, 0, 0, 0, 0, 0, 0, 0, 0, 0, 0, 0, 0, 1, 0, 0, 0, 0, 0, 0, 0, 1, 34, 47, 89, 69, 76, 42, 50, 63, 196, 72, 18, 347, 43, 69, 347, 39, 76, 205, 58, 69, 170, 39, 55, 313, 34, 60, 131, 46, 29, 143, 60, 24, 178, 49, 33, 130, 64, 1, 210, 35, 6, 243, 67, 53, 283, 62, 84, 16], [0, 0, 0, 0, 0, 0, 0, 0, 0, 0, 0, 0, 0, 0, 0, 0, 0, 1, 0, 0, 0, 0, 0, 0, 0, 0, 0, 0, 0, 0, 0, 0, 0, 0, 0, 0, 0, 0, 0, 0, 0, 0, 0, 0, 0, 0, 0, 0, 0, 0, 0, 1, 0, 0, 0, 0, 0, 0, 0, 0, 0, 0, 0, 0, 0, 0, 0, 0, 0, 0, 0, 0, 0, 0, 0, 0, 0, 0, 0, 0, 0, 0, 0, 0, 0, 0, 0, 0, 0, 0, 0, 0, 0, 0, 0, 0, 0, 0, 0, 0, 0, 0, 60, 29, 243, 70, 3, 9, 54, 45, 7, 59, 67, 12, 68, 30, 284, 44, 59, 66, 36, 35, 329, 67, 50, 359, 60, 78, 132, 40, 23, 163, 58, 76, 156, 41, 33, 335, 61, 7, 201, 43, 68, 302, 41, 19, 340, 37, 20, 19], [0, 0, 0, 0, 0, 0, 0, 0, 0, 0, 0, 0, 0, 0, 0, 0, 0, 1, 0, 0, 0, 0, 0, 1, 0, 1, 0, 0, 0, 0, 0, 0, 0, 0, 0, 0, 0, 0, 0, 0, 0, 0, 0, 0, 1, 0, 0, 0, 0, 0, 0, 0, 0, 0, 0, 0, 1, 0, 0, 0, 0, 0, 0, 0, 0, 1, 0, 0, 0, 0, 0, 0, 0, 0, 0, 0, 0, 0, 0, 0, 0, 0, 0, 0, 0, 0, 0, 0, 0, 0, 0, 0, 0, 0, 0, 0, 0, 0, 0, 0, 0, 0, 36, 42, 222, 46, 44, 252, 56, 71, 346, 48, 69, 26, 44, 52, 352, 55, 46, 111, 70, 58, 10, 63, 57, 327, 46, 30, 132, 47, 71, 51, 58, 38, 345, 32, 63, 62, 37, 63, 294, 48, 65, 51, 36, 40, 16, 62, 10, 25], [0, 0, 0, 0, 0, 0, 0, 0, 0, 1, 0, 1, 0, 0, 0, 0, 0, 0, 0, 0, 0, 0, 0, 0, 0, 0, 0, 0, 0, 0, 0, 0, 0, 0, 0, 0, 0, 0, 1, 0, 0, 0, 0, 0, 0, 0, 0, 0, 0, 0, 0, 0, 0, 0, 0, 0, 1, 0, 0, 0, 0, 0, 0, 0, 0, 0, 0, 0, 0, 0, 0, 0, 0, 0, 0, 0, 0, 0, 0, 0, 0, 0, 0, 0, 0, 0, 0, 0, 0, 0, 0, 0, 0, 0, 0, 0, 0, 0, 1, 0, 0, 0, 62, 82, 217, 68, 29, 45, 49, 80, 91, 62, 72, 260, 57, 3, 39, 67, 70, 15, 45, 48, 175, 71, 2, 125, 38, 79, 160, 70, 82, 261, 61, 82, 91, 51, 54, 125, 47, 17, 112, 35, 42, 20, 65, 1, 106, 58, 24, 83], [0, 1, 0, 0, 0, 0, 0, 0, 0, 0, 0, 0, 1, 0, 0, 0, 0, 0, 0, 0, 0, 0, 0, 0, 0, 0, 0, 0, 0, 0, 0, 0, 0, 0, 0, 0, 0, 0, 1, 0, 0, 0, 0, 0, 0, 0, 0, 0, 0, 0, 0, 0, 0, 0, 0, 0, 0, 0, 0, 0, 0, 0, 0, 0, 1, 0, 0, 0, 0, 0, 0, 0, 1, 0, 0, 0, 0, 0, 0, 0, 0, 0, 0, 0, 0, 0, 0, 0, 0, 0, 0, 0, 0, 0, 0, 0, 0, 0, 0, 0, 0, 0, 46, 56, 7, 32, 44, 241, 68, 30, 249, 41, 87, 70, 71, 24, 319, 43, 65, 273, 39, 41, 321, 44, 63, 240, 37, 6, 291, 65, 26, 30, 33, 39, 335, 70, 64, 304, 61, 47, 275, 51, 21, 136, 42, 30, 133, 43, 7, 243], [0, 0, 0, 0, 0, 0, 0, 0, 0, 0, 0, 0, 0, 0, 0, 0, 0, 1, 0, 0, 1, 0, 0, 0, 0, 0, 0, 0, 0, 0, 0, 0, 0, 0, 0, 0, 0, 0, 0, 0, 0, 1, 0, 0, 0, 0, 0, 0, 0, 0, 0, 0, 0, 0, 1, 0, 0, 0, 0, 0, 0, 0, 0, 1, 0, 1, 0, 0, 0, 0, 0, 0, 0, 0, 0, 0, 0, 0, 0, 0, 0, 0, 0, 0, 0, 0, 0, 0, 0, 0, 0, 0, 0, 0, 0, 0, 0, 0, 0, 0, 0, 0, 57, 46, 105, 43, 40, 215, 69, 75, 91, 41, 22, 210, 68, 21, 205, 52, 72, 179, 36, 45, 340, 37, 17, 331, 44, 84, 200, 67, 80, 131, 59, 18, 136, 39, 52, 277, 54, 75, 356, 58, 61, 183, 54, 30, 23, 43, 60, 313], [0, 0, 0, 0, 0, 0, 0, 0, 0, 0, 0, 0, 0, 0, 0, 0, 0, 0, 0, 0, 0, 0, 0, 0, 0, 0, 0, 0, 0, 0, 0, 0, 0, 0, 0, 0, 0, 0, 0, 0, 0, 0, 0, 0, 0, 0, 0, 0, 0, 0, 0, 0, 0, 0, 0, 0, 1, 0, 0, 0, 0, 0, 0, 0, 0, 0, 0, 0, 0, 0, 0, 0, 0, 0, 0, 0, 0, 0, 0, 0, 0, 0, 0, 0, 1, 0, 0, 0, 0, 0, 0, 0, 0, 0, 0, 0, 0, 0, 0, 0, 0, 0, 50, 27, 194, 36, 84, 190, 42, 65, 113, 53, 1, 254, 34, 76, 265, 63, 56, 54, 51, 52, 73, 62, 47, 271, 57, 7, 92, 56, 42, 56, 64, 80, 74, 60, 34, 287, 33, 68, 225, 59, 66, 138, 54, 77, 169, 55, 23, 208], [0, 0, 0, 0, 0, 0, 1, 0, 0, 0, 0, 0, 0, 0, 0, 0, 0, 0, 0, 0, 0, 1, 0, 0, 0, 0, 0, 0, 0, 0, 0, 0, 0, 0, 0, 0, 0, 0, 0, 0, 0, 0, 0, 0, 0, 0, 0, 1, 0, 0, 0, 0, 0, 0, 1, 0, 0, 0, 0, 0, 0, 0, 0, 0, 0, 0, 0, 0, 0, 0, 0, 0, 0, 0, 0, 0, 0, 0, 0, 0, 0, 0, 0, 0, 0, 0, 0, 0, 0, 0, 0, 0, 0, 0, 0, 0, 0, 0, 0, 0, 0, 0, 62, 49, 233, 47, 66, 160, 50, 6, 323, 58, 42, 291, 36, 12, 192, 49, 19, 157, 53, 34, 14, 62, 44, 274, 71, 82, 116, 71, 22, 68, 62, 7, 197, 62, 60, 193, 44, 1, 19, 59, 51, 152, 33, 15, 170, 70, 65, 154], [0, 0, 0, 0, 0, 0, 0, 0, 0, 0, 0, 0, 0, 0, 0, 0, 0, 0, 0, 0, 0, 0, 0, 0, 0, 0, 0, 0, 0, 0, 0, 0, 0, 0, 0, 0, 0, 0, 0, 1, 0, 0, 0, 0, 0, 0, 0, 0, 0, 0, 0, 0, 0, 0, 0, 1, 0, 0, 0, 0, 0, 0, 0, 0, 0, 0, 0, 0, 0, 0, 0, 0, 0, 0, 0, 0, 0, 0, 0, 0, 0, 0, 1, 0, 0, 0, 0, 0, 0, 0, 0, 0, 0, 0, 0, 0, 0, 0, 0, 0, 0, 0, 47, 50, 336, 47, 50, 4, 47, 77, 26, 65, 55, 94, 38, 67, 7, 59, 64, 196, 42, 14, 56, 34, 76, 269, 61, 69, 85, 66, 50, 311, 51, 86, 112, 45, 15, 333, 57, 73, 349, 70, 2, 101, 33, 81, 351, 46, 16, 22], [0, 0, 0, 0, 0, 0, 0, 0, 0, 0, 0, 0, 0, 0, 0, 0, 1, 0, 0, 0, 0, 0, 0, 0, 0, 0, 0, 0, 0, 0, 0, 0, 0, 0, 0, 0, 0, 0, 0, 0, 0, 0, 0, 0, 0, 0, 0, 0, 0, 0, 0, 0, 0, 0, 0, 0, 0, 0, 0, 0, 0, 0, 0, 1, 0, 0, 0, 0, 0, 0, 0, 0, 0, 0, 0, 0, 0, 0, 0, 0, 0, 0, 0, 0, 0, 0, 0, 0, 0, 0, 0, 0, 0, 0, 0, 0, 0, 0, 0, 0, 0, 0, 65, 78, 250, 61, 11, 350, 32, 24, 316, 39, 9, 82, 52, 76, 96, 67, 89, 247, 43, 86, 158, 47, 30, 360, 60, 64, 22, 42, 19, 348, 53, 36, 293, 32, 38, 65, 63, 65, 118, 56, 61, 183, 53, 3, 293, 44, 76, 126], [0, 0, 0, 0, 0, 0, 0, 0, 0, 0, 0, 0, 0, 0, 0, 0, 0, 0, 0, 0, 0, 0, 0, 0, 0, 0, 0, 0, 0, 0, 0, 0, 0, 0, 0, 0, 0, 0, 0, 0, 0, 0, 0, 0, 0, 0, 0, 0, 0, 0, 0, 0, 0, 0, 0, 0, 0, 0, 0, 0, 0, 0, 0, 0, 0, 0, 0, 0, 0, 0, 0, 0, 0, 0, 0, 0, 0, 0, 0, 1, 0, 0, 0, 0, 0, 0, 0, 0, 0, 0, 0, 0, 0, 0, 0, 0, 0, 0, 0, 0, 0, 0, 54, 61, 67, 59, 5, 21, 39, 67, 6, 39, 34, 88, 67, 2, 140, 62, 18, 166, 45, 83, 172, 33, 0, 155, 57, 14, 247, 59, 57, 259, 50, 52, 225, 49, 37, 78, 39, 68, 193, 42, 59, 309, 52, 17, 57, 65, 11, 74], [0, 0, 0, 0, 0, 0, 0, 0, 0, 0, 0, 0, 0, 0, 0, 0, 0, 0, 0, 0, 0, 0, 0, 0, 0, 0, 0, 1, 0, 0, 0, 0, 1, 0, 0, 0, 0, 0, 0, 0, 0, 0, 1, 0, 1, 0, 0, 0, 0, 0, 0, 0, 0, 0, 0, 0, 0, 0, 0, 0, 0, 0, 0, 0, 0, 0, 0, 0, 0, 0, 0, 0, 0, 0, 0, 0, 0, 0, 0, 0, 0, 0, 0, 0, 0, 1, 0, 0, 0, 0, 0, 0, 0, 1, 0, 0, 0, 0, 0, 0, 0, 0, 52, 10, 122, 40, 10, 205, 65, 0, 41, 72, 8, 291, 72, 14, 71, 40, 50, 14, 37, 64, 216, 60, 43, 282, 38, 14, 174, 61, 43, 24, 58, 42, 69, 53, 89, 260, 69, 81, 263, 72, 45, 359, 68, 46, 2, 61, 47, 209], [0, 0, 0, 0, 0, 0, 0, 0, 0, 0, 0, 0, 0, 0, 0, 0, 0, 0, 0, 0, 0, 0, 0, 0, 0, 0, 0, 0, 0, 1, 0, 0, 0, 0, 0, 0, 0, 0, 0, 0, 0, 0, 0, 0, 0, 0, 0, 0, 0, 0, 0, 0, 0, 0, 0, 0, 0, 0, 0, 0, 0, 0, 0, 0, 0, 0, 0, 0, 0, 0, 0, 0, 0, 0, 0, 0, 0, 0, 0, 0, 0, 0, 0, 0, 0, 0, 0, 0, 0, 0, 0, 0, 0, 0, 0, 0, 0, 0, 0, 0, 0, 0, 53, 10, 103, 43, 67, 227, 48, 5, 258, 48, 40, 318, 51, 77, 150, 58, 79, 349, 32, 21, 4, 71, 24, 319, 47, 49, 144, 64, 81, 290, 36, 64, 248, 63, 5, 16, 35, 51, 259, 45, 87, 156, 46, 70, 155, 48, 10, 286], [0, 0, 0, 0, 0, 1, 0, 0, 0, 0, 0, 0, 0, 0, 0, 0, 0, 0, 0, 0, 0, 0, 0, 0, 0, 0, 0, 0, 0, 0, 0, 0, 0, 0, 0, 0, 0, 0, 0, 0, 0, 0, 0, 0, 0, 0, 0, 0, 0, 0, 0, 0, 0, 0, 0, 0, 1, 0, 0, 0, 0, 0, 0, 0, 0, 0, 0, 0, 0, 0, 0, 0, 0, 0, 0, 0, 0, 0, 0, 0, 0, 0, 0, 0, 0, 0, 0, 0, 0, 0, 0, 0, 0, 0, 0, 0, 0, 0, 0, 0, 0, 0, 52, 73, 184, 66, 32, 185, 63, 30, 81, 67, 7, 54, 63, 47, 140, 49, 67, 306, 69, 53, 191, 59, 15, 315, 60, 30, 171, 33, 55, 16, 36, 29, 152, 42, 89, 44, 58, 14, 153, 44, 6, 221, 40, 27, 203, 32, 5, 61], [0, 0, 0, 0, 0, 0, 0, 0, 0, 0, 0, 0, 0, 0, 0, 0, 0, 0, 0, 0, 0, 0, 0, 0, 0, 0, 0, 0, 0, 0, 0, 0, 0, 0, 0, 0, 0, 0, 0, 0, 0, 0, 0, 0, 0, 0, 0, 0, 0, 0, 0, 0, 0, 0, 0, 0, 0, 0, 0, 0, 0, 0, 0, 0, 0, 0, 1, 0, 0, 0, 0, 0, 0, 0, 0, 0, 0, 0, 0, 0, 0, 0, 0, 0, 0, 0, 0, 0, 0, 0, 0, 0, 0, 0, 0, 0, 0, 0, 0, 0, 0, 0, 49, 30, 153, 49, 29, 25, 33, 87, 95, 58, 65, 359, 62, 80, 217, 57, 64, 75, 63, 35, 324, 38, 38, 202, 50, 38, 174, 62, 28, 82, 48, 46, 273, 51, 34, 183, 54, 57, 180, 62, 7, 98, 58, 65, 357, 68, 69, 174], [0, 0, 0, 0, 0, 0, 0, 0, 0, 0, 0, 0, 0, 0, 0, 0, 0, 0, 0, 0, 0, 0, 0, 0, 0, 0, 1, 0, 0, 1, 0, 0, 0, 0, 0, 0, 0, 0, 0, 0, 0, 0, 0, 0, 0, 0, 0, 0, 0, 0, 0, 0, 0, 0, 0, 0, 0, 0, 0, 0, 0, 0, 0, 0, 0, 0, 0, 0, 0, 0, 0, 0, 0, 0, 0, 0, 0, 1, 0, 0, 0, 0, 0, 0, 0, 0, 0, 0, 0, 0, 0, 0, 0, 0, 0, 0, 0, 1, 0, 0, 0, 0, 46, 67, 108, 65, 8, 304, 44, 73, 51, 36, 33, 282, 35, 12, 30, 37, 18, 358, 68, 11, 196, 35, 30, 164, 71, 29, 259, 44, 84, 81, 65, 79, 0, 52, 74, 101, 69, 52, 324, 66, 77, 45, 69, 37, 3, 53, 41, 324], [0, 1, 0, 0, 0, 0, 0, 0, 0, 0, 0, 0, 0, 0, 0, 0, 0, 0, 0, 0, 0, 0, 0, 0, 0, 0, 0, 0, 0, 0, 0, 0, 0, 0, 0, 0, 0, 0, 0, 0, 0, 0, 1, 0, 0, 0, 0, 0, 1, 0, 0, 0, 0, 0, 0, 0, 0, 0, 0, 0, 0, 0, 0, 0, 0, 0, 0, 0, 0, 0, 0, 0, 0, 0, 0, 1, 0, 0, 0, 0, 0, 0, 0, 0, 0, 0, 1, 0, 0, 0, 0, 0, 0, 0, 0, 0, 0, 0, 0, 0, 0, 0, 54, 51, 60, 63, 36, 77, 72, 85, 19, 62, 88, 174, 53, 49, 76, 36, 62, 26, 49, 26, 323, 66, 14, 188, 63, 4, 20, 33, 53, 80, 67, 2, 128, 36, 72, 56, 48, 37, 220, 47, 25, 36, 59, 90, 41, 49, 20, 358], [0, 0, 0, 0, 0, 0, 0, 0, 0, 0, 0, 0, 0, 0, 0, 1, 0, 0, 0, 0, 0, 0, 0, 0, 0, 0, 0, 0, 0, 0, 0, 0, 0, 0, 0, 0, 0, 0, 0, 0, 0, 1, 0, 1, 0, 0, 0, 0, 0, 0, 0, 0, 0, 0, 0, 0, 0, 0, 0, 0, 1, 0, 0, 0, 0, 0, 0, 0, 0, 0, 0, 0, 0, 0, 0, 0, 0, 0, 0, 0, 0, 0, 0, 0, 0, 0, 0, 0, 1, 0, 0, 0, 0, 0, 0, 0, 0, 0, 0, 0, 0, 1, 44, 24, 173, 48, 57, 298, 54, 86, 181, 35, 46, 68, 46, 6, 133, 37, 77, 352, 69, 44, 35, 72, 18, 292, 35, 57, 253, 52, 81, 220, 40, 57, 250, 46, 12, 149, 38, 83, 204, 32, 6, 257, 54, 77, 149, 42, 73, 338], [0, 0, 0, 0, 0, 0, 0, 0, 0, 0, 1, 0, 0, 0, 0, 0, 0, 0, 0, 0, 0, 0, 0, 0, 0, 0, 0, 0, 0, 0, 0, 0, 0, 0, 0, 0, 0, 1, 0, 0, 0, 0, 0, 0, 0, 0, 0, 0, 0, 1, 0, 0, 0, 0, 0, 0, 0, 0, 0, 0, 0, 0, 0, 0, 0, 0, 0, 0, 0, 0, 0, 0, 0, 0, 0, 0, 0, 0, 0, 0, 0, 0, 0, 0, 0, 0, 0, 0, 0, 1, 0, 0, 0, 0, 0, 0, 0, 0, 1, 0, 0, 0, 55, 17, 282, 43, 64, 102, 63, 21, 244, 72, 34, 318, 49, 17, 269, 33, 44, 56, 66, 7, 70, 42, 28, 31, 43, 48, 282, 37, 2, 237, 39, 62, 262, 36, 67, 340, 59, 59, 235, 48, 52, 72, 37, 16, 292, 50, 81, 123], [0, 0, 0, 0, 0, 0, 0, 0, 0, 0, 0, 0, 0, 0, 0, 0, 0, 0, 0, 1, 0, 0, 0, 0, 0, 0, 0, 0, 0, 0, 1, 0, 0, 0, 0, 0, 0, 0, 0, 0, 0, 0, 0, 0, 0, 0, 0, 0, 0, 0, 0, 0, 0, 0, 0, 0, 0, 0, 0, 0, 0, 0, 0, 0, 0, 0, 0, 0, 0, 0, 0, 0, 0, 0, 0, 1, 0, 0, 0, 0, 0, 0, 0, 0, 0, 0, 1, 0, 0, 0, 0, 0, 0, 0, 0, 0, 0, 0, 0, 0, 0, 0, 63, 62, 284, 32, 34, 3, 60, 4, 162, 70, 19, 354, 38, 14, 306, 35, 12, 0, 35, 10, 355, 36, 73, 178, 67, 10, 126, 35, 31, 339, 63, 74, 79, 62, 41, 140, 63, 10, 285, 55, 9, 22, 53, 73, 290, 42, 37, 280], [0, 0, 0, 0, 0, 0, 0, 0, 0, 0, 0, 0, 0, 0, 0, 0, 0, 0, 1, 0, 0, 0, 0, 0, 0, 0, 0, 0, 0, 0, 0, 0, 0, 0, 0, 0, 0, 0, 0, 0, 0, 0, 0, 0, 0, 0, 0, 0, 0, 0, 0, 0, 0, 0, 0, 0, 0, 0, 0, 0, 0, 0, 0, 0, 0, 0, 0, 0, 0, 0, 0, 0, 0, 0, 0, 0, 0, 0, 0, 0, 0, 0, 0, 0, 0, 0, 0, 0, 0, 0, 0, 0, 1, 1, 1, 0, 0, 0, 0, 0, 0, 0, 71, 56, 285, 35, 31, 94, 42, 68, 97, 69, 25, 156, 66, 62, 151, 38, 82, 225, 72, 75, 329, 35, 74, 153, 66, 68, 228, 50, 69, 251, 41, 40, 15, 34, 33, 40, 53, 68, 125, 52, 50, 324, 71, 64, 111, 43, 46, 146], [0, 0, 0, 0, 0, 0, 0, 0, 0, 0, 1, 0, 0, 0, 0, 0, 0, 0, 0, 0, 0, 0, 0, 0, 0, 0, 0, 0, 0, 0, 0, 0, 0, 0, 0, 0, 0, 0, 0, 0, 0, 0, 0, 0, 0, 0, 0, 0, 0, 0, 0, 0, 0, 0, 0, 0, 0, 0, 0, 0, 0, 0, 0, 0, 0, 0, 0, 0, 0, 0, 0, 0, 0, 0, 0, 0, 0, 0, 0, 0, 0, 0, 1, 0, 0, 0, 0, 0, 0, 0, 0, 0, 0, 0, 0, 0, 0, 0, 0, 1, 0, 0, 70, 21, 345, 49, 69, 342, 67, 82, 130, 50, 71, 330, 69, 8, 291, 54, 80, 17, 38, 73, 243, 46, 88, 287, 38, 23, 56, 58, 5, 179, 68, 51, 322, 47, 62, 249, 70, 12, 305, 39, 23, 273, 62, 78, 262, 54, 13, 111], [0, 0, 1, 0, 0, 0, 0, 0, 0, 0, 0, 0, 0, 1, 0, 0, 0, 0, 0, 0, 0, 0, 0, 0, 0, 0, 0, 0, 1, 0, 0, 0, 0, 0, 0, 0, 1, 0, 0, 0, 0, 0, 0, 0, 0, 0, 0, 0, 0, 0, 0, 0, 0, 0, 0, 0, 0, 0, 0, 0, 0, 0, 0, 0, 0, 0, 0, 0, 0, 0, 0, 0, 0, 0, 0, 0, 0, 0, 0, 0, 0, 0, 0, 0, 0, 0, 0, 0, 0, 0, 0, 0, 0, 0, 0, 0, 0, 0, 0, 0, 0, 0, 58, 58, 120, 47, 83, 194, 33, 58, 342, 62, 6, 349, 69, 65, 129, 71, 15, 134, 47, 78, 14, 52, 50, 88, 33, 35, 266, 56, 43, 129, 66, 85, 3, 50, 57, 313, 35, 74, 114, 41, 25, 12, 57, 0, 198, 46, 54, 246], [1, 0, 0, 0, 0, 0, 0, 0, 0, 0, 0, 0, 0, 0, 0, 0, 0, 0, 0, 0, 0, 0, 0, 0, 0, 0, 0, 0, 0, 0, 0, 0, 0, 0, 0, 0, 0, 0, 0, 0, 0, 0, 0, 0, 0, 0, 0, 0, 0, 0, 0, 0, 0, 0, 1, 0, 0, 0, 0, 0, 0, 0, 0, 0, 0, 0, 0, 0, 1, 0, 0, 0, 1, 0, 0, 0, 0, 0, 0, 0, 0, 0, 0, 0, 0, 0, 0, 0, 0, 0, 0, 0, 0, 0, 0, 0, 0, 0, 0, 0, 1, 0, 42, 86, 51, 48, 33, 112, 60, 83, 336, 49, 85, 99, 44, 33, 123, 42, 54, 67, 60, 85, 219, 34, 49, 348, 55, 69, 312, 46, 18, 348, 72, 68, 257, 46, 58, 127, 60, 45, 354, 41, 51, 285, 52, 62, 58, 54, 24, 339], [0, 0, 0, 0, 0, 0, 0, 0, 0, 0, 0, 0, 0, 0, 0, 0, 0, 0, 0, 0, 0, 0, 0, 0, 0, 0, 0, 1, 0, 0, 0, 0, 0, 0, 0, 0, 0, 0, 0, 0, 0, 0, 0, 0, 0, 0, 0, 0, 0, 0, 0, 0, 0, 0, 0, 0, 0, 0, 0, 0, 0, 0, 0, 0, 0, 0, 0, 0, 0, 0, 0, 0, 0, 0, 0, 0, 0, 0, 0, 0, 0, 0, 0, 1, 0, 0, 0, 0, 0, 0, 0, 1, 0, 1, 0, 0, 0, 0, 0, 0, 1, 0, 35, 60, 203, 40, 4, 173, 35, 83, 267, 66, 50, 149, 71, 38, 219, 61, 24, 88, 57, 59, 317, 66, 72, 146, 54, 32, 217, 69, 17, 328, 59, 10, 44, 40, 64, 290, 32, 84, 268, 47, 80, 27, 60, 36, 92, 45, 69, 219], [0, 0, 0, 0, 0, 0, 0, 0, 0, 0, 0, 0, 0, 0, 0, 0, 0, 0, 0, 0, 0, 0, 0, 0, 0, 0, 0, 0, 0, 0, 0, 0, 0, 0, 0, 0, 0, 0, 0, 0, 0, 0, 0, 0, 0, 0, 0, 0, 0, 0, 0, 0, 0, 0, 0, 0, 0, 0, 0, 0, 0, 0, 0, 0, 0, 0, 0, 0, 0, 0, 0, 0, 0, 0, 0, 0, 0, 0, 0, 0, 0, 0, 0, 0, 0, 0, 0, 1, 0, 0, 0, 0, 1, 0, 0, 0, 0, 0, 0, 0, 0, 0, 69, 5, 207, 54, 90, 100, 65, 41, 112, 58, 14, 77, 65, 76, 107, 38, 40, 106, 72, 89, 265, 70, 51, 359, 44, 75, 56, 45, 16, 316, 60, 10, 146, 70, 89, 37, 59, 41, 298, 54, 75, 205, 34, 12, 276, 34, 43, 160], [0, 0, 0, 0, 0, 0, 0, 0, 0, 0, 0, 0, 0, 0, 0, 0, 0, 0, 1, 0, 0, 0, 0, 0, 0, 0, 0, 0, 0, 0, 0, 0, 0, 0, 0, 0, 0, 0, 0, 0, 0, 0, 0, 0, 0, 0, 0, 0, 0, 0, 0, 0, 0, 0, 1, 0, 0, 0, 0, 0, 0, 0, 0, 0, 0, 0, 0, 1, 0, 0, 0, 0, 0, 0, 0, 0, 0, 0, 0, 0, 0, 0, 0, 0, 0, 0, 0, 0, 0, 0, 0, 0, 0, 0, 0, 0, 0, 0, 0, 0, 0, 0, 69, 12, 236, 49, 23, 211, 68, 61, 105, 39, 63, 328, 40, 34, 79, 41, 63, 250, 34, 83, 46, 60, 25, 13, 35, 79, 322, 70, 49, 127, 43, 62, 313, 37, 76, 156, 40, 89, 318, 60, 73, 346, 42, 78, 303, 51, 18, 171], [0, 0, 0, 0, 0, 0, 0, 0, 0, 0, 0, 0, 0, 0, 0, 0, 0, 0, 0, 0, 0, 0, 0, 0, 0, 0, 0, 0, 0, 0, 0, 0, 0, 0, 0, 0, 0, 0, 0, 0, 0, 0, 0, 0, 1, 0, 0, 0, 0, 0, 0, 0, 0, 0, 0, 0, 0, 0, 0, 0, 0, 0, 0, 0, 1, 0, 0, 0, 0, 0, 0, 0, 0, 0, 0, 0, 0, 0, 0, 0, 0, 0, 0, 0, 0, 0, 0, 0, 0, 0, 0, 0, 0, 0, 0, 0, 0, 0, 0, 0, 0, 0, 70, 33, 69, 39, 56, 220, 44, 84, 123, 44, 48, 160, 59, 58, 295, 48, 48, 78, 33, 22, 11, 52, 18, 267, 55, 54, 50, 62, 87, 159, 69, 16, 243, 46, 87, 299, 54, 63, 243, 52, 31, 126, 46, 83, 244, 58, 71, 246], [0, 1, 0, 0, 0, 0, 0, 0, 0, 0, 0, 0, 0, 0, 0, 0, 0, 0, 0, 0, 0, 0, 0, 0, 0, 0, 0, 0, 0, 0, 0, 0, 0, 0, 0, 1, 0, 0, 0, 0, 0, 0, 0, 0, 0, 0, 0, 0, 0, 0, 0, 0, 1, 0, 0, 0, 0, 0, 0, 0, 0, 0, 0, 0, 0, 0, 0, 0, 0, 0, 0, 0, 0, 0, 0, 0, 0, 1, 0, 0, 0, 0, 0, 0, 0, 0, 0, 0, 0, 0, 0, 0, 1, 0, 0, 0, 0, 0, 0, 0, 0, 0, 72, 20, 214, 44, 87, 231, 63, 64, 283, 60, 3, 13, 67, 33, 215, 36, 37, 140, 63, 13, 126, 42, 72, 103, 42, 50, 306, 64, 1, 212, 48, 65, 76, 38, 90, 60, 62, 64, 329, 60, 23, 353, 52, 18, 288, 32, 55, 28], [0, 0, 0, 0, 0, 0, 0, 0, 0, 0, 0, 0, 0, 0, 0, 0, 0, 0, 0, 0, 0, 0, 0, 1, 1, 0, 0, 0, 0, 0, 0, 0, 0, 0, 0, 1, 0, 0, 0, 0, 0, 0, 0, 0, 0, 0, 0, 0, 0, 0, 0, 0, 0, 0, 0, 0, 0, 0, 0, 0, 0, 0, 0, 0, 0, 0, 0, 0, 0, 0, 0, 0, 0, 0, 0, 0, 0, 0, 0, 0, 0, 0, 0, 0, 0, 0, 0, 0, 0, 0, 0, 0, 0, 0, 0, 0, 0, 0, 0, 0, 0, 0, 57, 31, 183, 57, 17, 321, 38, 21, 100, 36, 49, 197, 37, 37, 241, 54, 32, 110, 46, 53, 324, 60, 43, 280, 49, 35, 38, 32, 16, 64, 47, 52, 140, 33, 58, 31, 60, 9, 292, 39, 59, 266, 58, 2, 222, 37, 43, 196], [0, 0, 1, 0, 0, 0, 0, 1, 0, 0, 0, 0, 0, 0, 0, 0, 0, 0, 0, 0, 0, 0, 0, 0, 0, 0, 0, 0, 0, 0, 0, 0, 0, 0, 0, 0, 0, 0, 0, 0, 0, 0, 0, 0, 0, 1, 0, 0, 0, 0, 0, 0, 0, 0, 0, 0, 0, 0, 0, 0, 0, 0, 0, 0, 0, 0, 0, 0, 0, 0, 0, 0, 0, 0, 0, 0, 0, 0, 0, 0, 0, 0, 0, 1, 1, 0, 0, 0, 0, 1, 0, 0, 0, 0, 0, 0, 0, 0, 0, 0, 0, 0, 46, 34, 188, 70, 10, 176, 66, 10, 48, 69, 28, 204, 56, 12, 327, 63, 54, 97, 44, 41, 268, 71, 11, 76, 32, 14, 124, 66, 78, 151, 71, 81, 276, 43, 29, 137, 56, 4, 176, 36, 18, 240, 51, 72, 112, 32, 32, 31], [0, 1, 0, 0, 0, 0, 0, 0, 0, 0, 0, 0, 0, 0, 1, 0, 0, 0, 0, 0, 0, 0, 0, 0, 0, 0, 0, 0, 0, 0, 0, 0, 0, 0, 0, 0, 0, 0, 0, 0, 0, 0, 0, 0, 0, 0, 0, 0, 0, 0, 0, 0, 0, 0, 0, 0, 0, 0, 0, 0, 0, 0, 1, 0, 0, 0, 0, 0, 0, 0, 0, 0, 0, 0, 0, 0, 0, 0, 0, 0, 0, 0, 0, 0, 0, 0, 0, 0, 0, 0, 0, 0, 0, 0, 0, 0, 1, 0, 0, 0, 0, 0, 64, 64, 171, 38, 0, 102, 70, 19, 44, 57, 71, 276, 59, 79, 120, 42, 53, 34, 46, 51, 101, 32, 3, 222, 44, 81, 179, 37, 50, 170, 45, 38, 96, 37, 32, 350, 39, 61, 60, 35, 49, 137, 40, 60, 92, 32, 23, 30], [0, 0, 1, 0, 0, 0, 0, 0, 0, 0, 0, 0, 0, 0, 0, 0, 0, 0, 0, 0, 0, 0, 0, 0, 0, 0, 0, 1, 0, 0, 0, 0, 0, 0, 0, 0, 0, 0, 0, 0, 0, 0, 1, 0, 0, 0, 0, 0, 0, 0, 0, 0, 0, 0, 0, 0, 0, 0, 0, 0, 0, 0, 0, 0, 0, 0, 0, 0, 0, 0, 0, 0, 0, 0, 0, 0, 0, 0, 0, 0, 0, 0, 0, 0, 0, 0, 0, 0, 0, 0, 0, 0, 0, 0, 0, 0, 0, 0, 0, 0, 0, 0, 67, 12, 237, 51, 26, 131, 32, 20, 183, 61, 72, 291, 61, 49, 327, 41, 8, 69, 65, 5, 247, 47, 29, 61, 68, 75, 251, 32, 3, 332, 52, 15, 163, 33, 51, 120, 66, 85, 256, 36, 40, 0, 58, 49, 331, 69, 46, 236], [0, 0, 0, 0, 0, 0, 0, 0, 0, 0, 0, 0, 0, 0, 0, 0, 0, 0, 0, 0, 0, 0, 0, 0, 0, 0, 0, 0, 0, 0, 0, 0, 0, 0, 0, 0, 0, 0, 0, 0, 0, 0, 0, 0, 0, 0, 0, 0, 0, 0, 0, 0, 0, 0, 0, 0, 0, 0, 0, 0, 0, 0, 0, 0, 0, 0, 0, 0, 0, 0, 0, 0, 1, 0, 0, 0, 0, 0, 0, 0, 0, 0, 1, 0, 0, 0, 0, 0, 0, 0, 0, 0, 0, 0, 0, 0, 0, 0, 0, 0, 0, 0, 51, 16, 197, 52, 34, 52, 34, 88, 41, 46, 69, 215, 72, 84, 30, 71, 55, 3, 63, 76, 233, 54, 41, 93, 53, 87, 276, 33, 0, 129, 69, 69, 46, 67, 66, 81, 64, 76, 297, 50, 14, 341, 55, 20, 5, 48, 86, 161], [0, 0, 0, 0, 0, 0, 0, 0, 0, 0, 0, 0, 0, 0, 0, 0, 0, 0, 0, 0, 0, 0, 0, 0, 0, 0, 0, 0, 0, 0, 0, 0, 0, 0, 0, 0, 0, 0, 0, 0, 0, 0, 0, 0, 0, 0, 0, 0, 0, 0, 0, 0, 1, 0, 0, 0, 0, 0, 0, 0, 0, 0, 0, 0, 0, 0, 0, 0, 0, 0, 0, 0, 1, 1, 0, 0, 1, 0, 0, 0, 0, 0, 0, 0, 0, 0, 0, 1, 0, 0, 0, 0, 0, 0, 0, 0, 0, 0, 0, 0, 1, 0, 62, 54, 73, 51, 77, 188, 71, 4, 298, 53, 10, 26, 38, 16, 292, 49, 34, 129, 59, 56, 200, 43, 39, 260, 62, 62, 11, 64, 8, 20, 44, 22, 100, 66, 49, 208, 41, 5, 175, 33, 40, 43, 41, 61, 168, 49, 43, 278], [0, 0, 0, 0, 0, 0, 0, 0, 0, 0, 0, 0, 0, 0, 0, 1, 0, 0, 0, 0, 0, 0, 0, 0, 0, 0, 0, 1, 0, 0, 0, 0, 0, 0, 0, 0, 0, 0, 0, 0, 0, 1, 0, 0, 0, 0, 0, 0, 0, 0, 0, 0, 0, 0, 0, 0, 0, 0, 0, 0, 0, 0, 0, 0, 0, 0, 0, 0, 0, 0, 0, 0, 0, 0, 0, 0, 0, 0, 0, 0, 0, 0, 0, 0, 0, 0, 0, 0, 0, 0, 0, 0, 0, 0, 0, 0, 0, 0, 0, 0, 0, 0, 60, 31, 285, 70, 62, 91, 39, 38, 316, 45, 61, 111, 34, 3, 337, 50, 32, 188, 40, 53, 355, 59, 50, 125, 40, 40, 43, 33, 49, 312, 43, 70, 175, 38, 85, 353, 48, 30, 109, 56, 35, 272, 39, 54, 160, 70, 6, 210], [0, 0, 0, 0, 0, 0, 0, 0, 0, 0, 0, 0, 0, 0, 0, 0, 0, 0, 0, 0, 0, 0, 0, 0, 0, 0, 0, 0, 0, 0, 0, 0, 0, 0, 0, 0, 0, 0, 0, 0, 0, 0, 0, 0, 1, 0, 0, 0, 0, 0, 0, 0, 0, 0, 0, 0, 0, 0, 0, 0, 0, 0, 0, 0, 0, 0, 0, 0, 0, 0, 0, 0, 0, 0, 0, 1, 0, 0, 0, 0, 0, 0, 1, 1, 0, 0, 0, 0, 0, 0, 0, 0, 0, 0, 0, 0, 0, 0, 0, 0, 0, 0, 42, 45, 308, 60, 86, 0, 46, 58, 13, 67, 45, 227, 35, 36, 294, 63, 1, 34, 41, 73, 204, 46, 29, 62, 46, 0, 83, 38, 22, 90, 50, 86, 101, 53, 17, 324, 34, 11, 54, 38, 11, 24, 48, 24, 221, 32, 26, 307], [0, 0, 0, 0, 0, 0, 0, 0, 0, 0, 1, 0, 0, 0, 0, 0, 0, 0, 0, 0, 0, 0, 0, 0, 0, 0, 0, 0, 0, 0, 0, 0, 0, 0, 0, 0, 0, 0, 0, 0, 0, 0, 0, 1, 0, 0, 0, 0, 0, 0, 0, 0, 0, 0, 0, 0, 0, 0, 0, 0, 0, 0, 0, 0, 0, 0, 0, 0, 0, 0, 1, 0, 0, 0, 0, 0, 0, 0, 0, 0, 0, 0, 0, 0, 0, 0, 0, 0, 0, 0, 0, 0, 0, 0, 0, 0, 0, 0, 0, 0, 0, 0, 52, 87, 136, 59, 49, 271, 49, 33, 204, 68, 5, 223, 36, 69, 298, 57, 76, 289, 67, 74, 121, 35, 87, 41, 67, 49, 11, 58, 27, 234, 47, 53, 85, 56, 16, 189, 47, 82, 11, 35, 11, 123, 49, 61, 190, 41, 51, 38], [0, 0, 0, 0, 0, 0, 0, 0, 0, 0, 0, 0, 0, 0, 0, 0, 0, 0, 1, 0, 0, 0, 0, 0, 0, 0, 0, 0, 0, 0, 1, 0, 0, 0, 1, 0, 0, 0, 0, 0, 0, 0, 0, 0, 0, 0, 0, 0, 0, 0, 0, 0, 0, 0, 0, 0, 0, 0, 0, 0, 0, 0, 0, 0, 0, 0, 0, 0, 0, 0, 0, 0, 0, 0, 0, 0, 0, 0, 0, 0, 0, 0, 0, 0, 0, 0, 0, 0, 0, 0, 0, 0, 0, 0, 0, 0, 1, 0, 0, 0, 0, 0, 54, 32, 0, 52, 46, 282, 40, 71, 63, 43, 42, 221, 50, 43, 317, 72, 54, 290, 38, 5, 220, 61, 70, 16, 61, 84, 256, 47, 33, 130, 34, 0, 202, 49, 83, 230, 41, 68, 142, 72, 44, 122, 34, 12, 332, 51, 4, 42], [0, 0, 0, 0, 0, 0, 0, 0, 0, 0, 0, 0, 0, 0, 0, 1, 0, 0, 0, 0, 0, 0, 0, 1, 1, 0, 0, 0, 0, 0, 0, 0, 0, 0, 0, 0, 0, 0, 0, 0, 0, 0, 0, 0, 0, 0, 0, 0, 0, 0, 0, 0, 0, 0, 0, 0, 0, 0, 1, 0, 0, 0, 0, 1, 0, 1, 0, 0, 0, 0, 0, 0, 0, 0, 0, 0, 0, 0, 0, 0, 0, 0, 0, 0, 0, 0, 0, 0, 0, 0, 0, 0, 0, 0, 0, 0, 0, 0, 0, 0, 0, 0, 70, 61, 276, 50, 77, 360, 55, 33, 157, 49, 43, 189, 39, 0, 92, 36, 77, 203, 68, 6, 218, 54, 79, 64, 70, 14, 30, 62, 74, 308, 66, 47, 65, 63, 60, 64, 71, 50, 187, 66, 72, 260, 66, 22, 168, 52, 30, 199], [0, 0, 0, 0, 0, 0, 0, 0, 0, 0, 0, 0, 0, 0, 0, 0, 0, 0, 1, 0, 0, 0, 0, 0, 0, 0, 0, 0, 0, 0, 0, 0, 0, 0, 0, 0, 0, 0, 0, 0, 0, 0, 0, 0, 0, 0, 0, 0, 0, 0, 0, 0, 0, 0, 0, 0, 0, 0, 0, 0, 0, 0, 0, 0, 0, 0, 0, 0, 0, 0, 0, 0, 0, 0, 0, 0, 0, 0, 0, 0, 0, 0, 0, 0, 0, 0, 0, 0, 0, 0, 0, 0, 0, 0, 0, 0, 0, 0, 0, 0, 0, 0, 32, 87, 149, 36, 9, 282, 37, 66, 145, 54, 60, 175, 63, 72, 360, 42, 49, 35, 43, 80, 211, 71, 6, 99, 34, 48, 48, 67, 18, 302, 38, 11, 27, 60, 3, 8, 41, 45, 141, 39, 42, 297, 49, 68, 22, 36, 78, 298], [0, 0, 0, 0, 0, 0, 0, 1, 0, 0, 0, 0, 0, 0, 0, 0, 0, 0, 0, 0, 0, 0, 0, 0, 0, 0, 0, 0, 0, 0, 0, 0, 0, 0, 0, 0, 0, 0, 0, 0, 0, 0, 0, 0, 1, 0, 0, 0, 0, 0, 0, 0, 0, 0, 0, 0, 0, 0, 0, 0, 0, 0, 0, 0, 0, 0, 0, 0, 0, 0, 0, 0, 0, 0, 0, 0, 0, 0, 0, 0, 0, 0, 0, 0, 0, 0, 0, 0, 0, 0, 0, 0, 0, 0, 0, 0, 0, 1, 0, 0, 0, 0, 37, 10, 47, 70, 73, 289, 57, 9, 173, 61, 90, 176, 41, 51, 257, 67, 88, 229, 66, 59, 226, 42, 11, 194, 68, 1, 288, 60, 71, 221, 35, 10, 165, 46, 19, 30, 41, 14, 189, 67, 0, 167, 54, 84, 142, 60, 16, 142], [0, 0, 0, 0, 1, 0, 0, 0, 0, 0, 0, 1, 0, 1, 0, 0, 0, 0, 0, 0, 0, 0, 0, 0, 0, 0, 0, 0, 0, 0, 1, 0, 0, 0, 0, 0, 0, 1, 0, 0, 0, 0, 0, 0, 0, 0, 0, 0, 0, 0, 0, 0, 0, 0, 0, 0, 0, 0, 0, 0, 0, 0, 0, 0, 0, 0, 0, 0, 0, 0, 0, 0, 1, 0, 0, 0, 0, 0, 0, 0, 0, 0, 0, 0, 0, 0, 0, 0, 0, 0, 0, 0, 0, 0, 0, 0, 0, 0, 0, 0, 0, 0, 66, 55, 189, 46, 68, 315, 66, 56, 21, 39, 86, 24, 70, 64, 56, 38, 27, 168, 49, 55, 290, 71, 72, 212, 46, 32, 41, 65, 67, 239, 51, 68, 291, 43, 6, 341, 58, 36, 218, 57, 11, 267, 58, 22, 112, 47, 62, 150], [0, 0, 0, 0, 0, 0, 0, 0, 0, 0, 0, 0, 0, 0, 0, 0, 0, 0, 0, 0, 0, 0, 0, 0, 0, 0, 0, 0, 0, 0, 0, 0, 0, 0, 0, 0, 0, 0, 0, 0, 0, 0, 0, 0, 0, 1, 0, 0, 0, 0, 0, 0, 0, 0, 0, 0, 0, 0, 0, 0, 0, 1, 0, 1, 0, 0, 0, 0, 0, 0, 0, 0, 0, 0, 0, 0, 0, 0, 0, 0, 0, 0, 0, 0, 0, 0, 0, 0, 0, 0, 0, 0, 0, 0, 0, 0, 0, 1, 0, 0, 0, 0, 60, 26, 17, 47, 2, 88, 69, 62, 40, 62, 41, 50, 69, 85, 184, 72, 27, 69, 52, 32, 144, 47, 52, 107, 67, 47, 355, 43, 68, 343, 51, 73, 249, 62, 64, 324, 50, 58, 269, 59, 20, 91, 41, 32, 275, 54, 78, 144], [0, 0, 0, 0, 0, 1, 0, 0, 0, 0, 0, 0, 1, 0, 0, 0, 0, 0, 0, 0, 0, 1, 0, 0, 0, 0, 0, 0, 0, 0, 0, 1, 0, 0, 0, 0, 0, 0, 0, 0, 0, 0, 0, 0, 0, 0, 0, 0, 0, 0, 0, 0, 0, 0, 0, 0, 0, 0, 0, 0, 0, 0, 0, 0, 0, 0, 0, 0, 0, 1, 0, 0, 1, 0, 0, 0, 0, 0, 0, 0, 0, 0, 0, 0, 0, 0, 0, 0, 0, 0, 0, 0, 0, 0, 0, 0, 0, 0, 0, 0, 0, 0, 47, 81, 94, 71, 5, 292, 52, 7, 51, 44, 57, 113, 32, 63, 137, 37, 11, 335, 55, 46, 181, 64, 52, 152, 45, 1, 13, 61, 55, 4, 44, 9, 161, 41, 85, 284, 43, 57, 133, 32, 4, 93, 35, 89, 304, 65, 47, 8], [0, 0, 0, 0, 0, 0, 1, 0, 0, 0, 0, 0, 0, 0, 0, 0, 0, 0, 0, 0, 0, 0, 0, 0, 0, 0, 0, 0, 0, 0, 0, 0, 0, 0, 0, 0, 0, 0, 0, 0, 0, 0, 0, 0, 0, 1, 0, 0, 0, 0, 0, 0, 0, 0, 0, 0, 0, 0, 0, 0, 0, 0, 0, 0, 0, 0, 0, 0, 0, 0, 0, 0, 0, 0, 0, 0, 0, 0, 0, 0, 0, 1, 0, 0, 0, 0, 0, 0, 0, 0, 0, 0, 0, 0, 0, 0, 0, 0, 0, 0, 0, 1, 38, 52, 62, 68, 69, 112, 50, 28, 185, 34, 42, 15, 34, 82, 258, 45, 36, 202, 58, 23, 12, 33, 4, 259, 60, 64, 113, 59, 1, 127, 48, 8, 96, 44, 28, 336, 39, 11, 15, 70, 76, 151, 55, 5, 351, 53, 70, 225], [0, 0, 0, 0, 0, 0, 0, 0, 0, 0, 0, 0, 0, 0, 0, 0, 0, 1, 0, 0, 0, 0, 0, 0, 0, 0, 0, 1, 0, 0, 0, 0, 0, 0, 0, 0, 0, 0, 0, 0, 0, 0, 0, 0, 0, 0, 0, 0, 0, 0, 0, 0, 0, 0, 0, 0, 0, 0, 1, 0, 0, 0, 0, 0, 0, 0, 0, 0, 0, 0, 0, 0, 0, 0, 0, 0, 0, 0, 0, 0, 0, 0, 0, 0, 0, 1, 0, 0, 0, 0, 0, 0, 0, 0, 0, 0, 0, 0, 0, 0, 0, 0, 60, 5, 181, 62, 71, 189, 64, 50, 132, 41, 14, 65, 50, 63, 197, 49, 39, 217, 35, 14, 103, 50, 85, 205, 72, 21, 148, 49, 81, 78, 35, 18, 38, 56, 72, 244, 59, 82, 329, 66, 58, 150, 51, 79, 171, 43, 49, 289], [0, 0, 0, 0, 0, 0, 0, 0, 0, 0, 0, 0, 0, 0, 0, 0, 0, 0, 0, 0, 0, 0, 0, 0, 0, 0, 0, 0, 0, 0, 0, 0, 0, 0, 0, 0, 0, 0, 0, 0, 0, 0, 0, 0, 0, 0, 0, 0, 0, 0, 0, 0, 1, 0, 0, 0, 0, 0, 0, 0, 0, 0, 0, 0, 0, 0, 0, 0, 0, 0, 0, 0, 0, 0, 0, 0, 0, 0, 0, 0, 0, 0, 0, 0, 0, 0, 0, 0, 0, 0, 0, 0, 0, 0, 0, 0, 0, 0, 0, 0, 0, 0, 54, 73, 65, 69, 14, 119, 46, 68, 197, 45, 25, 229, 61, 2, 316, 50, 59, 318, 34, 39, 28, 65, 4, 236, 46, 83, 43, 34, 60, 156, 55, 27, 268, 39, 38, 157, 48, 44, 266, 33, 28, 349, 65, 0, 286, 46, 15, 114], [0, 0, 0, 0, 0, 0, 0, 0, 0, 0, 0, 0, 0, 0, 0, 0, 0, 0, 0, 0, 0, 0, 0, 0, 0, 0, 0, 0, 0, 0, 0, 0, 1, 0, 0, 0, 1, 0, 0, 0, 0, 0, 0, 0, 0, 0, 0, 0, 0, 0, 0, 0, 0, 0, 0, 0, 1, 0, 0, 0, 0, 0, 0, 0, 0, 0, 0, 0, 0, 0, 1, 0, 0, 0, 0, 0, 0, 0, 0, 0, 0, 0, 0, 0, 0, 0, 0, 0, 0, 0, 0, 0, 0, 0, 0, 0, 0, 0, 0, 0, 0, 0, 60, 42, 50, 37, 73, 100, 69, 63, 236, 68, 83, 265, 36, 47, 21, 33, 75, 295, 61, 13, 99, 41, 41, 92, 47, 1, 158, 64, 65, 156, 49, 39, 219, 46, 13, 108, 50, 12, 37, 59, 7, 354, 67, 46, 57, 72, 18, 169], [0, 0, 0, 0, 0, 0, 0, 0, 0, 0, 0, 0, 0, 0, 0, 0, 0, 0, 0, 0, 0, 0, 0, 0, 0, 0, 0, 0, 0, 0, 0, 1, 0, 0, 0, 0, 0, 0, 0, 0, 0, 0, 0, 0, 0, 0, 0, 0, 0, 0, 0, 0, 0, 0, 0, 0, 0, 0, 0, 0, 0, 0, 0, 0, 0, 0, 0, 0, 0, 0, 0, 0, 0, 0, 0, 1, 0, 0, 0, 0, 0, 0, 0, 0, 0, 0, 0, 0, 0, 0, 0, 0, 1, 0, 0, 0, 0, 0, 1, 0, 0, 0, 51, 44, 146, 34, 16, 189, 70, 52, 347, 44, 77, 59, 37, 42, 349, 35, 52, 318, 43, 32, 143, 50, 45, 41, 36, 63, 151, 71, 37, 225, 60, 8, 340, 71, 90, 28, 48, 10, 82, 56, 42, 199, 57, 76, 248, 58, 42, 265], [0, 0, 0, 0, 0, 0, 0, 0, 0, 0, 0, 0, 0, 0, 0, 0, 0, 0, 0, 0, 0, 1, 0, 1, 0, 0, 0, 0, 0, 0, 0, 0, 0, 0, 0, 0, 0, 0, 0, 0, 0, 0, 0, 0, 0, 1, 0, 0, 0, 0, 0, 0, 0, 0, 0, 0, 0, 0, 0, 0, 0, 0, 0, 0, 0, 0, 0, 0, 0, 0, 0, 0, 0, 0, 0, 0, 0, 0, 0, 0, 0, 0, 0, 0, 0, 0, 0, 0, 0, 0, 0, 0, 0, 0, 0, 0, 1, 0, 0, 0, 0, 0, 43, 57, 253, 49, 32, 100, 35, 58, 340, 60, 89, 166, 70, 57, 248, 32, 46, 12, 69, 0, 15, 64, 45, 273, 67, 6, 307, 60, 24, 181, 48, 19, 212, 70, 86, 77, 62, 17, 27, 34, 23, 285, 44, 50, 70, 63, 66, 79], [0, 0, 0, 0, 0, 0, 0, 0, 1, 0, 0, 0, 0, 1, 0, 0, 0, 0, 0, 0, 0, 0, 0, 0, 0, 0, 0, 0, 0, 0, 0, 0, 0, 0, 0, 0, 0, 0, 0, 1, 0, 0, 0, 0, 0, 0, 0, 0, 0, 0, 0, 0, 0, 0, 0, 0, 0, 0, 0, 0, 0, 0, 0, 0, 0, 0, 0, 0, 0, 0, 0, 0, 0, 0, 0, 0, 0, 0, 0, 0, 1, 0, 0, 0, 0, 0, 0, 0, 0, 0, 0, 0, 0, 0, 0, 0, 0, 0, 0, 0, 0, 0, 67, 5, 185, 68, 37, 28, 39, 27, 90, 51, 30, 319, 70, 79, 167, 33, 33, 95, 67, 55, 113, 55, 36, 19, 41, 52, 147, 58, 45, 349, 45, 69, 148, 60, 17, 43, 52, 72, 94, 61, 62, 262, 68, 35, 344, 32, 30, 13], [0, 0, 1, 0, 1, 0, 0, 0, 0, 0, 0, 0, 0, 0, 0, 0, 0, 0, 0, 0, 0, 0, 0, 0, 0, 0, 0, 0, 0, 0, 0, 0, 0, 0, 0, 0, 0, 0, 0, 0, 0, 0, 0, 0, 0, 0, 0, 0, 0, 0, 0, 0, 0, 0, 0, 0, 0, 0, 0, 0, 1, 0, 0, 1, 0, 0, 0, 0, 0, 0, 0, 0, 0, 0, 0, 0, 0, 0, 0, 1, 0, 0, 0, 0, 0, 0, 0, 0, 0, 0, 0, 0, 0, 0, 1, 0, 0, 0, 0, 0, 0, 0, 43, 4, 143, 67, 50, 220, 53, 13, 62, 35, 39, 113, 66, 30, 345, 40, 63, 246, 51, 84, 352, 35, 43, 244, 33, 79, 44, 63, 51, 188, 57, 61, 100, 39, 48, 297, 69, 79, 338, 36, 30, 297, 63, 11, 144, 48, 27, 210], [0, 0, 0, 0, 0, 0, 0, 0, 0, 0, 0, 0, 0, 0, 0, 0, 0, 0, 0, 0, 0, 0, 0, 0, 0, 0, 0, 0, 0, 0, 0, 0, 0, 0, 0, 0, 0, 0, 0, 0, 0, 0, 0, 0, 0, 0, 1, 0, 0, 0, 0, 0, 0, 0, 0, 0, 0, 0, 0, 0, 0, 0, 0, 0, 0, 0, 0, 0, 0, 0, 1, 0, 0, 1, 0, 0, 0, 0, 1, 0, 0, 0, 0, 0, 0, 0, 0, 0, 0, 0, 0, 0, 0, 0, 0, 0, 0, 0, 0, 0, 0, 0, 69, 10, 309, 44, 54, 53, 52, 35, 234, 32, 59, 258, 45, 34, 147, 61, 3, 186, 54, 29, 196, 53, 87, 300, 68, 18, 130, 36, 28, 283, 59, 17, 85, 53, 23, 111, 36, 88, 178, 39, 86, 71, 72, 31, 209, 40, 28, 350], [0, 0, 0, 0, 0, 0, 0, 0, 0, 0, 0, 0, 0, 0, 0, 0, 0, 0, 0, 0, 0, 0, 0, 0, 0, 0, 0, 0, 0, 0, 0, 0, 0, 0, 0, 0, 0, 0, 0, 0, 0, 0, 0, 0, 0, 0, 0, 0, 0, 0, 0, 0, 0, 0, 0, 0, 0, 0, 0, 0, 0, 0, 0, 0, 1, 0, 0, 0, 0, 0, 0, 0, 0, 1, 0, 0, 0, 0, 0, 0, 0, 0, 0, 0, 0, 0, 0, 0, 0, 0, 0, 0, 0, 0, 0, 0, 0, 0, 0, 0, 0, 0, 70, 73, 309, 69, 26, 179, 32, 15, 207, 33, 65, 68, 64, 13, 348, 70, 53, 207, 46, 88, 274, 36, 88, 314, 50, 14, 47, 52, 29, 290, 38, 32, 99, 47, 26, 193, 64, 82, 232, 43, 59, 251, 44, 25, 27, 67, 47, 202], [0, 0, 0, 0, 0, 0, 0, 0, 0, 0, 0, 1, 0, 0, 0, 0, 0, 0, 0, 0, 0, 0, 1, 0, 0, 0, 0, 1, 0, 1, 0, 0, 0, 0, 0, 0, 0, 0, 0, 0, 0, 0, 0, 0, 0, 0, 0, 0, 0, 0, 0, 0, 0, 0, 0, 0, 0, 0, 0, 0, 0, 0, 0, 0, 1, 0, 0, 0, 0, 0, 0, 0, 0, 0, 0, 0, 0, 0, 0, 0, 0, 0, 0, 0, 0, 0, 0, 0, 0, 0, 0, 1, 0, 0, 0, 0, 0, 0, 0, 0, 0, 0, 32, 48, 93, 51, 35, 280, 60, 35, 131, 35, 87, 343, 53, 79, 22, 50, 86, 112, 42, 2, 112, 50, 79, 40, 42, 50, 158, 56, 20, 125, 72, 34, 187, 45, 60, 257, 32, 42, 88, 52, 35, 287, 67, 76, 192, 70, 86, 167], [0, 0, 0, 0, 0, 0, 0, 0, 0, 0, 0, 0, 0, 0, 0, 0, 0, 0, 0, 0, 0, 0, 0, 0, 0, 0, 0, 0, 0, 0, 0, 1, 0, 0, 0, 0, 0, 0, 0, 0, 0, 0, 0, 0, 0, 0, 0, 0, 0, 0, 0, 0, 0, 0, 0, 0, 0, 0, 0, 0, 0, 0, 0, 0, 0, 0, 0, 0, 0, 0, 1, 0, 0, 0, 0, 0, 0, 0, 0, 0, 0, 0, 0, 0, 0, 0, 0, 0, 0, 0, 0, 0, 1, 0, 0, 0, 0, 0, 0, 0, 0, 0, 60, 37, 41, 55, 7, 260, 38, 29, 56, 55, 72, 338, 56, 85, 305, 50, 18, 2, 61, 43, 24, 67, 48, 157, 49, 83, 81, 60, 44, 146, 67, 23, 221, 48, 85, 239, 54, 81, 238, 69, 12, 346, 58, 13, 226, 42, 26, 223], [0, 0, 0, 0, 0, 0, 0, 0, 0, 0, 0, 0, 0, 0, 0, 0, 0, 0, 0, 0, 0, 0, 0, 0, 0, 0, 0, 0, 0, 0, 0, 0, 0, 0, 0, 0, 0, 0, 0, 0, 0, 0, 0, 0, 0, 0, 0, 0, 0, 1, 0, 0, 0, 0, 0, 0, 0, 0, 0, 0, 0, 0, 0, 0, 0, 0, 0, 0, 0, 0, 0, 0, 1, 0, 0, 0, 0, 0, 0, 0, 0, 0, 0, 0, 0, 0, 0, 0, 0, 0, 0, 0, 0, 0, 0, 0, 0, 0, 0, 0, 0, 0, 48, 37, 298, 66, 5, 76, 64, 1, 280, 57, 65, 112, 64, 15, 307, 56, 34, 17, 43, 41, 92, 45, 28, 201, 52, 62, 78, 39, 70, 272, 71, 2, 141, 60, 65, 16, 48, 67, 72, 59, 54, 274, 46, 45, 197, 40, 66, 344], [0, 0, 0, 0, 0, 0, 0, 0, 0, 0, 0, 0, 0, 0, 0, 0, 0, 0, 0, 0, 0, 0, 0, 0, 0, 0, 1, 0, 0, 0, 0, 0, 0, 0, 0, 0, 0, 0, 0, 0, 0, 1, 0, 0, 0, 0, 0, 0, 0, 0, 0, 0, 0, 0, 0, 1, 0, 0, 0, 0, 0, 0, 0, 0, 0, 0, 0, 0, 0, 0, 0, 0, 0, 0, 0, 0, 0, 0, 0, 0, 0, 0, 0, 0, 0, 0, 0, 0, 0, 0, 0, 0, 0, 0, 0, 0, 0, 0, 0, 0, 0, 0, 45, 10, 299, 71, 44, 279, 46, 39, 242, 62, 37, 264, 39, 54, 124, 72, 73, 289, 65, 69, 88, 41, 32, 354, 35, 71, 239, 58, 15, 284, 63, 48, 349, 38, 0, 72, 52, 38, 276, 61, 59, 282, 60, 17, 277, 41, 2, 248], [1, 0, 0, 0, 0, 0, 1, 0, 0, 0, 0, 0, 0, 0, 0, 0, 0, 0, 0, 0, 0, 0, 0, 1, 0, 0, 0, 0, 0, 0, 1, 0, 0, 0, 0, 0, 0, 0, 0, 0, 0, 0, 0, 0, 0, 0, 0, 0, 0, 0, 0, 0, 0, 0, 0, 0, 0, 0, 0, 0, 0, 0, 0, 0, 0, 0, 0, 0, 0, 0, 0, 0, 0, 0, 0, 0, 0, 0, 0, 0, 0, 0, 0, 0, 0, 0, 0, 0, 0, 0, 0, 0, 0, 0, 0, 0, 1, 0, 0, 0, 0, 0, 33, 79, 321, 72, 12, 110, 70, 37, 318, 67, 13, 211, 50, 19, 311, 69, 27, 359, 53, 38, 154, 58, 90, 35, 60, 74, 192, 43, 44, 170, 53, 47, 353, 71, 86, 103, 71, 63, 98, 35, 65, 330, 55, 55, 301, 41, 32, 275], [0, 0, 0, 0, 0, 0, 0, 0, 0, 0, 0, 0, 0, 0, 1, 0, 0, 0, 0, 0, 0, 0, 0, 0, 0, 0, 0, 0, 0, 0, 0, 0, 0, 0, 0, 0, 0, 0, 0, 0, 1, 0, 0, 0, 0, 0, 0, 0, 0, 1, 0, 0, 0, 0, 0, 1, 0, 0, 0, 0, 0, 0, 0, 0, 0, 0, 0, 0, 0, 0, 1, 0, 0, 0, 0, 0, 1, 0, 0, 0, 0, 0, 0, 0, 0, 0, 0, 0, 0, 0, 0, 0, 0, 0, 0, 0, 0, 0, 0, 0, 0, 0, 61, 65, 73, 69, 40, 13, 34, 10, 46, 33, 25, 351, 69, 37, 355, 49, 27, 21, 51, 20, 301, 34, 20, 319, 49, 89, 307, 50, 28, 316, 44, 11, 84, 53, 45, 275, 37, 45, 337, 37, 69, 33, 68, 1, 182, 37, 77, 334], [0, 0, 1, 0, 0, 0, 0, 0, 0, 0, 0, 1, 0, 0, 0, 1, 0, 0, 0, 0, 0, 0, 0, 0, 0, 0, 0, 0, 0, 0, 0, 0, 0, 0, 0, 0, 0, 0, 0, 0, 0, 0, 0, 0, 0, 0, 0, 0, 0, 0, 0, 0, 0, 0, 0, 0, 0, 0, 0, 0, 0, 0, 0, 0, 0, 0, 0, 0, 0, 0, 0, 0, 0, 0, 0, 0, 0, 0, 0, 0, 0, 0, 0, 0, 0, 0, 0, 0, 0, 0, 0, 1, 0, 0, 0, 0, 0, 0, 0, 0, 0, 0, 69, 16, 359, 42, 4, 313, 42, 17, 141, 40, 3, 104, 40, 23, 124, 34, 24, 298, 48, 38, 144, 46, 39, 288, 43, 41, 211, 58, 20, 118, 62, 89, 356, 42, 90, 240, 55, 68, 52, 56, 27, 92, 57, 59, 145, 65, 15, 80], [0, 0, 0, 0, 0, 0, 0, 0, 0, 0, 1, 0, 0, 0, 0, 0, 0, 0, 0, 0, 0, 0, 0, 0, 0, 0, 0, 0, 0, 0, 0, 0, 0, 0, 0, 0, 0, 1, 0, 0, 0, 0, 0, 0, 0, 0, 0, 0, 0, 0, 0, 0, 0, 0, 0, 0, 0, 0, 0, 0, 0, 0, 0, 0, 0, 0, 0, 0, 0, 0, 0, 0, 1, 0, 0, 0, 0, 0, 0, 0, 0, 0, 0, 0, 0, 0, 0, 0, 0, 0, 0, 0, 0, 0, 0, 0, 0, 0, 0, 0, 0, 0, 72, 30, 247, 37, 32, 81, 53, 39, 66, 52, 50, 53, 38, 59, 329, 47, 30, 117, 60, 84, 143, 57, 72, 130, 39, 82, 73, 71, 78, 135, 41, 84, 133, 56, 31, 215, 58, 50, 88, 55, 42, 192, 69, 76, 338, 68, 24, 10], [0, 0, 0, 0, 0, 0, 0, 0, 0, 0, 0, 0, 0, 0, 0, 0, 0, 0, 0, 0, 0, 0, 0, 0, 0, 0, 0, 0, 0, 0, 0, 0, 0, 0, 0, 0, 0, 0, 0, 0, 0, 0, 0, 0, 0, 0, 0, 0, 0, 0, 0, 0, 0, 0, 0, 0, 0, 0, 0, 0, 0, 0, 0, 0, 0, 0, 0, 0, 0, 0, 0, 0, 0, 0, 0, 0, 0, 0, 0, 0, 0, 0, 0, 0, 0, 0, 0, 0, 0, 1, 0, 0, 0, 0, 0, 0, 0, 0, 0, 0, 0, 0, 39, 52, 18, 50, 23, 290, 33, 12, 347, 41, 70, 4, 50, 9, 196, 48, 75, 35, 40, 87, 236, 65, 64, 268, 69, 36, 2, 48, 39, 205, 43, 8, 335, 68, 50, 138, 50, 67, 39, 62, 27, 98, 34, 43, 249, 48, 27, 249], [0, 0, 0, 0, 0, 0, 0, 0, 0, 0, 0, 1, 0, 0, 0, 0, 1, 0, 0, 0, 0, 0, 0, 0, 0, 1, 0, 0, 0, 0, 0, 0, 0, 0, 1, 0, 0, 0, 0, 0, 0, 0, 0, 0, 0, 1, 0, 0, 0, 1, 0, 0, 0, 0, 0, 0, 0, 0, 0, 0, 0, 0, 0, 0, 0, 0, 0, 0, 0, 0, 0, 0, 0, 0, 0, 0, 0, 0, 0, 0, 0, 0, 0, 0, 0, 0, 0, 0, 0, 0, 0, 0, 0, 0, 0, 0, 0, 0, 0, 0, 0, 0, 58, 64, 97, 69, 18, 277, 35, 90, 114, 62, 15, 79, 46, 60, 233, 55, 36, 60, 36, 5, 209, 53, 48, 176, 71, 70, 281, 61, 39, 193, 64, 29, 295, 62, 88, 217, 33, 44, 75, 54, 89, 181, 37, 31, 273, 64, 77, 348], [0, 0, 0, 0, 0, 0, 0, 0, 0, 0, 0, 0, 0, 0, 0, 0, 0, 0, 0, 0, 0, 0, 0, 0, 1, 0, 0, 0, 0, 0, 0, 0, 0, 0, 0, 0, 0, 0, 0, 0, 0, 0, 0, 0, 0, 0, 0, 0, 0, 0, 0, 0, 0, 0, 0, 0, 0, 0, 0, 0, 0, 0, 0, 0, 0, 0, 0, 0, 0, 0, 0, 0, 0, 0, 0, 0, 0, 0, 0, 0, 1, 0, 0, 0, 0, 0, 0, 0, 0, 0, 0, 0, 0, 0, 1, 0, 0, 0, 0, 0, 0, 0, 53, 1, 355, 37, 30, 143, 38, 77, 206, 69, 11, 115, 37, 75, 251, 41, 90, 154, 56, 19, 207, 63, 27, 42, 45, 81, 292, 40, 54, 212, 64, 82, 174, 59, 58, 97, 40, 68, 54, 66, 52, 303, 36, 29, 93, 49, 35, 18], [0, 0, 0, 0, 0, 0, 0, 0, 0, 0, 0, 0, 0, 0, 0, 0, 0, 0, 0, 0, 0, 0, 0, 0, 0, 0, 0, 0, 0, 0, 0, 0, 0, 0, 0, 0, 0, 0, 1, 0, 0, 0, 0, 0, 0, 0, 0, 0, 0, 0, 0, 0, 0, 0, 0, 0, 0, 0, 0, 0, 0, 0, 0, 0, 0, 0, 0, 1, 0, 0, 0, 0, 0, 0, 1, 0, 0, 0, 0, 0, 0, 0, 0, 0, 0, 0, 0, 0, 0, 0, 0, 0, 0, 0, 0, 0, 0, 0, 0, 0, 0, 0, 45, 62, 336, 37, 30, 168, 38, 81, 307, 49, 34, 304, 40, 29, 48, 44, 87, 33, 54, 85, 295, 41, 30, 5, 53, 53, 184, 65, 64, 43, 43, 39, 173, 55, 80, 262, 52, 16, 46, 71, 76, 288, 70, 80, 328, 54, 66, 3], [1, 0, 0, 0, 0, 0, 0, 0, 0, 0, 0, 0, 0, 0, 0, 0, 0, 0, 0, 0, 0, 1, 0, 0, 0, 0, 0, 0, 0, 0, 0, 0, 0, 1, 0, 0, 0, 0, 0, 0, 0, 0, 1, 0, 0, 0, 0, 0, 0, 0, 0, 0, 1, 0, 0, 0, 0, 0, 0, 0, 0, 0, 0, 0, 0, 0, 0, 0, 0, 0, 0, 0, 0, 0, 0, 0, 0, 0, 0, 0, 0, 0, 0, 0, 0, 0, 0, 0, 0, 0, 0, 0, 0, 0, 1, 0, 0, 0, 0, 0, 0, 0, 71, 18, 193, 54, 88, 115, 57, 12, 90, 70, 67, 30, 65, 61, 133, 44, 87, 64, 62, 69, 122, 53, 1, 107, 48, 88, 324, 33, 72, 209, 62, 86, 122, 39, 5, 264, 45, 44, 162, 70, 7, 35, 69, 55, 170, 61, 32, 204], [0, 0, 0, 0, 0, 0, 0, 0, 0, 0, 0, 0, 0, 0, 0, 0, 0, 0, 0, 0, 0, 0, 0, 0, 0, 0, 0, 0, 0, 0, 0, 0, 0, 0, 0, 1, 0, 0, 0, 0, 0, 0, 0, 0, 0, 1, 0, 0, 0, 0, 0, 0, 0, 0, 0, 0, 0, 0, 0, 0, 0, 0, 0, 0, 0, 0, 0, 0, 0, 0, 0, 0, 0, 0, 0, 0, 0, 0, 0, 0, 0, 0, 0, 0, 0, 0, 0, 0, 0, 0, 0, 0, 0, 0, 0, 0, 0, 0, 0, 0, 0, 0, 43, 73, 317, 69, 12, 133, 65, 5, 324, 64, 26, 35, 43, 58, 267, 49, 75, 139, 59, 44, 11, 49, 45, 65, 54, 41, 93, 37, 47, 345, 42, 54, 116, 41, 34, 266, 44, 69, 124, 64, 6, 243, 40, 15, 8, 68, 66, 94], [0, 0, 0, 0, 0, 0, 0, 0, 0, 0, 0, 0, 0, 0, 0, 0, 0, 0, 0, 0, 0, 0, 0, 0, 0, 0, 0, 0, 0, 0, 0, 0, 0, 0, 0, 0, 0, 0, 0, 0, 0, 0, 0, 0, 0, 0, 0, 0, 0, 0, 0, 0, 0, 0, 0, 0, 0, 0, 0, 0, 0, 0, 0, 0, 0, 0, 0, 0, 1, 0, 0, 0, 0, 0, 0, 0, 0, 0, 0, 0, 0, 0, 0, 0, 0, 0, 0, 0, 0, 0, 0, 0, 0, 0, 0, 0, 0, 0, 0, 0, 0, 0, 33, 4, 122, 51, 58, 292, 68, 66, 48, 36, 62, 293, 68, 87, 95, 38, 80, 75, 33, 71, 318, 44, 8, 153, 53, 49, 324, 42, 36, 93, 37, 43, 319, 41, 8, 55, 50, 85, 143, 44, 4, 193, 37, 20, 163, 57, 71, 112], [0, 0, 0, 0, 0, 0, 0, 0, 0, 0, 0, 0, 0, 0, 0, 0, 0, 0, 0, 0, 0, 0, 0, 1, 0, 0, 0, 0, 0, 0, 1, 1, 0, 0, 0, 0, 0, 0, 0, 0, 0, 0, 0, 0, 0, 0, 0, 0, 0, 0, 0, 0, 0, 0, 0, 0, 0, 0, 1, 0, 0, 0, 0, 0, 0, 0, 0, 0, 0, 0, 0, 0, 0, 0, 0, 1, 0, 0, 0, 0, 0, 0, 0, 0, 0, 0, 0, 0, 0, 0, 0, 0, 0, 0, 0, 0, 0, 0, 0, 0, 0, 0, 71, 10, 259, 48, 75, 194, 43, 61, 194, 45, 25, 288, 39, 6, 252, 35, 56, 180, 34, 82, 2, 66, 71, 323, 52, 58, 21, 65, 58, 306, 69, 23, 186, 53, 77, 317, 46, 72, 311, 51, 5, 78, 63, 44, 338, 64, 58, 225], [0, 0, 0, 0, 0, 0, 0, 0, 0, 0, 0, 0, 0, 0, 0, 0, 0, 0, 0, 0, 0, 0, 0, 0, 0, 0, 0, 0, 1, 0, 0, 0, 0, 0, 0, 0, 0, 0, 1, 0, 0, 0, 0, 0, 0, 0, 0, 0, 0, 0, 0, 0, 0, 0, 0, 0, 0, 0, 0, 0, 0, 1, 0, 0, 0, 0, 0, 0, 0, 0, 0, 0, 0, 0, 0, 0, 0, 0, 0, 0, 0, 0, 1, 0, 0, 0, 0, 0, 0, 0, 0, 0, 0, 0, 0, 0, 0, 0, 0, 0, 0, 1, 48, 46, 11, 45, 7, 329, 46, 53, 290, 71, 59, 6, 50, 27, 322, 32, 2, 33, 68, 81, 247, 51, 84, 132, 40, 38, 152, 52, 0, 140, 51, 81, 146, 51, 83, 330, 42, 50, 337, 40, 2, 164, 71, 51, 197, 36, 37, 80], [0, 0, 0, 0, 0, 0, 0, 0, 0, 0, 0, 0, 0, 0, 0, 0, 0, 0, 0, 0, 1, 0, 0, 0, 0, 0, 0, 0, 0, 0, 0, 0, 0, 0, 0, 0, 1, 1, 0, 0, 0, 0, 0, 0, 0, 0, 0, 0, 0, 0, 0, 0, 0, 0, 1, 0, 0, 0, 0, 0, 0, 0, 0, 0, 0, 0, 0, 0, 0, 0, 0, 0, 0, 0, 0, 0, 0, 0, 0, 0, 0, 0, 0, 0, 0, 0, 0, 0, 0, 0, 0, 0, 0, 0, 1, 0, 1, 0, 0, 0, 0, 0, 46, 14, 23, 42, 13, 355, 58, 22, 10, 37, 15, 103, 50, 11, 330, 67, 40, 360, 47, 18, 217, 57, 39, 217, 68, 8, 250, 69, 82, 176, 47, 77, 18, 48, 47, 14, 32, 8, 145, 35, 88, 214, 60, 90, 226, 68, 51, 143], [0, 0, 0, 0, 0, 0, 0, 0, 0, 0, 0, 0, 0, 0, 0, 0, 0, 0, 0, 0, 0, 0, 0, 0, 0, 0, 0, 0, 0, 0, 0, 0, 0, 0, 0, 0, 0, 0, 0, 0, 0, 0, 0, 0, 0, 0, 0, 0, 0, 0, 0, 0, 0, 0, 0, 0, 0, 0, 0, 0, 0, 0, 0, 0, 0, 0, 0, 0, 0, 0, 0, 0, 0, 1, 0, 0, 0, 0, 0, 0, 0, 0, 0, 0, 0, 0, 0, 0, 0, 0, 0, 0, 0, 0, 0, 0, 0, 0, 0, 0, 0, 0, 63, 73, 333, 38, 9, 211, 48, 2, 116, 47, 1, 22, 60, 4, 338, 46, 67, 307, 54, 80, 235, 56, 2, 30, 57, 82, 200, 36, 77, 76, 64, 45, 337, 41, 22, 28, 53, 12, 356, 53, 86, 286, 41, 4, 213, 54, 68, 198], [0, 0, 0, 0, 0, 0, 0, 0, 0, 0, 0, 0, 0, 0, 0, 0, 0, 0, 0, 0, 0, 0, 0, 0, 0, 0, 0, 1, 0, 0, 0, 0, 0, 0, 0, 0, 0, 0, 0, 0, 0, 0, 0, 1, 0, 0, 0, 0, 0, 0, 0, 0, 0, 0, 0, 0, 0, 0, 0, 0, 0, 0, 0, 0, 0, 0, 0, 0, 0, 0, 0, 0, 0, 0, 0, 0, 0, 0, 0, 0, 0, 0, 0, 0, 0, 0, 0, 0, 0, 0, 0, 0, 0, 0, 0, 0, 0, 0, 0, 0, 0, 0, 46, 81, 286, 37, 21, 238, 39, 18, 329, 72, 5, 49, 53, 68, 96, 53, 48, 246, 41, 32, 249, 46, 10, 251, 52, 65, 297, 65, 64, 242, 33, 27, 58, 51, 2, 194, 68, 25, 207, 37, 76, 192, 53, 81, 202, 61, 49, 212], [0, 0, 0, 0, 0, 0, 0, 0, 0, 0, 0, 0, 0, 0, 0, 0, 0, 0, 0, 0, 0, 0, 0, 0, 0, 0, 0, 0, 0, 0, 0, 0, 0, 0, 0, 0, 0, 0, 0, 0, 0, 0, 0, 0, 0, 0, 0, 0, 0, 0, 0, 0, 0, 0, 0, 0, 0, 0, 0, 0, 0, 0, 0, 0, 0, 0, 0, 0, 0, 0, 0, 0, 0, 0, 0, 0, 0, 0, 0, 0, 0, 0, 0, 0, 0, 0, 0, 0, 0, 1, 0, 0, 0, 0, 0, 0, 0, 0, 0, 0, 0, 0, 46, 27, 23, 59, 18, 270, 43, 27, 174, 50, 81, 223, 69, 17, 316, 72, 11, 114, 63, 28, 253, 64, 34, 30, 34, 83, 126, 70, 44, 342, 52, 90, 317, 44, 73, 242, 40, 60, 48, 55, 33, 230, 35, 47, 33, 57, 29, 230], [0, 0, 0, 0, 0, 0, 0, 0, 0, 0, 1, 0, 0, 0, 0, 0, 0, 0, 0, 0, 0, 0, 0, 0, 0, 0, 0, 0, 0, 0, 0, 0, 0, 0, 0, 0, 0, 0, 0, 0, 0, 0, 0, 0, 0, 0, 0, 0, 0, 0, 0, 1, 1, 0, 0, 0, 0, 1, 0, 0, 0, 0, 0, 0, 0, 0, 0, 0, 0, 0, 0, 0, 0, 0, 0, 0, 0, 0, 0, 0, 0, 0, 0, 0, 0, 0, 0, 0, 0, 0, 0, 0, 0, 0, 0, 0, 0, 0, 0, 0, 0, 0, 55, 77, 56, 36, 81, 170, 37, 16, 233, 64, 35, 80, 38, 59, 11, 66, 39, 106, 36, 87, 184, 58, 17, 174, 61, 16, 252, 51, 5, 310, 35, 7, 292, 67, 3, 250, 58, 83, 270, 53, 12, 355, 42, 58, 3, 63, 5, 246], [0, 0, 0, 0, 0, 0, 0, 0, 0, 0, 0, 0, 0, 0, 0, 0, 0, 0, 0, 0, 0, 0, 0, 0, 0, 0, 0, 0, 0, 0, 0, 0, 1, 0, 0, 0, 0, 0, 0, 0, 0, 0, 0, 0, 0, 0, 0, 0, 0, 0, 0, 0, 0, 1, 0, 0, 0, 0, 0, 0, 0, 0, 0, 0, 0, 0, 0, 0, 0, 0, 0, 0, 0, 0, 0, 0, 0, 0, 0, 0, 0, 0, 1, 0, 1, 0, 0, 0, 0, 0, 0, 0, 0, 0, 0, 0, 0, 0, 0, 0, 0, 0, 65, 90, 267, 64, 31, 171, 59, 80, 58, 57, 30, 182, 72, 7, 320, 55, 34, 188, 49, 24, 24, 65, 31, 2, 62, 17, 246, 71, 24, 18, 53, 13, 53, 33, 38, 171, 40, 23, 150, 65, 8, 256, 50, 53, 350, 66, 76, 298], [0, 0, 0, 0, 0, 0, 0, 0, 0, 0, 0, 0, 0, 0, 0, 0, 0, 0, 0, 0, 0, 0, 0, 0, 0, 0, 0, 0, 0, 0, 0, 0, 0, 0, 0, 0, 0, 0, 0, 0, 0, 0, 0, 0, 0, 1, 0, 0, 0, 0, 0, 0, 0, 0, 0, 0, 0, 0, 0, 0, 0, 0, 0, 0, 0, 0, 0, 0, 0, 0, 0, 0, 0, 0, 0, 0, 0, 0, 0, 0, 0, 0, 0, 0, 0, 0, 0, 0, 0, 0, 0, 0, 0, 0, 0, 0, 0, 0, 0, 0, 0, 0, 67, 0, 234, 67, 3, 239, 66, 43, 249, 49, 61, 254, 58, 61, 111, 49, 8, 79, 54, 3, 77, 38, 52, 144, 66, 81, 288, 43, 86, 34, 33, 0, 302, 41, 68, 185, 56, 3, 349, 41, 31, 196, 71, 33, 211, 60, 84, 227], [0, 0, 0, 0, 0, 0, 0, 1, 0, 0, 0, 0, 0, 0, 0, 0, 0, 0, 0, 0, 0, 0, 0, 0, 0, 0, 0, 0, 0, 0, 0, 0, 0, 0, 0, 0, 0, 0, 0, 0, 0, 0, 0, 0, 0, 0, 0, 0, 0, 0, 0, 0, 0, 0, 0, 0, 0, 0, 0, 0, 1, 0, 0, 0, 1, 0, 0, 0, 0, 0, 0, 0, 0, 0, 0, 0, 0, 0, 0, 0, 0, 0, 1, 0, 0, 0, 0, 0, 0, 0, 0, 0, 0, 0, 0, 0, 0, 0, 0, 0, 0, 0, 62, 61, 88, 54, 25, 114, 41, 71, 267, 49, 38, 355, 57, 46, 94, 72, 29, 58, 44, 64, 47, 65, 80, 351, 47, 10, 193, 54, 83, 19, 59, 38, 11, 61, 58, 233, 51, 34, 74, 62, 16, 37, 65, 74, 177, 36, 39, 58], [0, 0, 0, 0, 0, 0, 0, 0, 0, 0, 0, 0, 0, 0, 0, 0, 0, 0, 1, 0, 0, 0, 0, 0, 0, 0, 0, 0, 0, 0, 0, 0, 0, 0, 0, 0, 0, 0, 0, 0, 0, 0, 0, 0, 0, 0, 0, 0, 0, 0, 0, 0, 0, 0, 1, 0, 0, 0, 0, 0, 0, 0, 0, 0, 0, 0, 1, 1, 0, 0, 0, 0, 0, 0, 0, 1, 0, 0, 1, 0, 0, 0, 0, 0, 0, 0, 0, 0, 0, 0, 0, 0, 0, 0, 0, 0, 0, 0, 0, 0, 0, 0, 39, 90, 9, 66, 10, 309, 47, 90, 247, 72, 84, 94, 37, 16, 142, 71, 7, 28, 72, 48, 329, 51, 86, 250, 69, 83, 52, 39, 77, 229, 63, 19, 41, 65, 3, 286, 59, 56, 292, 37, 58, 352, 47, 72, 95, 68, 18, 1], [0, 0, 0, 0, 0, 0, 0, 0, 0, 0, 0, 0, 0, 0, 0, 0, 0, 0, 0, 0, 0, 0, 1, 0, 0, 0, 0, 0, 0, 0, 0, 0, 0, 0, 0, 0, 0, 0, 0, 0, 0, 0, 0, 0, 0, 0, 0, 0, 0, 1, 0, 0, 0, 0, 0, 0, 0, 0, 0, 0, 0, 0, 0, 0, 0, 0, 0, 0, 0, 0, 0, 0, 0, 0, 0, 0, 0, 0, 0, 0, 0, 0, 0, 0, 0, 0, 0, 0, 0, 0, 0, 0, 0, 0, 0, 0, 1, 0, 0, 0, 0, 0, 61, 6, 263, 72, 21, 10, 52, 53, 358, 62, 64, 214, 50, 0, 133, 34, 68, 87, 51, 9, 107, 70, 67, 198, 57, 2, 329, 61, 33, 293, 59, 14, 76, 67, 82, 277, 48, 37, 89, 39, 27, 297, 42, 10, 31, 70, 86, 254], [0, 0, 0, 0, 0, 0, 0, 0, 0, 1, 0, 1, 0, 0, 0, 0, 0, 0, 0, 0, 0, 0, 0, 0, 0, 0, 0, 0, 0, 0, 0, 0, 0, 0, 0, 0, 0, 0, 0, 0, 0, 0, 0, 0, 0, 1, 0, 0, 0, 0, 0, 0, 0, 0, 0, 0, 0, 0, 0, 0, 0, 0, 0, 0, 0, 0, 0, 0, 0, 0, 1, 0, 0, 0, 0, 0, 0, 0, 0, 0, 0, 1, 0, 0, 0, 0, 0, 0, 0, 0, 0, 0, 0, 0, 0, 0, 0, 0, 0, 0, 0, 0, 47, 60, 225, 52, 60, 139, 52, 7, 84, 40, 26, 297, 37, 18, 94, 61, 63, 160, 43, 48, 96, 53, 63, 40, 32, 86, 53, 64, 9, 161, 68, 8, 92, 47, 14, 327, 67, 53, 85, 47, 30, 7, 70, 52, 355, 43, 13, 52], [0, 0, 0, 0, 0, 0, 0, 0, 0, 0, 0, 0, 0, 0, 0, 0, 0, 0, 0, 0, 0, 0, 1, 0, 0, 0, 0, 0, 0, 1, 0, 0, 0, 0, 0, 0, 0, 0, 0, 0, 0, 0, 0, 0, 0, 0, 0, 0, 0, 1, 0, 0, 0, 0, 0, 0, 0, 0, 0, 1, 0, 0, 0, 0, 0, 0, 0, 0, 0, 0, 0, 0, 0, 0, 0, 0, 0, 0, 0, 0, 0, 0, 0, 0, 0, 0, 0, 0, 0, 0, 0, 0, 0, 0, 0, 0, 0, 1, 0, 0, 0, 0, 54, 33, 66, 40, 85, 129, 65, 7, 196, 56, 88, 280, 34, 71, 101, 56, 16, 234, 61, 49, 273, 43, 16, 219, 72, 54, 19, 69, 21, 232, 70, 64, 77, 71, 57, 98, 42, 58, 88, 42, 0, 270, 71, 44, 228, 51, 41, 65], [0, 0, 0, 0, 0, 0, 0, 0, 0, 0, 0, 1, 0, 0, 0, 0, 0, 0, 0, 0, 0, 0, 0, 0, 0, 0, 0, 0, 0, 0, 0, 0, 0, 0, 0, 0, 0, 0, 0, 0, 0, 0, 0, 0, 0, 0, 0, 0, 0, 0, 0, 0, 0, 0, 0, 0, 0, 0, 0, 0, 0, 0, 0, 0, 0, 0, 0, 0, 0, 0, 0, 0, 0, 0, 0, 0, 0, 0, 0, 0, 0, 0, 0, 0, 0, 0, 0, 0, 0, 0, 0, 0, 0, 0, 0, 0, 0, 0, 0, 0, 0, 0, 34, 74, 32, 48, 66, 239, 59, 9, 118, 37, 3, 251, 44, 8, 140, 47, 71, 247, 35, 7, 115, 38, 31, 117, 35, 51, 176, 39, 79, 240, 43, 11, 187, 59, 45, 231, 41, 42, 78, 34, 81, 273, 34, 58, 142, 64, 52, 105], [0, 0, 0, 0, 0, 0, 0, 0, 0, 0, 0, 0, 0, 0, 0, 0, 0, 0, 0, 0, 0, 0, 0, 0, 0, 0, 0, 0, 0, 0, 0, 0, 0, 0, 0, 0, 0, 0, 0, 0, 0, 0, 0, 0, 0, 0, 0, 0, 0, 0, 0, 0, 1, 0, 0, 0, 0, 0, 0, 0, 0, 0, 0, 0, 0, 0, 0, 0, 0, 0, 0, 0, 0, 0, 0, 0, 0, 0, 0, 0, 1, 0, 0, 0, 0, 0, 0, 0, 0, 0, 0, 0, 0, 0, 0, 0, 0, 0, 0, 0, 0, 0, 33, 36, 182, 71, 4, 112, 58, 68, 142, 59, 36, 34, 66, 63, 62, 55, 62, 339, 46, 86, 135, 55, 45, 74, 59, 32, 146, 47, 24, 331, 42, 71, 177, 67, 12, 141, 37, 58, 15, 34, 76, 282, 38, 42, 128, 68, 23, 322], [0, 0, 0, 0, 0, 0, 0, 0, 0, 0, 0, 0, 0, 0, 0, 0, 0, 0, 0, 0, 0, 0, 0, 0, 0, 0, 0, 0, 0, 0, 0, 0, 0, 0, 0, 0, 0, 0, 0, 0, 0, 0, 0, 0, 0, 0, 0, 1, 0, 0, 0, 0, 0, 0, 0, 0, 0, 0, 0, 0, 0, 0, 0, 0, 0, 0, 0, 0, 0, 0, 0, 0, 0, 0, 0, 0, 0, 0, 0, 0, 0, 0, 0, 0, 0, 0, 0, 0, 0, 0, 0, 0, 0, 0, 0, 0, 0, 0, 0, 0, 0, 0, 46, 69, 169, 64, 58, 218, 34, 58, 192, 66, 16, 294, 50, 56, 228, 54, 3, 319, 57, 69, 308, 46, 86, 129, 37, 87, 195, 68, 33, 35, 49, 37, 228, 69, 26, 322, 42, 13, 337, 56, 19, 26, 33, 14, 155, 55, 67, 120], [0, 1, 0, 0, 0, 0, 0, 0, 0, 0, 0, 0, 0, 0, 0, 0, 0, 0, 0, 0, 0, 0, 0, 0, 0, 0, 0, 0, 0, 0, 0, 0, 0, 0, 0, 0, 0, 0, 0, 0, 0, 0, 0, 0, 0, 0, 1, 1, 0, 0, 0, 0, 0, 0, 0, 0, 0, 0, 0, 0, 0, 0, 0, 0, 0, 0, 0, 0, 0, 0, 0, 0, 0, 0, 0, 0, 0, 0, 0, 0, 0, 0, 0, 0, 1, 0, 0, 0, 0, 1, 0, 0, 0, 0, 0, 0, 0, 0, 0, 0, 0, 0, 35, 67, 207, 66, 76, 7, 51, 78, 14, 50, 63, 237, 55, 83, 179, 40, 42, 296, 59, 83, 231, 69, 7, 185, 52, 30, 182, 38, 31, 165, 47, 8, 188, 39, 26, 21, 49, 30, 360, 44, 66, 92, 46, 2, 246, 60, 78, 205], [0, 0, 0, 0, 0, 0, 0, 0, 0, 0, 0, 0, 0, 0, 0, 0, 0, 0, 0, 0, 0, 0, 0, 0, 0, 0, 0, 0, 1, 1, 0, 0, 0, 1, 0, 0, 0, 0, 0, 0, 0, 0, 0, 0, 0, 0, 0, 0, 0, 0, 0, 0, 0, 0, 0, 0, 0, 0, 0, 0, 1, 0, 0, 0, 0, 0, 0, 0, 0, 0, 0, 0, 0, 0, 0, 0, 0, 0, 0, 0, 0, 0, 0, 0, 0, 0, 0, 0, 0, 0, 0, 0, 0, 0, 0, 0, 0, 0, 0, 0, 0, 0, 50, 32, 152, 53, 58, 72, 60, 18, 18, 47, 78, 344, 44, 1, 264, 62, 30, 161, 55, 82, 6, 58, 34, 99, 32, 19, 259, 71, 75, 288, 39, 41, 15, 55, 3, 147, 40, 33, 184, 69, 43, 113, 71, 14, 247, 44, 44, 52], [0, 0, 0, 0, 0, 0, 0, 0, 1, 0, 0, 0, 0, 0, 0, 0, 0, 0, 0, 1, 0, 0, 0, 0, 0, 0, 0, 0, 0, 0, 0, 0, 0, 0, 0, 0, 0, 0, 0, 0, 0, 0, 0, 0, 0, 0, 0, 0, 0, 0, 0, 0, 0, 0, 0, 0, 0, 0, 0, 0, 0, 0, 0, 0, 0, 0, 0, 0, 0, 1, 0, 0, 1, 0, 0, 0, 0, 0, 0, 0, 0, 0, 0, 0, 0, 0, 0, 0, 0, 0, 0, 0, 1, 0, 0, 0, 0, 0, 0, 0, 0, 0, 70, 37, 239, 66, 19, 133, 68, 30, 140, 62, 88, 190, 32, 13, 182, 71, 3, 319, 34, 63, 39, 67, 55, 189, 45, 54, 238, 41, 43, 193, 64, 50, 311, 58, 86, 257, 55, 56, 298, 70, 23, 95, 38, 70, 33, 36, 76, 45], [0, 0, 0, 0, 0, 0, 0, 0, 0, 0, 0, 0, 0, 0, 0, 0, 0, 0, 0, 0, 0, 0, 0, 0, 0, 0, 0, 0, 0, 1, 0, 0, 0, 0, 0, 0, 0, 0, 0, 0, 0, 0, 0, 0, 0, 0, 0, 0, 0, 0, 0, 0, 0, 0, 0, 0, 0, 0, 0, 0, 0, 0, 0, 0, 0, 0, 0, 0, 0, 0, 0, 0, 0, 0, 1, 0, 0, 0, 1, 0, 0, 0, 0, 0, 0, 0, 0, 0, 0, 0, 0, 0, 0, 0, 0, 0, 0, 0, 0, 0, 0, 0, 48, 14, 315, 61, 78, 131, 37, 8, 232, 42, 15, 315, 45, 10, 0, 59, 33, 105, 42, 6, 178, 61, 53, 4, 40, 30, 117, 39, 74, 300, 50, 1, 41, 54, 14, 8, 32, 65, 308, 71, 31, 204, 51, 57, 56, 41, 34, 341], [0, 0, 0, 0, 0, 0, 0, 1, 0, 0, 0, 0, 0, 0, 0, 0, 0, 0, 0, 0, 0, 0, 0, 0, 0, 0, 0, 0, 0, 0, 0, 0, 0, 0, 0, 0, 0, 0, 0, 0, 0, 0, 0, 0, 0, 0, 0, 0, 0, 0, 0, 0, 0, 0, 0, 0, 0, 0, 0, 0, 0, 0, 0, 0, 0, 0, 0, 0, 0, 0, 0, 0, 0, 0, 0, 0, 0, 0, 0, 0, 0, 0, 0, 0, 0, 0, 0, 0, 0, 0, 0, 0, 0, 0, 0, 1, 0, 0, 0, 0, 0, 0, 47, 65, 118, 32, 90, 185, 56, 22, 188, 56, 85, 300, 64, 57, 150, 47, 88, 201, 66, 74, 103, 69, 34, 27, 65, 57, 36, 32, 30, 280, 55, 74, 304, 61, 87, 326, 47, 47, 167, 41, 36, 126, 69, 69, 347, 68, 38, 130], [0, 0, 0, 0, 0, 0, 0, 0, 0, 0, 0, 0, 0, 0, 0, 0, 0, 0, 0, 0, 0, 0, 0, 0, 0, 0, 0, 0, 0, 0, 0, 0, 0, 0, 0, 0, 0, 0, 0, 0, 0, 0, 0, 0, 0, 0, 0, 0, 0, 0, 0, 1, 0, 0, 0, 0, 0, 0, 0, 0, 0, 0, 0, 0, 0, 0, 0, 0, 0, 0, 0, 0, 0, 0, 0, 0, 0, 1, 0, 0, 0, 0, 0, 0, 0, 0, 0, 0, 0, 0, 0, 0, 0, 0, 0, 0, 0, 0, 0, 0, 0, 0, 39, 90, 139, 53, 68, 309, 41, 42, 103, 47, 87, 64, 46, 9, 238, 42, 69, 107, 57, 67, 72, 54, 67, 214, 67, 10, 20, 64, 10, 322, 35, 23, 199, 48, 7, 53, 56, 72, 94, 43, 51, 29, 58, 24, 184, 33, 4, 16], [1, 0, 0, 0, 0, 0, 0, 0, 0, 0, 0, 0, 0, 0, 0, 0, 0, 0, 0, 0, 0, 0, 0, 0, 0, 0, 0, 0, 0, 0, 0, 0, 0, 0, 0, 0, 0, 0, 0, 0, 0, 0, 0, 0, 0, 0, 0, 0, 0, 0, 0, 0, 0, 0, 0, 0, 0, 0, 0, 0, 0, 0, 0, 0, 0, 0, 0, 0, 0, 0, 0, 0, 0, 0, 0, 0, 1, 0, 0, 1, 1, 0, 0, 0, 0, 0, 0, 0, 0, 0, 0, 0, 1, 0, 0, 0, 0, 0, 0, 0, 0, 0, 45, 47, 234, 58, 34, 90, 68, 12, 70, 41, 69, 254, 64, 57, 196, 46, 75, 273, 34, 63, 266, 65, 50, 259, 42, 32, 339, 48, 51, 268, 72, 25, 179, 52, 5, 352, 49, 75, 143, 57, 61, 352, 70, 74, 328, 56, 76, 289]]\n"
     ]
    }
   ],
   "source": [
    "### test for 'makePopulation'\n",
    "### test successful\n",
    "\n",
    "# params\n",
    "popSize = 100\n",
    "\n",
    "l = 65\n",
    "w = 39\n",
    "maxCuts = 6\n",
    "res = 1\n",
    "\n",
    "zMin = 32\n",
    "zMax = 72\n",
    "\n",
    "tMin = 0\n",
    "tMax = 90\n",
    "\n",
    "aMin = 0\n",
    "aMax = 360\n",
    "\n",
    "print(makePopulation(popSize, l, w, maxCuts, zMin, zMax, tMin, tMax, aMin, aMax, res=1))"
   ]
  },
  {
   "cell_type": "code",
   "execution_count": 24,
   "metadata": {
    "colab": {},
    "colab_type": "code",
    "id": "0UYSscD4658U"
   },
   "outputs": [],
   "source": [
    "def getFaceList(individ, l, w, res=1):\n",
    "    \"\"\"\n",
    "    GETS LIST OF FACES AND MEASUREMENTS/AREAS\n",
    "    inputs- individ - list of ints - an individual\n",
    "            l- int - length of the initial solar panel\n",
    "            w- int - width of the initial solar panel\n",
    "            res- int - resolution of the cut. i.e. the cut will happen every 'res' inches\n",
    "    output- a list of tuples where each tuple has 3 ints representing the info for each face. \n",
    "            The ints are the length, width, and area of the face. The whole list contains all of the faces\n",
    "    \"\"\"\n",
    "    bitStringLen = int(round(((l-1)+(w-1)/res)))\n",
    "    aBitString = individ[:bitStringLen]\n",
    "    print(aBitString)\n",
    "    faceList = getFaceListBitString(l, w, aBitString, res=1)\n",
    "    \n",
    "    return faceList"
   ]
  },
  {
   "cell_type": "code",
   "execution_count": 25,
   "metadata": {
    "colab": {
     "base_uri": "https://localhost:8080/",
     "height": 72
    },
    "colab_type": "code",
    "executionInfo": {
     "elapsed": 305,
     "status": "ok",
     "timestamp": 1543015262038,
     "user": {
      "displayName": "Brij Rokad",
      "photoUrl": "https://lh5.googleusercontent.com/-N6QdUUqxwPo/AAAAAAAAAAI/AAAAAAAACQ4/E7ejTCey7Qs/s64/photo.jpg",
      "userId": "07134477967020150172"
     },
     "user_tz": 300
    },
    "id": "8AIoEgZ7658b",
    "outputId": "32e5904d-70db-43a0-b47e-108b6f5168a3"
   },
   "outputs": [
    {
     "name": "stdout",
     "output_type": "stream",
     "text": [
      "[0, 0, 0, 0, 0, 0, 0, 0, 0, 0, 0, 1, 0, 0, 0, 0, 0, 0, 0, 1, 0, 0, 0, 0, 0, 0, 0, 0, 0, 0, 0, 0, 0, 0, 1, 0, 0, 0, 0, 0, 0, 0, 0, 0, 0, 0, 0, 0, 0, 0, 0, 0, 0, 0, 0, 0, 0, 1, 0, 0, 0, 0, 1, 0, 0, 0, 1, 0, 0, 0, 0, 0, 0, 0, 0, 0, 0, 0, 0, 0, 0, 0, 0, 0, 0, 0, 0, 0, 0, 0, 0, 0, 0, 0, 0, 0, 0, 0, 0, 0, 0, 0, 64, 80, 214, 55, 78, 316, 36, 2, 107, 64, 5, 271, 37, 27, 12, 36, 64, 186, 59, 23, 247, 68, 6, 133, 49, 26, 150, 45, 41, 200, 39, 30, 41, 69, 22, 201, 35, 72, 125, 44, 59, 302, 44, 3, 54, 57, 36, 146]\n",
      "[0, 0, 0, 0, 0, 0, 0, 0, 0, 0, 0, 1, 0, 0, 0, 0, 0, 0, 0, 1, 0, 0, 0, 0, 0, 0, 0, 0, 0, 0, 0, 0, 0, 0, 1, 0, 0, 0, 0, 0, 0, 0, 0, 0, 0, 0, 0, 0, 0, 0, 0, 0, 0, 0, 0, 0, 0, 1, 0, 0, 0, 0, 1, 0, 0, 0, 1, 0, 0, 0, 0, 0, 0, 0, 0, 0, 0, 0, 0, 0, 0, 0, 0, 0, 0, 0, 0, 0, 0, 0, 0, 0, 0, 0, 0, 0, 0, 0, 0, 0, 0, 0]\n"
     ]
    },
    {
     "data": {
      "text/plain": [
       "[(12, 3, 36),\n",
       " (12, 36, 432),\n",
       " (8, 3, 24),\n",
       " (8, 36, 288),\n",
       " (15, 3, 45),\n",
       " (15, 36, 540),\n",
       " (23, 3, 69),\n",
       " (23, 36, 828),\n",
       " (5, 3, 15),\n",
       " (5, 36, 180),\n",
       " (2, 3, 6),\n",
       " (2, 36, 72)]"
      ]
     },
     "execution_count": 25,
     "metadata": {},
     "output_type": "execute_result"
    }
   ],
   "source": [
    "### test for 'getFaceList'\n",
    "# params\n",
    "l = 65\n",
    "w = 39\n",
    "maxCuts = 6\n",
    "res = 1\n",
    "\n",
    "zMin = 32\n",
    "zMax = 72\n",
    "\n",
    "tMin = 0\n",
    "tMax = 90\n",
    "\n",
    "aMin = 0\n",
    "aMax = 360\n",
    "\n",
    "individ1 = makeIndividual(l, w, maxCuts, zMin, zMax, tMin, tMax, aMin, aMax, res=1)\n",
    "print(individ1)\n",
    "getFaceList(individ1, l, w, res=1)"
   ]
  },
  {
   "cell_type": "code",
   "execution_count": 23,
   "metadata": {},
   "outputs": [],
   "source": [
    "from pvlib import modelchain as mc\n",
    "from pvlib import pvsystem"
   ]
  },
  {
   "cell_type": "code",
   "execution_count": null,
   "metadata": {},
   "outputs": [],
   "source": [
    "def getFitness(individ, l, w, res=1):\n",
    "    '''\n",
    "    GETS THE FITNESS OF THE INDIVIDUAL\n",
    "    inputs- individ - list of ints - an individual\n",
    "            l- int - length of the initial solar panel\n",
    "            w- int - width of the initial solar panel\n",
    "            res- int - resolution of the cut. i.e. the cut will happen every 'res' inches\n",
    "    Output- (float) the scaled fitness value for the individual\n",
    "    '''\n",
    "    \n",
    "    \n",
    "    '''\n",
    "    parameters for pvlib\n",
    "    \n",
    "    '''\n",
    "    #Athens, Ga Lat/long\n",
    "    latitude = 33.957409\n",
    "    longitude = -83.376801\n",
    "\n",
    "    #Needed paramters for the basic chain model\n",
    "    #These are constant through the whole simulation\n",
    "    cec_mod = pvsystem.retrieve_sam('SandiaMod')\n",
    "    cec_inv = pvsystem.retrieve_sam('CECInverter')\n",
    "    sapm = cec_mod['Advent_Solar_AS160___2006_']\n",
    "    cec = cec_inv['ABB__MICRO_0_3_I_OUTD_US_208_208V__CEC_2014_']\n",
    "\n",
    "    \n",
    "    FaceList = getFaceList(individ, l, w, res)\n",
    "    \n",
    "    \n",
    "    #Int to keep track of which face\n",
    "    face_pos = 0\n",
    "    for face in FaceList:\n",
    "\n",
    "\n",
    "    #Our basic chain model.\n",
    "    #Surface_tilt is our theta\n",
    "    #Surface_arimuth is our alpha\n",
    "    model = mc.basic_chain(df.index, latitude, longitude , module_parameters = sapm, inverter_parameters = cec,\n",
    "               surface_tilt=45, surface_azimuth=90)\n",
    "    #Droping the columns we dont need\n",
    "    power = model[0].drop(columns = ['i_sc','i_mp','v_oc','i_x','i_xx'])\n",
    "\n",
    "\n",
    "    a = power['2012-07'].sum(0)\n",
    "    \n",
    "\n",
    "    #v_mp is maximum voltage\n",
    "    #p_mp is maximum power\n",
    "    # 0 row is sum\n",
    "    \n",
    "    \n",
    "\n",
    "        \n",
    "        "
   ]
  }
 ],
 "metadata": {
  "colab": {
   "name": "test.ipynb",
   "provenance": [],
   "version": "0.3.2"
  },
  "kernelspec": {
   "display_name": "Python 3",
   "language": "python",
   "name": "python3"
  },
  "language_info": {
   "codemirror_mode": {
    "name": "ipython",
    "version": 3
   },
   "file_extension": ".py",
   "mimetype": "text/x-python",
   "name": "python",
   "nbconvert_exporter": "python",
   "pygments_lexer": "ipython3",
   "version": "3.7.0"
  }
 },
 "nbformat": 4,
 "nbformat_minor": 1
}
