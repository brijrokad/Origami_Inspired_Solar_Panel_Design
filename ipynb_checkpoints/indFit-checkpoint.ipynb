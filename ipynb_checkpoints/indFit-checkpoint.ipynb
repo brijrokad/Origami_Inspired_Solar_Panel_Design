{
 "cells": [
  {
   "cell_type": "code",
   "execution_count": 1,
   "metadata": {
    "colab": {
     "base_uri": "https://localhost:8080/",
     "height": 375
    },
    "colab_type": "code",
    "executionInfo": {
     "elapsed": 467,
     "status": "error",
     "timestamp": 1543860109466,
     "user": {
      "displayName": "Brij Rokad",
      "photoUrl": "https://lh5.googleusercontent.com/-N6QdUUqxwPo/AAAAAAAAAAI/AAAAAAAACQ4/E7ejTCey7Qs/s64/photo.jpg",
      "userId": "07134477967020150172"
     },
     "user_tz": 300
    },
    "id": "YedNphVbOWzQ",
    "outputId": "5cd06ce8-1895-4786-d16b-4f76e88322a8"
   },
   "outputs": [],
   "source": [
    "from pvlib import modelchain as mc\n",
    "from pvlib import pvsystem\n",
    "import pandas as pd\n",
    "import numpy as np\n",
    "\n",
    "import math\n",
    "import random"
   ]
  },
  {
   "cell_type": "code",
   "execution_count": 2,
   "metadata": {
    "colab": {},
    "colab_type": "code",
    "id": "SPScBVqLOWze"
   },
   "outputs": [],
   "source": [
    "w = 39\n",
    "l = 65\n",
    "maxCuts = 6\n",
    "zMin = 30\n",
    "zMax = 70\n",
    "tMin = 0\n",
    "tMax = 90\n",
    "aMin = 0\n",
    "aMax = 360\n",
    "res = 6"
   ]
  },
  {
   "cell_type": "markdown",
   "metadata": {
    "colab_type": "text",
    "id": "j_LZvHffOWzm"
   },
   "source": [
    "HELPER FOR MAKING AN INDIVIDUAL\n",
    "\n",
    "inputs: l- int - length of the initial solar panel\n",
    "        w- int - width of the initial solar panel\n",
    "        maxCuts- int - maximum amount of cuts on the initial solar panel\n",
    "        res- int - resolution of the cut. i.e. the cut will happen every 'res' inches\n",
    "    \n",
    "output- a list of bits where a bit represents an inch along the solar panel. the first\n",
    "        'l' bits represent vertical positions, and the next 'w' bits represent horizontal positions,\n",
    "        such that each position happens every 'res' inches."
   ]
  },
  {
   "cell_type": "code",
   "execution_count": null,
   "metadata": {
    "colab": {
     "base_uri": "https://localhost:8080/",
     "height": 340
    },
    "colab_type": "code",
    "executionInfo": {
     "elapsed": 756,
     "status": "error",
     "timestamp": 1543860109813,
     "user": {
      "displayName": "Brij Rokad",
      "photoUrl": "https://lh5.googleusercontent.com/-N6QdUUqxwPo/AAAAAAAAAAI/AAAAAAAACQ4/E7ejTCey7Qs/s64/photo.jpg",
      "userId": "07134477967020150172"
     },
     "user_tz": 300
    },
    "id": "dFM7lnmYOWzp",
    "outputId": "7e95be7b-1c73-44fa-f8bc-5a7cf11fefda"
   },
   "outputs": [],
   "source": [
    "def makeCutBitString(l, w, maxCuts, res):\n",
    "    \n",
    "    #figure out the number of the bit strings\n",
    "    numBits = int(round(((l-1)+(w-1)/res)))\n",
    "\n",
    "    #fill the list with 0's\n",
    "    bitList = [0 for i in range(numBits)]\n",
    "\n",
    "    #get the number of cuts\n",
    "    numCuts = random.randint(1, maxCuts)\n",
    "\n",
    "    #Lets put in the 1's that represent the cuts\n",
    "    for i in range(numCuts):\n",
    "        val = random.randint(0,numBits-1)\n",
    "\n",
    "        #make sure that it doesn't replace a value in bitstring which is already a 1\n",
    "        while bitList[val] == 1:\n",
    "            val = random.randint(0,numBits)\n",
    "\n",
    "        #replace the appropriate 0 with a 1\n",
    "        bitList[val] = 1\n",
    "        \n",
    "    #return final bitstring\n",
    "    return bitList\n",
    "\n",
    "cbs = makeCutBitString(l,w,maxCuts, res)\n",
    "print(\"Cut Bit String: \", cbs)"
   ]
  },
  {
   "cell_type": "markdown",
   "metadata": {
    "colab_type": "text",
    "id": "fWMpNsBrOWz1"
   },
   "source": [
    "HELPER FOR FINDING FACES\n",
    "\n",
    "inputs: l- int - length of the initial solar panel\n",
    "        w- int - width of the initial solar panel\n",
    "        aBitString- a list of bits - with a length equal to (l+w)/res\n",
    "        res- int - resolution of the cut. i.e. the cut will happen every 'res' inches\n",
    "    \n",
    "output: a list of tuples where each tuple has 3 ints representing the info for each face. \n",
    "        The ints are the length, width, and area of the face. The whole list contains all of the faces"
   ]
  },
  {
   "cell_type": "code",
   "execution_count": null,
   "metadata": {
    "colab": {},
    "colab_type": "code",
    "id": "L66sHAiUOWz4"
   },
   "outputs": [],
   "source": [
    "def getFaceListBitString(l, w, aBitString, res):\n",
    "    \n",
    "    # error check\n",
    "    if len(aBitString) != int(round(((l-1)+(w-1)/res))):\n",
    "        return \"ERROR: the 'l' and 'w' parameters do not correspond to the given bit string\"\n",
    "    \n",
    "    # get the total number of bits\n",
    "    numBits = len(aBitString)\n",
    "\n",
    "    # make bit strings that represent just the length and the width of the solar panel respectively\n",
    "    lenBitString = aBitString[0:l-1]\n",
    "    widBitString = aBitString[l-1:]\n",
    "    \n",
    "    # initialize list of faces\n",
    "    faceList = []\n",
    "\n",
    "    ## get list of the positions where a cut will happen\n",
    "    # vertical cuts\n",
    "    vCuts = [i+1 for i in range(len(lenBitString)) if lenBitString[i] == 1]\n",
    "    # horizontal cuts\n",
    "    hCuts = [i+1 for i in range(len(widBitString)) if widBitString[i] == 1]\n",
    "\n",
    "    ## initialize some variables\n",
    "    vLow = 0\n",
    "    vHigh = l\n",
    "    hLow = 0\n",
    "    hHigh = w\n",
    "\n",
    "    # make lists storing at what inches chuts are being made\n",
    "    vCuts = [0] + vCuts + [l]\n",
    "    hCuts = [0] + hCuts + [w]\n",
    "\n",
    "    # initalize some vars\n",
    "    lengths = []\n",
    "    widths = []\n",
    "\n",
    "    # fill 'lengths' with the length of each face\n",
    "    for i in range(len(vCuts)-1):\n",
    "        vLow = vCuts[0]\n",
    "        vHigh = vCuts[1]\n",
    "        length = vHigh - vLow\n",
    "        lengths.append(length)\n",
    "\n",
    "        # update vCuts\n",
    "        vCuts = vCuts[1:]\n",
    "\n",
    "    # fill 'widths' with the width of each face\n",
    "    for i in range(len(hCuts)-1):\n",
    "        hLow = hCuts[0]\n",
    "        hHigh = hCuts[1]\n",
    "        width = hHigh - hLow\n",
    "        widths.append(width)\n",
    "\n",
    "        # update vCuts\n",
    "        hCuts = hCuts[1:]\n",
    "\n",
    "    ## fill faceList with areas\n",
    "    #for every length\n",
    "    for i in range(len(lengths)):\n",
    "        length = lengths[i]\n",
    "        # for every width\n",
    "        for j in range(len(widths)):\n",
    "            width = widths[j]\n",
    "            area = length*width\n",
    "            faceList.append(area) # Only getting Area \n",
    "\n",
    "    return faceList\n",
    "\n",
    "fbs = getFaceListBitString(l, w, cbs, res)\n",
    "print(\"Face List:\", fbs)"
   ]
  },
  {
   "cell_type": "markdown",
   "metadata": {
    "colab_type": "text",
    "id": "AmDyWB0tOW0A"
   },
   "source": [
    "MAKES AN INDIVIDUAL\n",
    "\n",
    "inputs: l- int - length of the initial solar panel\n",
    "        w- int - width of the initial solar panel\n",
    "        maxCuts- int - maximum amount of cuts on the initial solar panel\n",
    "        zMin - int - min possible value of z\n",
    "        zMax - int - min possible value of z\n",
    "        tMin - int - min possible value of t\n",
    "        tMax - int - min possible value of t\n",
    "        aMin - int - min possible value of a\n",
    "        aMax - int - min possible value of a\n",
    "        res- int - resolution of the cut. i.e. the cut will happen every 'res' inches\n",
    "\n",
    "output: a list of ints - individual whose first ((l-1)+(w-1))/res elements are bits representing where a cut is made\n",
    "        the other ((maxCuts/2)+1)*((maxCuts/2)+1) elements (assuming maxCuts is even) represent the z, theta, and alpha \n",
    "        values. It looks like: [bit1 bit2 bit2 ... z1, t1, a1, z2, t2, a2...]"
   ]
  },
  {
   "cell_type": "code",
   "execution_count": null,
   "metadata": {
    "colab": {},
    "colab_type": "code",
    "id": "8rYfS1fNOW0C"
   },
   "outputs": [],
   "source": [
    "def makeIndividual(l, w, maxCuts, zMin, zMax, tMin, tMax, aMin, aMax, res):\n",
    "    \n",
    "    # error check to see if maxCuts can be defined\n",
    "    if (maxCuts % 2) == 0:\n",
    "        maxFaces = ((maxCuts/2)+1)*((maxCuts/2)+1)\n",
    "    else:\n",
    "        return \"ERROR: You need to figure out how many maxFaces will result when there is an odd number of maxCuts\"\n",
    "    \n",
    "    aBitString = makeCutBitString(l, w, maxCuts, res)\n",
    "    \n",
    "    # initalize list\n",
    "    paramList = []\n",
    "    tList = []\n",
    "    aList = []\n",
    "    \n",
    "    for i in range(int(maxFaces)):\n",
    "        zVal = random.randint(zMin, zMax)\n",
    "        tVal = random.randint(tMin, tMax)\n",
    "        aVal = random.randint(aMin, aMax)\n",
    "        paramList.append(zVal)\n",
    "        paramList.append(tVal)\n",
    "        paramList.append(aVal)\n",
    "        tList.append(tVal)\n",
    "        aList.append(aVal)\n",
    "        \n",
    "    individual = aBitString + paramList\n",
    "    \n",
    "    return tList, aList\n",
    "\n",
    "tAngle, aAngle = makeIndividual(l, w, maxCuts, zMin, zMax, tMin, tMax, aMin, aMax, res)\n",
    "print(\"tAngle:\", tAngle)\n",
    "print(\"\")\n",
    "print(\"aAngle:\", aAngle)"
   ]
  },
  {
   "cell_type": "code",
   "execution_count": null,
   "metadata": {
    "colab": {},
    "colab_type": "code",
    "id": "8euTIyA8OW0L"
   },
   "outputs": [],
   "source": [
    "#DataFrame containg time and dates. I used 3 month intervales with different times each day. Can change!\n",
    "#We have it caluclating from 11Am-7Pm on August 1st.\n",
    "df = pd.DataFrame({'date': ['2012-07-01 11:00:00','2012-07-01 12:00:00',\n",
    "                            '2012-07-01 13:00:00','2012-07-01 14:00:00','2012-07-01 15:00:00','2012-07-01 16:00:00'\n",
    "                           '2012-07-01 17:00:00','2012-07-01 18:00:00','2012-07-01 19:00:00'],\n",
    "                  }).set_index('date')\n",
    "\n",
    "#Creating DatetimeIndex Object\n",
    "df.index = pd.DatetimeIndex(df.index)"
   ]
  },
  {
   "cell_type": "code",
   "execution_count": null,
   "metadata": {
    "colab": {},
    "colab_type": "code",
    "id": "lL_jX28TOW0V"
   },
   "outputs": [],
   "source": [
    "#Athens, Ga Lat/long\n",
    "latitude = 33.957409\n",
    "longitude = -83.376801\n",
    "\n",
    "#Needed paramters for the basic chain model\n",
    "#These are constant through the whole simulation\n",
    "cec_mod = pvsystem.retrieve_sam('SandiaMod')\n",
    "cec_inv = pvsystem.retrieve_sam('CECInverter')\n",
    "sapm = cec_mod['Advent_Solar_AS160___2006_']\n",
    "cec = cec_inv['ABB__MICRO_0_3_I_OUTD_US_208_208V__CEC_2014_']\n",
    "\n",
    "\n",
    "#Our basic chain model.\n",
    "#Surface_tilt is our theta\n",
    "#Surface_arimuth is our alpha\n",
    "model = mc.basic_chain(df.index, latitude, longitude , module_parameters = sapm, inverter_parameters = cec,\n",
    "               surface_tilt = 0, surface_azimuth = 0)\n",
    "#Droping the columns we dont need\n",
    "power = model[0].drop(columns = ['i_sc','i_mp','v_oc','i_x','i_xx'])\n",
    "\n",
    "\n",
    "a = power['2012-07'].append(pd.DataFrame([power['2012-07'].sum(0,1)]))\n",
    "print(a)\n",
    "\n",
    "#v_mp is maximum voltage\n",
    "#p_mp is maximum power\n",
    "# 0 row is sum"
   ]
  },
  {
   "cell_type": "code",
   "execution_count": null,
   "metadata": {
    "colab": {},
    "colab_type": "code",
    "id": "lsHVRGCmOW0n"
   },
   "outputs": [],
   "source": [
    "tArea = l*w\n",
    "\n",
    "maxVolt = []\n",
    "maxWatt = []\n",
    "\n",
    "for i,j in zip(tAngle,aAngle):\n",
    "    model = mc.basic_chain(df.index, latitude, longitude , module_parameters = sapm, inverter_parameters = cec,\n",
    "               surface_tilt = i, surface_azimuth = j)\n",
    "    #Droping the columns we dont need\n",
    "    power = model[0].drop(columns = ['i_sc','i_mp','v_oc','i_x','i_xx'])\n",
    "\n",
    "    a = power['2012-07'].append(pd.DataFrame([power['2012-07'].sum(0,1)]))\n",
    "    \n",
    "    maxVolt.append(a.iloc[-1,0])\n",
    "    maxWatt.append(a.iloc[-1,-1])\n",
    "\n",
    "print(\"Voltage of each sub-solar plate at tAngle & aAngle, before scaling\")\n",
    "print(\"\")\n",
    "print(maxVolt) \n",
    "\n",
    "print(\"\")\n",
    "\n",
    "print(\"Power of each sub-solar plate at tAngle & aAngle, before scaling\")\n",
    "print(\"\")\n",
    "print(maxWatt)"
   ]
  },
  {
   "cell_type": "code",
   "execution_count": null,
   "metadata": {
    "colab": {},
    "colab_type": "code",
    "id": "1hWWHknpOW0v"
   },
   "outputs": [],
   "source": [
    "voltageFitness = 0\n",
    "powerFitness = 0\n",
    "\n",
    "for i,j,z in zip(fbs, maxVolt, maxWatt): # fbs is Face List / face bit string\n",
    "    scalingFactor = i / tArea\n",
    "    voltageFitness = voltageFitness + (j*scalingFactor)\n",
    "    powerFitness = powerFitness + (z*scalingFactor)\n",
    "\n",
    "print(\"Fitness of entire Tree after scaling\")\n",
    "print(\"Fitness of Individual as Volt: \", voltageFitness)\n",
    "print(\"\")\n",
    "print(\"Fitness of Individual as Watt: \", powerFitness)"
   ]
  },
  {
   "cell_type": "code",
   "execution_count": null,
   "metadata": {
    "colab": {},
    "colab_type": "code",
    "id": "pX_A_th2OW03"
   },
   "outputs": [],
   "source": []
  }
 ],
 "metadata": {
  "colab": {
   "name": "indFit.ipynb",
   "provenance": [],
   "version": "0.3.2"
  },
  "kernelspec": {
   "display_name": "Python 3",
   "language": "python",
   "name": "python3"
  },
  "language_info": {
   "codemirror_mode": {
    "name": "ipython",
    "version": 3
   },
   "file_extension": ".py",
   "mimetype": "text/x-python",
   "name": "python",
   "nbconvert_exporter": "python",
   "pygments_lexer": "ipython3",
   "version": "3.7.0"
  }
 },
 "nbformat": 4,
 "nbformat_minor": 1
}
