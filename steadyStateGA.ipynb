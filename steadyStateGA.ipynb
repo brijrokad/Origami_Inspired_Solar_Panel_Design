{
 "cells": [
  {
   "cell_type": "code",
   "execution_count": 1,
   "metadata": {
    "colab": {},
    "colab_type": "code",
    "id": "kHfqUWQTf2PG"
   },
   "outputs": [],
   "source": [
    "#import API\n",
    "from solarPanelAPI_V3 import *\n",
    "import time\n",
    "import pandas as pd"
   ]
  },
  {
   "cell_type": "code",
   "execution_count": 2,
   "metadata": {
    "colab": {},
    "colab_type": "code",
    "id": "YJH1HTlbZS4v",
    "outputId": "cc744c5e-05e8-477d-acbb-536fce1cc3c3"
   },
   "outputs": [
    {
     "name": "stdout",
     "output_type": "stream",
     "text": [
      "iteration 0\n",
      "current average fitness: 530.08192838817\n",
      "  \n",
      "iteration 50\n",
      "current average fitness: 571.2745250053691\n",
      "  \n",
      "iteration 100\n",
      "current average fitness: 590.7442089344502\n",
      "  \n",
      "iteration 150\n",
      "current average fitness: 599.0560982292086\n",
      "  \n",
      "iteration 200\n",
      "current average fitness: 605.9845197099108\n",
      "  \n",
      "iteration 250\n",
      "current average fitness: 614.5135854018422\n",
      "  \n",
      "iteration 300\n",
      "current average fitness: 616.3613569043287\n",
      "  \n",
      "iteration 350\n",
      "current average fitness: 630.0227899926672\n",
      "  \n",
      "iteration 400\n",
      "current average fitness: 635.0044525734063\n",
      "  \n",
      "iteration 450\n",
      "current average fitness: 640.3268695889651\n",
      "  \n",
      "iteration 500\n",
      "current average fitness: 644.4965619084879\n",
      "  \n",
      "iteration 550\n",
      "current average fitness: 647.592217934463\n",
      "  \n"
     ]
    },
    {
     "ename": "KeyboardInterrupt",
     "evalue": "",
     "output_type": "error",
     "traceback": [
      "\u001b[0;31m---------------------------------------------------------------------------\u001b[0m",
      "\u001b[0;31mKeyboardInterrupt\u001b[0m                         Traceback (most recent call last)",
      "\u001b[0;32m<ipython-input-2-e21833e91f71>\u001b[0m in \u001b[0;36m<module>\u001b[0;34m\u001b[0m\n\u001b[1;32m     10\u001b[0m \u001b[0;34m\u001b[0m\u001b[0m\n\u001b[1;32m     11\u001b[0m \u001b[0;34m\u001b[0m\u001b[0m\n\u001b[0;32m---> 12\u001b[0;31m \u001b[0mbestDf\u001b[0m\u001b[0;34m,\u001b[0m \u001b[0mavgDf\u001b[0m \u001b[0;34m=\u001b[0m \u001b[0msteadyStateGA\u001b[0m\u001b[0;34m(\u001b[0m\u001b[0mpanelParams\u001b[0m\u001b[0;34m,\u001b[0m \u001b[0mpopSize\u001b[0m\u001b[0;34m,\u001b[0m \u001b[0mpm\u001b[0m\u001b[0;34m,\u001b[0m \u001b[0mnumMutations\u001b[0m\u001b[0;34m,\u001b[0m \u001b[0mfitnessCountLimit\u001b[0m\u001b[0;34m,\u001b[0m \u001b[0mattempts\u001b[0m\u001b[0;34m,\u001b[0m \u001b[0mcheckIteration\u001b[0m\u001b[0;34m,\u001b[0m \u001b[0mconflictDeduction\u001b[0m\u001b[0;34m)\u001b[0m\u001b[0;34m\u001b[0m\u001b[0m\n\u001b[0m",
      "\u001b[0;32m~/Google Drive/project/solarPanelAPI_V3.py\u001b[0m in \u001b[0;36msteadyStateGA\u001b[0;34m(panelParams, popSize, pm, numMutations, fitnessCountLimit, attempts, checkIteration, conflictDeduction, toPrint)\u001b[0m\n\u001b[1;32m   1112\u001b[0m             pop, fitnessList, currFitCount  = replaceWorst(pop, child1, child2, fitnessList, l, w, zMin, zMax, tMin, \n\u001b[1;32m   1113\u001b[0m                                             \u001b[0mtMax\u001b[0m\u001b[0;34m,\u001b[0m \u001b[0maMin\u001b[0m\u001b[0;34m,\u001b[0m \u001b[0maMax\u001b[0m\u001b[0;34m,\u001b[0m \u001b[0msapm\u001b[0m\u001b[0;34m,\u001b[0m \u001b[0mcec\u001b[0m\u001b[0;34m,\u001b[0m \u001b[0mdf\u001b[0m\u001b[0;34m,\u001b[0m \u001b[0mlatitude\u001b[0m\u001b[0;34m,\u001b[0m \u001b[0mlongitude\u001b[0m\u001b[0;34m,\u001b[0m \u001b[0mcurrFitCount\u001b[0m\u001b[0;34m,\u001b[0m \u001b[0mres\u001b[0m\u001b[0;34m,\u001b[0m\u001b[0;34m\u001b[0m\u001b[0m\n\u001b[0;32m-> 1114\u001b[0;31m                                             zThresh, tThresh, aThresh, conflictDeduction, optimize='max')\n\u001b[0m\u001b[1;32m   1115\u001b[0m             \u001b[0;32mif\u001b[0m \u001b[0;34m(\u001b[0m\u001b[0miteration\u001b[0m \u001b[0;34m%\u001b[0m \u001b[0mcheckIteration\u001b[0m\u001b[0;34m)\u001b[0m \u001b[0;34m==\u001b[0m \u001b[0;36m0\u001b[0m\u001b[0;34m:\u001b[0m\u001b[0;34m\u001b[0m\u001b[0m\n\u001b[1;32m   1116\u001b[0m                 \u001b[0mavgFitness\u001b[0m \u001b[0;34m=\u001b[0m \u001b[0mgetAvgPopFitness\u001b[0m\u001b[0;34m(\u001b[0m\u001b[0mfitnessList\u001b[0m\u001b[0;34m)\u001b[0m\u001b[0;34m\u001b[0m\u001b[0m\n",
      "\u001b[0;32m~/Google Drive/project/solarPanelAPI_V3.py\u001b[0m in \u001b[0;36mreplaceWorst\u001b[0;34m(population, newIndividual1, newIndividual2, fitnessPop, l, w, zMin, zMax, tMin, tMax, aMin, aMax, sapm, cec, df, latitude, longitude, currFitCount, res, zThresh, tThresh, aThresh, conflictDeduction, optimize)\u001b[0m\n\u001b[1;32m    590\u001b[0m     \u001b[0mnumConflicts2\u001b[0m \u001b[0;34m=\u001b[0m \u001b[0mconflictCount\u001b[0m\u001b[0;34m(\u001b[0m\u001b[0mnewIndividual1\u001b[0m\u001b[0;34m,\u001b[0m \u001b[0ml\u001b[0m\u001b[0;34m,\u001b[0m \u001b[0mw\u001b[0m\u001b[0;34m,\u001b[0m \u001b[0mzMin\u001b[0m\u001b[0;34m,\u001b[0m \u001b[0mzMax\u001b[0m\u001b[0;34m,\u001b[0m \u001b[0mtMin\u001b[0m\u001b[0;34m,\u001b[0m \u001b[0mtMax\u001b[0m\u001b[0;34m,\u001b[0m \u001b[0maMin\u001b[0m\u001b[0;34m,\u001b[0m \u001b[0maMax\u001b[0m\u001b[0;34m,\u001b[0m \u001b[0mres\u001b[0m\u001b[0;34m,\u001b[0m \u001b[0mzThresh\u001b[0m\u001b[0;34m,\u001b[0m \u001b[0mtThresh\u001b[0m\u001b[0;34m,\u001b[0m \u001b[0maThresh\u001b[0m\u001b[0;34m)\u001b[0m\u001b[0;34m\u001b[0m\u001b[0m\n\u001b[1;32m    591\u001b[0m     newFitness2, currFitCount = getFitness(newIndividual2, numConflicts2, l, w, sapm, cec, df, latitude, longitude, \n\u001b[0;32m--> 592\u001b[0;31m                             currFitCount, res, conflictDeduction)\n\u001b[0m\u001b[1;32m    593\u001b[0m \u001b[0;34m\u001b[0m\u001b[0m\n\u001b[1;32m    594\u001b[0m \u001b[0;34m\u001b[0m\u001b[0m\n",
      "\u001b[0;32m~/Google Drive/project/solarPanelAPI_V3.py\u001b[0m in \u001b[0;36mgetFitness\u001b[0;34m(individ, numConflicts, l, w, sapm, cec, df, latitude, longitude, currFitCount, res, conflictDeduction)\u001b[0m\n\u001b[1;32m    236\u001b[0m         \u001b[0;31m#Surface_arimuth is our alpha ==> indAngles[face_position+2]\u001b[0m\u001b[0;34m\u001b[0m\u001b[0;34m\u001b[0m\u001b[0m\n\u001b[1;32m    237\u001b[0m         model = mc.basic_chain(df.index, latitude, longitude , module_parameters = sapm, inverter_parameters = cec,\n\u001b[0;32m--> 238\u001b[0;31m                surface_tilt=indAngles[face_position+1], surface_azimuth=indAngles[face_position+2])\n\u001b[0m\u001b[1;32m    239\u001b[0m         \u001b[0;31m#Droping the columns we dont need\u001b[0m\u001b[0;34m\u001b[0m\u001b[0;34m\u001b[0m\u001b[0m\n\u001b[1;32m    240\u001b[0m         \u001b[0mpower\u001b[0m \u001b[0;34m=\u001b[0m \u001b[0mmodel\u001b[0m\u001b[0;34m[\u001b[0m\u001b[0;36m0\u001b[0m\u001b[0;34m]\u001b[0m\u001b[0;34m.\u001b[0m\u001b[0mdrop\u001b[0m\u001b[0;34m(\u001b[0m\u001b[0mcolumns\u001b[0m \u001b[0;34m=\u001b[0m \u001b[0;34m[\u001b[0m\u001b[0;34m'i_sc'\u001b[0m\u001b[0;34m,\u001b[0m\u001b[0;34m'i_mp'\u001b[0m\u001b[0;34m,\u001b[0m\u001b[0;34m'v_oc'\u001b[0m\u001b[0;34m,\u001b[0m\u001b[0;34m'i_x'\u001b[0m\u001b[0;34m,\u001b[0m\u001b[0;34m'i_xx'\u001b[0m\u001b[0;34m]\u001b[0m\u001b[0;34m)\u001b[0m\u001b[0;34m\u001b[0m\u001b[0m\n",
      "\u001b[0;32m~/anaconda3/lib/python3.7/site-packages/pvlib/modelchain.py\u001b[0m in \u001b[0;36mbasic_chain\u001b[0;34m(times, latitude, longitude, module_parameters, inverter_parameters, irradiance, weather, surface_tilt, surface_azimuth, orientation_strategy, transposition_model, solar_position_method, airmass_model, altitude, pressure, **kwargs)\u001b[0m\n\u001b[1;32m    127\u001b[0m     solar_position = solarposition.get_solarposition(\n\u001b[1;32m    128\u001b[0m         \u001b[0mtimes\u001b[0m\u001b[0;34m,\u001b[0m \u001b[0mlatitude\u001b[0m\u001b[0;34m,\u001b[0m \u001b[0mlongitude\u001b[0m\u001b[0;34m,\u001b[0m \u001b[0maltitude\u001b[0m\u001b[0;34m=\u001b[0m\u001b[0maltitude\u001b[0m\u001b[0;34m,\u001b[0m \u001b[0mpressure\u001b[0m\u001b[0;34m=\u001b[0m\u001b[0mpressure\u001b[0m\u001b[0;34m,\u001b[0m\u001b[0;34m\u001b[0m\u001b[0m\n\u001b[0;32m--> 129\u001b[0;31m         method=solar_position_method, **kwargs)\n\u001b[0m\u001b[1;32m    130\u001b[0m \u001b[0;34m\u001b[0m\u001b[0m\n\u001b[1;32m    131\u001b[0m     \u001b[0;31m# possible error with using apparent zenith with some models\u001b[0m\u001b[0;34m\u001b[0m\u001b[0;34m\u001b[0m\u001b[0m\n",
      "\u001b[0;32m~/anaconda3/lib/python3.7/site-packages/pvlib/solarposition.py\u001b[0m in \u001b[0;36mget_solarposition\u001b[0;34m(time, latitude, longitude, altitude, pressure, method, temperature, **kwargs)\u001b[0m\n\u001b[1;32m    101\u001b[0m         ephem_df = spa_python(time, latitude, longitude, altitude,\n\u001b[1;32m    102\u001b[0m                               \u001b[0mpressure\u001b[0m\u001b[0;34m,\u001b[0m \u001b[0mtemperature\u001b[0m\u001b[0;34m,\u001b[0m\u001b[0;34m\u001b[0m\u001b[0m\n\u001b[0;32m--> 103\u001b[0;31m                               how='numpy', **kwargs)\n\u001b[0m\u001b[1;32m    104\u001b[0m     \u001b[0;32melif\u001b[0m \u001b[0mmethod\u001b[0m \u001b[0;34m==\u001b[0m \u001b[0;34m'pyephem'\u001b[0m\u001b[0;34m:\u001b[0m\u001b[0;34m\u001b[0m\u001b[0m\n\u001b[1;32m    105\u001b[0m         ephem_df = pyephem(time, latitude, longitude,\n",
      "\u001b[0;32m~/anaconda3/lib/python3.7/site-packages/pvlib/solarposition.py\u001b[0m in \u001b[0;36mspa_python\u001b[0;34m(time, latitude, longitude, altitude, pressure, temperature, delta_t, atmos_refract, how, numthreads, **kwargs)\u001b[0m\n\u001b[1;32m    346\u001b[0m     \u001b[0mapp_zenith\u001b[0m\u001b[0;34m,\u001b[0m \u001b[0mzenith\u001b[0m\u001b[0;34m,\u001b[0m \u001b[0mapp_elevation\u001b[0m\u001b[0;34m,\u001b[0m \u001b[0melevation\u001b[0m\u001b[0;34m,\u001b[0m \u001b[0mazimuth\u001b[0m\u001b[0;34m,\u001b[0m \u001b[0meot\u001b[0m \u001b[0;34m=\u001b[0m\u001b[0;31m \u001b[0m\u001b[0;31m\\\u001b[0m\u001b[0;34m\u001b[0m\u001b[0m\n\u001b[1;32m    347\u001b[0m         spa.solar_position(unixtime, lat, lon, elev, pressure, temperature,\n\u001b[0;32m--> 348\u001b[0;31m                            delta_t, atmos_refract, numthreads)\n\u001b[0m\u001b[1;32m    349\u001b[0m \u001b[0;34m\u001b[0m\u001b[0m\n\u001b[1;32m    350\u001b[0m     result = pd.DataFrame({'apparent_zenith': app_zenith, 'zenith': zenith,\n",
      "\u001b[0;32m~/anaconda3/lib/python3.7/site-packages/pvlib/spa.py\u001b[0m in \u001b[0;36msolar_position\u001b[0;34m(unixtime, lat, lon, elev, pressure, temp, delta_t, atmos_refract, numthreads, sst, esd)\u001b[0m\n\u001b[1;32m   1147\u001b[0m     result = do_calc(unixtime, lat, lon, elev, pressure,\n\u001b[1;32m   1148\u001b[0m                      \u001b[0mtemp\u001b[0m\u001b[0;34m,\u001b[0m \u001b[0mdelta_t\u001b[0m\u001b[0;34m,\u001b[0m \u001b[0matmos_refract\u001b[0m\u001b[0;34m,\u001b[0m \u001b[0mnumthreads\u001b[0m\u001b[0;34m,\u001b[0m\u001b[0;34m\u001b[0m\u001b[0m\n\u001b[0;32m-> 1149\u001b[0;31m                      sst, esd)\n\u001b[0m\u001b[1;32m   1150\u001b[0m \u001b[0;34m\u001b[0m\u001b[0m\n\u001b[1;32m   1151\u001b[0m     \u001b[0;32mif\u001b[0m \u001b[0;32mnot\u001b[0m \u001b[0misinstance\u001b[0m\u001b[0;34m(\u001b[0m\u001b[0mresult\u001b[0m\u001b[0;34m,\u001b[0m \u001b[0mnp\u001b[0m\u001b[0;34m.\u001b[0m\u001b[0mndarray\u001b[0m\u001b[0;34m)\u001b[0m\u001b[0;34m:\u001b[0m\u001b[0;34m\u001b[0m\u001b[0m\n",
      "\u001b[0;32m~/anaconda3/lib/python3.7/site-packages/pvlib/spa.py\u001b[0m in \u001b[0;36msolar_position_numpy\u001b[0;34m(unixtime, lat, lon, elev, pressure, temp, delta_t, atmos_refract, numthreads, sst, esd)\u001b[0m\n\u001b[1;32m   1039\u001b[0m     \u001b[0mx3\u001b[0m \u001b[0;34m=\u001b[0m \u001b[0mmoon_argument_latitude\u001b[0m\u001b[0;34m(\u001b[0m\u001b[0mjce\u001b[0m\u001b[0;34m)\u001b[0m\u001b[0;34m\u001b[0m\u001b[0m\n\u001b[1;32m   1040\u001b[0m     \u001b[0mx4\u001b[0m \u001b[0;34m=\u001b[0m \u001b[0mmoon_ascending_longitude\u001b[0m\u001b[0;34m(\u001b[0m\u001b[0mjce\u001b[0m\u001b[0;34m)\u001b[0m\u001b[0;34m\u001b[0m\u001b[0m\n\u001b[0;32m-> 1041\u001b[0;31m     \u001b[0mdelta_psi\u001b[0m \u001b[0;34m=\u001b[0m \u001b[0mlongitude_nutation\u001b[0m\u001b[0;34m(\u001b[0m\u001b[0mjce\u001b[0m\u001b[0;34m,\u001b[0m \u001b[0mx0\u001b[0m\u001b[0;34m,\u001b[0m \u001b[0mx1\u001b[0m\u001b[0;34m,\u001b[0m \u001b[0mx2\u001b[0m\u001b[0;34m,\u001b[0m \u001b[0mx3\u001b[0m\u001b[0;34m,\u001b[0m \u001b[0mx4\u001b[0m\u001b[0;34m)\u001b[0m\u001b[0;34m\u001b[0m\u001b[0m\n\u001b[0m\u001b[1;32m   1042\u001b[0m     \u001b[0mdelta_epsilon\u001b[0m \u001b[0;34m=\u001b[0m \u001b[0mobliquity_nutation\u001b[0m\u001b[0;34m(\u001b[0m\u001b[0mjce\u001b[0m\u001b[0;34m,\u001b[0m \u001b[0mx0\u001b[0m\u001b[0;34m,\u001b[0m \u001b[0mx1\u001b[0m\u001b[0;34m,\u001b[0m \u001b[0mx2\u001b[0m\u001b[0;34m,\u001b[0m \u001b[0mx3\u001b[0m\u001b[0;34m,\u001b[0m \u001b[0mx4\u001b[0m\u001b[0;34m)\u001b[0m\u001b[0;34m\u001b[0m\u001b[0m\n\u001b[1;32m   1043\u001b[0m     \u001b[0mepsilon0\u001b[0m \u001b[0;34m=\u001b[0m \u001b[0mmean_ecliptic_obliquity\u001b[0m\u001b[0;34m(\u001b[0m\u001b[0mjme\u001b[0m\u001b[0;34m)\u001b[0m\u001b[0;34m\u001b[0m\u001b[0m\n",
      "\u001b[0;32m~/anaconda3/lib/python3.7/site-packages/pvlib/spa.py\u001b[0m in \u001b[0;36mlongitude_nutation\u001b[0;34m(julian_ephemeris_century, x0, x1, x2, x3, x4)\u001b[0m\n\u001b[1;32m    634\u001b[0m                   \u001b[0mNUTATION_YTERM_ARRAY\u001b[0m\u001b[0;34m[\u001b[0m\u001b[0mrow\u001b[0m\u001b[0;34m,\u001b[0m \u001b[0;36m2\u001b[0m\u001b[0;34m]\u001b[0m\u001b[0;34m*\u001b[0m\u001b[0mx2\u001b[0m \u001b[0;34m+\u001b[0m\u001b[0;34m\u001b[0m\u001b[0m\n\u001b[1;32m    635\u001b[0m                   \u001b[0mNUTATION_YTERM_ARRAY\u001b[0m\u001b[0;34m[\u001b[0m\u001b[0mrow\u001b[0m\u001b[0;34m,\u001b[0m \u001b[0;36m3\u001b[0m\u001b[0;34m]\u001b[0m\u001b[0;34m*\u001b[0m\u001b[0mx3\u001b[0m \u001b[0;34m+\u001b[0m\u001b[0;34m\u001b[0m\u001b[0m\n\u001b[0;32m--> 636\u001b[0;31m                   NUTATION_YTERM_ARRAY[row, 4]*x4)\n\u001b[0m\u001b[1;32m    637\u001b[0m         \u001b[0mterm\u001b[0m \u001b[0;34m=\u001b[0m \u001b[0;34m(\u001b[0m\u001b[0ma\u001b[0m \u001b[0;34m+\u001b[0m \u001b[0mb\u001b[0m \u001b[0;34m*\u001b[0m \u001b[0mjulian_ephemeris_century\u001b[0m\u001b[0;34m)\u001b[0m \u001b[0;34m*\u001b[0m \u001b[0mnp\u001b[0m\u001b[0;34m.\u001b[0m\u001b[0msin\u001b[0m\u001b[0;34m(\u001b[0m\u001b[0mnp\u001b[0m\u001b[0;34m.\u001b[0m\u001b[0mradians\u001b[0m\u001b[0;34m(\u001b[0m\u001b[0margsin\u001b[0m\u001b[0;34m)\u001b[0m\u001b[0;34m)\u001b[0m\u001b[0;34m\u001b[0m\u001b[0m\n\u001b[1;32m    638\u001b[0m         \u001b[0mdelta_psi_sum\u001b[0m \u001b[0;34m+=\u001b[0m \u001b[0mterm\u001b[0m\u001b[0;34m\u001b[0m\u001b[0m\n",
      "\u001b[0;31mKeyboardInterrupt\u001b[0m: "
     ]
    }
   ],
   "source": [
    "#test for steadyStateGA\n",
    "panelParams = [65, 39, 6, 6, 32, 72, -90, 90, 0, 360, 20, 90, 45]\n",
    "popSize = 100\n",
    "pm = 0.5\n",
    "numMutations = 10\n",
    "fitnessCountLimit = 3200\n",
    "attempts = 30\n",
    "checkIteration = 50\n",
    "conflictDeduction = 50\n",
    "\n",
    "\n",
    "bestDf, avgDf = steadyStateGA(panelParams, popSize, pm, numMutations, fitnessCountLimit, attempts, checkIteration, conflictDeduction)"
   ]
  },
  {
   "cell_type": "code",
   "execution_count": 0,
   "metadata": {
    "colab": {},
    "colab_type": "code",
    "id": "oYr1sGc_ZS48",
    "outputId": "06951552-090d-4000-8bb0-c2fa85847cd3"
   },
   "outputs": [
    {
     "data": {
      "text/html": [
       "<div>\n",
       "<style scoped>\n",
       "    .dataframe tbody tr th:only-of-type {\n",
       "        vertical-align: middle;\n",
       "    }\n",
       "\n",
       "    .dataframe tbody tr th {\n",
       "        vertical-align: top;\n",
       "    }\n",
       "\n",
       "    .dataframe thead th {\n",
       "        text-align: right;\n",
       "    }\n",
       "</style>\n",
       "<table border=\"1\" class=\"dataframe\">\n",
       "  <thead>\n",
       "    <tr style=\"text-align: right;\">\n",
       "      <th></th>\n",
       "      <th>best individuals</th>\n",
       "      <th>best Fitnesses</th>\n",
       "    </tr>\n",
       "  </thead>\n",
       "  <tbody>\n",
       "    <tr>\n",
       "      <th>0</th>\n",
       "      <td>[0, 1, 1, 0, 0, 0, 0, 0, 0, 0, 1, 1, 0, 0, 0, ...</td>\n",
       "      <td>666.399257</td>\n",
       "    </tr>\n",
       "    <tr>\n",
       "      <th>1</th>\n",
       "      <td>[0, 0, 0, 0, 0, 0, 0, 0, 0, 0, 0, 0, 0, 0, 0, ...</td>\n",
       "      <td>666.401727</td>\n",
       "    </tr>\n",
       "  </tbody>\n",
       "</table>\n",
       "</div>"
      ],
      "text/plain": [
       "                                    best individuals  best Fitnesses\n",
       "0  [0, 1, 1, 0, 0, 0, 0, 0, 0, 0, 1, 1, 0, 0, 0, ...      666.399257\n",
       "1  [0, 0, 0, 0, 0, 0, 0, 0, 0, 0, 0, 0, 0, 0, 0, ...      666.401727"
      ]
     },
     "execution_count": 3,
     "metadata": {
      "tags": []
     },
     "output_type": "execute_result"
    }
   ],
   "source": [
    "bestDf"
   ]
  },
  {
   "cell_type": "code",
   "execution_count": 0,
   "metadata": {
    "colab": {},
    "colab_type": "code",
    "id": "rmClzH8sZS5H",
    "outputId": "f2503b68-d726-47a7-d16f-f363cc5b7588"
   },
   "outputs": [
    {
     "data": {
      "text/html": [
       "<div>\n",
       "<style scoped>\n",
       "    .dataframe tbody tr th:only-of-type {\n",
       "        vertical-align: middle;\n",
       "    }\n",
       "\n",
       "    .dataframe tbody tr th {\n",
       "        vertical-align: top;\n",
       "    }\n",
       "\n",
       "    .dataframe thead th {\n",
       "        text-align: right;\n",
       "    }\n",
       "</style>\n",
       "<table border=\"1\" class=\"dataframe\">\n",
       "  <thead>\n",
       "    <tr style=\"text-align: right;\">\n",
       "      <th></th>\n",
       "      <th>iterations</th>\n",
       "      <th>1</th>\n",
       "      <th>2</th>\n",
       "    </tr>\n",
       "  </thead>\n",
       "  <tbody>\n",
       "    <tr>\n",
       "      <th>0</th>\n",
       "      <td>0</td>\n",
       "      <td>563.004289</td>\n",
       "      <td>516.076461</td>\n",
       "    </tr>\n",
       "  </tbody>\n",
       "</table>\n",
       "</div>"
      ],
      "text/plain": [
       "   iterations           1           2\n",
       "0           0  563.004289  516.076461"
      ]
     },
     "execution_count": 4,
     "metadata": {
      "tags": []
     },
     "output_type": "execute_result"
    }
   ],
   "source": [
    "avgDf"
   ]
  },
  {
   "cell_type": "code",
   "execution_count": 0,
   "metadata": {
    "colab": {},
    "colab_type": "code",
    "id": "spiuELSbZS5P"
   },
   "outputs": [],
   "source": [
    "bestDf.to_csv(path_or_buf=\"steadyStateBest.csv\")"
   ]
  },
  {
   "cell_type": "code",
   "execution_count": 0,
   "metadata": {
    "colab": {},
    "colab_type": "code",
    "id": "PI_uubfrZS5W"
   },
   "outputs": [],
   "source": [
    "avgDf.to_csv(path_or_buf=\"steadyStateAverage.csv\")"
   ]
  },
  {
   "cell_type": "code",
   "execution_count": 0,
   "metadata": {
    "colab": {},
    "colab_type": "code",
    "id": "-PlJMBMuZS5g"
   },
   "outputs": [],
   "source": []
  }
 ],
 "metadata": {
  "colab": {
   "name": "steadyStateGA.ipynb",
   "provenance": [],
   "version": "0.3.2"
  },
  "kernelspec": {
   "display_name": "Python 3",
   "language": "python",
   "name": "python3"
  },
  "language_info": {
   "codemirror_mode": {
    "name": "ipython",
    "version": 3
   },
   "file_extension": ".py",
   "mimetype": "text/x-python",
   "name": "python",
   "nbconvert_exporter": "python",
   "pygments_lexer": "ipython3",
   "version": "3.7.0"
  }
 },
 "nbformat": 4,
 "nbformat_minor": 1
}
